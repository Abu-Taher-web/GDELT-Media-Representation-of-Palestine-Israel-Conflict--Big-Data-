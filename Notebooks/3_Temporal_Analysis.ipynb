{
 "cells": [
  {
   "cell_type": "code",
   "execution_count": 1,
   "id": "84a3a1ff-53d1-4951-b9e8-45eb95dac9ea",
   "metadata": {},
   "outputs": [],
   "source": [
    "data_path = \"/home/jovyan/shared/David/gdelt_study_data/20250106/part-00000-44b31ecc-d942-4aaf-a6cd-172c5ad7b04d-c000.csv\"\n",
    "# shared/David/gdelt_study_data/20250106/part-00000-44b31ecc-d942-4aaf-a6cd-172c5ad7b04d-c000.csv"
   ]
  },
  {
   "cell_type": "code",
   "execution_count": 2,
   "id": "04c92722-1350-4178-9bcb-5c2f2f568b56",
   "metadata": {},
   "outputs": [],
   "source": [
    "%matplotlib inline\n",
    "%config InlineBackend.figure_format = 'retina'\n",
    "from IPython.core.interactiveshell import InteractiveShell\n",
    "InteractiveShell.ast_node_interactivity = \"all\"\n",
    "import sys\n",
    "from pyspark.sql import SparkSession\n",
    "import pandas as pd\n",
    "pd.set_option('display.max_rows', None) \n",
    "\n",
    "\n",
    "#parameter for master can be changed depending on the environment\n",
    "spark = SparkSession.builder \\\n",
    " .master(\"local\") \\\n",
    " .appName(\"GDELT-study\") \\\n",
    " .getOrCreate()"
   ]
  },
  {
   "cell_type": "code",
   "execution_count": 3,
   "id": "7ccd348e-ace4-44dd-ba6a-a438df53023e",
   "metadata": {},
   "outputs": [
    {
     "name": "stdout",
     "output_type": "stream",
     "text": [
      "-RECORD 0-------------------------------------------------------------------------------------------------------------------------------------------------------\n",
      " Cameo                 | MAKE PUBLIC STATEMENT                                                                                                                  \n",
      " Cameo_full            | Acknowledge or claim responsibility                                                                                                    \n",
      " GLOBALEVENTID         | 1218993708                                                                                                                             \n",
      " SQLDATE               | 20241230                                                                                                                               \n",
      " Actor1Name            | ISLAMIC                                                                                                                                \n",
      " Actor1Geo_FullName    | Jabalia, Gaza Strip (general), Gaza Strip                                                                                              \n",
      " Actor2Name            | MILITANT                                                                                                                               \n",
      " Actor2Geo_FullName    | Jabalia, Gaza Strip (general), Gaza Strip                                                                                              \n",
      " IsRootEvent           | 0                                                                                                                                      \n",
      " EventCode             | 015                                                                                                                                    \n",
      " EventBaseCode         | 015                                                                                                                                    \n",
      " QuadClass             | 1                                                                                                                                      \n",
      " GoldsteinScale        | 0.0                                                                                                                                    \n",
      " NumMentions           | 26                                                                                                                                     \n",
      " NumSources            | 12                                                                                                                                     \n",
      " NumArticles           | 26                                                                                                                                     \n",
      " AvgTone               | -6.2690714186828                                                                                                                       \n",
      " ActionGeo_Type        | 4                                                                                                                                      \n",
      " ActionGeo_FullName    | Jabalia, Gaza Strip (general), Gaza Strip                                                                                              \n",
      " ActionGeo_CountryCode | GZ                                                                                                                                     \n",
      " SOURCEURL             | https://www.stabroeknews.com/2025/01/05/news/guyana/hamas-and-israel-edge-towards-ceasefire-deal-as-israeli-strikes-in-gaza-intensify/ \n",
      "-RECORD 1-------------------------------------------------------------------------------------------------------------------------------------------------------\n",
      " Cameo                 | MAKE PUBLIC STATEMENT                                                                                                                  \n",
      " Cameo_full            | Acknowledge or claim responsibility                                                                                                    \n",
      " GLOBALEVENTID         | 1218993709                                                                                                                             \n",
      " SQLDATE               | 20241230                                                                                                                               \n",
      " Actor1Name            | GAZA                                                                                                                                   \n",
      " Actor1Geo_FullName    | Gaza, Israel (general), Israel                                                                                                         \n",
      " Actor2Name            | ISLAMIC                                                                                                                                \n",
      " Actor2Geo_FullName    | Gaza, Israel (general), Israel                                                                                                         \n",
      " IsRootEvent           | 0                                                                                                                                      \n",
      " EventCode             | 015                                                                                                                                    \n",
      " EventBaseCode         | 015                                                                                                                                    \n",
      " QuadClass             | 1                                                                                                                                      \n",
      " GoldsteinScale        | 0.0                                                                                                                                    \n",
      " NumMentions           | 13                                                                                                                                     \n",
      " NumSources            | 12                                                                                                                                     \n",
      " NumArticles           | 13                                                                                                                                     \n",
      " AvgTone               | -6.2690714186828                                                                                                                       \n",
      " ActionGeo_Type        | 4                                                                                                                                      \n",
      " ActionGeo_FullName    | Gaza, Israel (general), Israel                                                                                                         \n",
      " ActionGeo_CountryCode | IS                                                                                                                                     \n",
      " SOURCEURL             | https://www.stabroeknews.com/2025/01/05/news/guyana/hamas-and-israel-edge-towards-ceasefire-deal-as-israeli-strikes-in-gaza-intensify/ \n",
      "-RECORD 2-------------------------------------------------------------------------------------------------------------------------------------------------------\n",
      " Cameo                 | MAKE PUBLIC STATEMENT                                                                                                                  \n",
      " Cameo_full            | Acknowledge or claim responsibility                                                                                                    \n",
      " GLOBALEVENTID         | 1218993710                                                                                                                             \n",
      " SQLDATE               | 20241230                                                                                                                               \n",
      " Actor1Name            | GAZA                                                                                                                                   \n",
      " Actor1Geo_FullName    | Jabalia, Gaza Strip (general), Gaza Strip                                                                                              \n",
      " Actor2Name            | ISLAMIC                                                                                                                                \n",
      " Actor2Geo_FullName    | Jabalia, Gaza Strip (general), Gaza Strip                                                                                              \n",
      " IsRootEvent           | 0                                                                                                                                      \n",
      " EventCode             | 015                                                                                                                                    \n",
      " EventBaseCode         | 015                                                                                                                                    \n",
      " QuadClass             | 1                                                                                                                                      \n",
      " GoldsteinScale        | 0.0                                                                                                                                    \n",
      " NumMentions           | 26                                                                                                                                     \n",
      " NumSources            | 12                                                                                                                                     \n",
      " NumArticles           | 26                                                                                                                                     \n",
      " AvgTone               | -6.2690714186828                                                                                                                       \n",
      " ActionGeo_Type        | 4                                                                                                                                      \n",
      " ActionGeo_FullName    | Gaza, Israel (general), Israel                                                                                                         \n",
      " ActionGeo_CountryCode | IS                                                                                                                                     \n",
      " SOURCEURL             | https://www.stabroeknews.com/2025/01/05/news/guyana/hamas-and-israel-edge-towards-ceasefire-deal-as-israeli-strikes-in-gaza-intensify/ \n",
      "only showing top 3 rows\n",
      "\n"
     ]
    }
   ],
   "source": [
    "df = spark.read.csv(data_path, header=True)\n",
    "df.show(3,vertical=True,truncate=False )"
   ]
  },
  {
   "cell_type": "code",
   "execution_count": 4,
   "id": "265a4e5b-a08b-468a-8e9c-4771f195e685",
   "metadata": {},
   "outputs": [
    {
     "ename": "NameError",
     "evalue": "name 'to_date' is not defined",
     "output_type": "error",
     "traceback": [
      "\u001b[0;31m---------------------------------------------------------------------------\u001b[0m",
      "\u001b[0;31mNameError\u001b[0m                                 Traceback (most recent call last)",
      "Cell \u001b[0;32mIn[4], line 4\u001b[0m\n\u001b[1;32m      1\u001b[0m \u001b[38;5;66;03m# assume `df` is your filtered Spark DataFrame\u001b[39;00m\n\u001b[1;32m      2\u001b[0m df \u001b[38;5;241m=\u001b[39m (df\n\u001b[1;32m      3\u001b[0m       \u001b[38;5;66;03m# Parse SQLDATE (YYYYMMDD string) into true DateType\u001b[39;00m\n\u001b[0;32m----> 4\u001b[0m       \u001b[38;5;241m.\u001b[39mwithColumn(\u001b[38;5;124m\"\u001b[39m\u001b[38;5;124mdate\u001b[39m\u001b[38;5;124m\"\u001b[39m, \u001b[43mto_date\u001b[49m(col(\u001b[38;5;124m\"\u001b[39m\u001b[38;5;124mSQLDATE\u001b[39m\u001b[38;5;124m\"\u001b[39m), \u001b[38;5;124m\"\u001b[39m\u001b[38;5;124myyyyMMdd\u001b[39m\u001b[38;5;124m\"\u001b[39m))\n\u001b[1;32m      5\u001b[0m       \u001b[38;5;66;03m# Cast numeric fields\u001b[39;00m\n\u001b[1;32m      6\u001b[0m       \u001b[38;5;241m.\u001b[39mwithColumn(\u001b[38;5;124m\"\u001b[39m\u001b[38;5;124mAvgTone\u001b[39m\u001b[38;5;124m\"\u001b[39m, col(\u001b[38;5;124m\"\u001b[39m\u001b[38;5;124mAvgTone\u001b[39m\u001b[38;5;124m\"\u001b[39m)\u001b[38;5;241m.\u001b[39mcast(\u001b[38;5;124m\"\u001b[39m\u001b[38;5;124mdouble\u001b[39m\u001b[38;5;124m\"\u001b[39m))\n\u001b[1;32m      7\u001b[0m       \u001b[38;5;241m.\u001b[39mwithColumn(\u001b[38;5;124m\"\u001b[39m\u001b[38;5;124mNumMentions\u001b[39m\u001b[38;5;124m\"\u001b[39m, col(\u001b[38;5;124m\"\u001b[39m\u001b[38;5;124mNumMentions\u001b[39m\u001b[38;5;124m\"\u001b[39m)\u001b[38;5;241m.\u001b[39mcast(\u001b[38;5;124m\"\u001b[39m\u001b[38;5;124mint\u001b[39m\u001b[38;5;124m\"\u001b[39m))\n\u001b[1;32m      8\u001b[0m       \u001b[38;5;241m.\u001b[39mwithColumn(\u001b[38;5;124m\"\u001b[39m\u001b[38;5;124mGoldsteinScale\u001b[39m\u001b[38;5;124m\"\u001b[39m, col(\u001b[38;5;124m\"\u001b[39m\u001b[38;5;124mGoldsteinScale\u001b[39m\u001b[38;5;124m\"\u001b[39m)\u001b[38;5;241m.\u001b[39mcast(\u001b[38;5;124m\"\u001b[39m\u001b[38;5;124mdouble\u001b[39m\u001b[38;5;124m\"\u001b[39m))\n\u001b[1;32m      9\u001b[0m      )\n",
      "\u001b[0;31mNameError\u001b[0m: name 'to_date' is not defined"
     ]
    }
   ],
   "source": [
    "# assume `df` is your filtered Spark DataFrame\n",
    "df = (df\n",
    "      # Parse SQLDATE (YYYYMMDD string) into true DateType\n",
    "      .withColumn(\"date\", to_date(col(\"SQLDATE\"), \"yyyyMMdd\"))\n",
    "      # Cast numeric fields\n",
    "      .withColumn(\"AvgTone\", col(\"AvgTone\").cast(\"double\"))\n",
    "      .withColumn(\"NumMentions\", col(\"NumMentions\").cast(\"int\"))\n",
    "      .withColumn(\"GoldsteinScale\", col(\"GoldsteinScale\").cast(\"double\"))\n",
    "     )"
   ]
  },
  {
   "cell_type": "code",
   "execution_count": null,
   "id": "7ede89f2-d4d0-4312-8efe-a376da0bb9f9",
   "metadata": {},
   "outputs": [],
   "source": [
    "df.show(3,vertical=True,truncate=False )"
   ]
  },
  {
   "cell_type": "code",
   "execution_count": null,
   "id": "f904cbcc-d420-48ab-887f-bf295eda0b00",
   "metadata": {},
   "outputs": [],
   "source": [
    "# Show them in the console, sorted\n",
    "df.select(\"SQLDATE\") \\\n",
    "  .distinct() \\\n",
    "  .orderBy(\"SQLDATE\") \\\n",
    "  .show(truncate=False)\n"
   ]
  },
  {
   "cell_type": "markdown",
   "id": "62bfc58d-d673-48ad-bd6d-ea18726ad21f",
   "metadata": {},
   "source": [
    "# 1. Event-Type Time Series"
   ]
  },
  {
   "cell_type": "code",
   "execution_count": 5,
   "id": "03e170d3-8f46-4ad4-b764-863de86c9a0f",
   "metadata": {},
   "outputs": [
    {
     "ename": "NameError",
     "evalue": "name 'count' is not defined",
     "output_type": "error",
     "traceback": [
      "\u001b[0;31m---------------------------------------------------------------------------\u001b[0m",
      "\u001b[0;31mNameError\u001b[0m                                 Traceback (most recent call last)",
      "Cell \u001b[0;32mIn[5], line 4\u001b[0m\n\u001b[1;32m      1\u001b[0m \u001b[38;5;66;03m# 1) Count events per day × EventBaseCode\u001b[39;00m\n\u001b[1;32m      2\u001b[0m ts_spark \u001b[38;5;241m=\u001b[39m (df\n\u001b[1;32m      3\u001b[0m     \u001b[38;5;241m.\u001b[39mgroupBy(\u001b[38;5;124m\"\u001b[39m\u001b[38;5;124mdate\u001b[39m\u001b[38;5;124m\"\u001b[39m, \u001b[38;5;124m\"\u001b[39m\u001b[38;5;124mEventBaseCode\u001b[39m\u001b[38;5;124m\"\u001b[39m)\n\u001b[0;32m----> 4\u001b[0m     \u001b[38;5;241m.\u001b[39magg(\u001b[43mcount\u001b[49m(\u001b[38;5;124m\"\u001b[39m\u001b[38;5;124m*\u001b[39m\u001b[38;5;124m\"\u001b[39m)\u001b[38;5;241m.\u001b[39malias(\u001b[38;5;124m\"\u001b[39m\u001b[38;5;124mcnt\u001b[39m\u001b[38;5;124m\"\u001b[39m)))\n\u001b[1;32m      6\u001b[0m \u001b[38;5;66;03m# 2) Pivot to wide format, fill missing with zero\u001b[39;00m\n\u001b[1;32m      7\u001b[0m ts_wide \u001b[38;5;241m=\u001b[39m (ts_spark\n\u001b[1;32m      8\u001b[0m     \u001b[38;5;241m.\u001b[39mgroupBy(\u001b[38;5;124m\"\u001b[39m\u001b[38;5;124mdate\u001b[39m\u001b[38;5;124m\"\u001b[39m)\n\u001b[1;32m      9\u001b[0m     \u001b[38;5;241m.\u001b[39mpivot(\u001b[38;5;124m\"\u001b[39m\u001b[38;5;124mEventBaseCode\u001b[39m\u001b[38;5;124m\"\u001b[39m)\n\u001b[1;32m     10\u001b[0m     \u001b[38;5;241m.\u001b[39magg(_sum(\u001b[38;5;124m\"\u001b[39m\u001b[38;5;124mcnt\u001b[39m\u001b[38;5;124m\"\u001b[39m))\n\u001b[1;32m     11\u001b[0m     \u001b[38;5;241m.\u001b[39mna\u001b[38;5;241m.\u001b[39mfill(\u001b[38;5;241m0\u001b[39m)\n\u001b[1;32m     12\u001b[0m     \u001b[38;5;241m.\u001b[39morderBy(\u001b[38;5;124m\"\u001b[39m\u001b[38;5;124mdate\u001b[39m\u001b[38;5;124m\"\u001b[39m))\n",
      "\u001b[0;31mNameError\u001b[0m: name 'count' is not defined"
     ]
    }
   ],
   "source": [
    "# 1) Count events per day × EventBaseCode\n",
    "ts_spark = (df\n",
    "    .groupBy(\"date\", \"EventBaseCode\")\n",
    "    .agg(count(\"*\").alias(\"cnt\")))\n",
    "\n",
    "# 2) Pivot to wide format, fill missing with zero\n",
    "ts_wide = (ts_spark\n",
    "    .groupBy(\"date\")\n",
    "    .pivot(\"EventBaseCode\")\n",
    "    .agg(_sum(\"cnt\"))\n",
    "    .na.fill(0)\n",
    "    .orderBy(\"date\"))\n",
    "\n",
    "# 3) Collect to Pandas for plotting\n",
    "ts_pd = ts_wide.toPandas().set_index(\"date\")\n",
    "\n",
    "# 4) Plot\n",
    "plt.figure(figsize=(12,6))\n",
    "for code in ts_pd.columns:\n",
    "    plt.plot(ts_pd.index, ts_pd[code], label=code)\n",
    "plt.legend(title=\"BaseCode\")\n",
    "plt.title(\"Daily Events by CAMEO BaseCode\")\n",
    "plt.ylabel(\"Count\")\n",
    "plt.xlabel(\"Date\")\n",
    "plt.tight_layout()\n",
    "plt.show()\n"
   ]
  },
  {
   "cell_type": "code",
   "execution_count": null,
   "id": "530ed217-c929-4eda-ba57-62040a8ebbad",
   "metadata": {},
   "outputs": [],
   "source": [
    "#2. Geospatial Heatmap (Country-Level)"
   ]
  },
  {
   "cell_type": "code",
   "execution_count": null,
   "id": "71bafa0c-d5ec-4211-ab6b-d855b4157bf2",
   "metadata": {},
   "outputs": [],
   "source": [
    "!pip install geodatasets\n"
   ]
  },
  {
   "cell_type": "code",
   "execution_count": null,
   "id": "ffb63dd9-8ee9-4620-aabf-e2d84db5e0f0",
   "metadata": {},
   "outputs": [],
   "source": [
    "geo_pd = df.select(\"ActionGeo_CountryCode\").groupby(\"ActionGeo_CountryCode\").count().toPandas()\n",
    "geo_pd = geo_pd.rename(columns={\"count\": \"cnt\"})\n"
   ]
  },
  {
   "cell_type": "code",
   "execution_count": null,
   "id": "745348e1-fad6-446b-9679-71d330b9c108",
   "metadata": {},
   "outputs": [],
   "source": [
    "import pycountry\n",
    "\n",
    "def alpha2_to_alpha3(code):\n",
    "    try:\n",
    "        return pycountry.countries.get(alpha_2=code).alpha_3\n",
    "    except:\n",
    "        return None\n",
    "\n",
    "geo_pd[\"ActionGeo_CountryCode\"] = geo_pd[\"ActionGeo_CountryCode\"].apply(alpha2_to_alpha3)\n"
   ]
  },
  {
   "cell_type": "code",
   "execution_count": null,
   "id": "da5bee37-ac15-4948-be95-0426dda61ec9",
   "metadata": {},
   "outputs": [],
   "source": [
    "import geopandas as gpd\n",
    "import matplotlib.pyplot as plt\n",
    "\n",
    "# Path to shapefile\n",
    "shapefile_path = \"naturalearth_lowres/ne_110m_admin_0_countries.shp\"\n",
    "\n",
    "# Read shapefile\n",
    "world = gpd.read_file(shapefile_path)\n",
    "\n",
    "# Merge\n",
    "gdf = world.merge(geo_pd, left_on=\"SOV_A3\", right_on=\"ActionGeo_CountryCode\", how=\"right\")\n",
    "\n",
    "# Plot\n",
    "ax = gdf.plot(column=\"cnt\", cmap=\"OrRd\", legend=True, figsize=(12,8), edgecolor=\"black\")\n",
    "ax.set_title(\"Event Volume by Country\", fontsize=15)\n",
    "ax.set_axis_off()\n",
    "plt.show()\n"
   ]
  },
  {
   "cell_type": "code",
   "execution_count": null,
   "id": "f38e6aef-098b-4b9f-b131-473809a1645e",
   "metadata": {},
   "outputs": [],
   "source": [
    "fig, ax = plt.subplots(1, 1, figsize=(15, 10))\n",
    "world.boundary.plot(ax=ax, linewidth=1, color=\"black\")\n",
    "gdf.plot(column=\"cnt\", cmap=\"OrRd\", legend=True, ax=ax, edgecolor=\"black\")\n",
    "ax.set_facecolor('lightblue')\n",
    "ax.set_title(\"Event Volume by Country\", fontsize=18)\n",
    "ax.set_axis_off()\n",
    "plt.show()\n"
   ]
  },
  {
   "cell_type": "code",
   "execution_count": null,
   "id": "32cd8ef5-f3a7-4e0a-ab45-171e89abc0d1",
   "metadata": {},
   "outputs": [],
   "source": [
    "# 3. Actor-Network Analysis"
   ]
  },
  {
   "cell_type": "code",
   "execution_count": null,
   "id": "2b4bb525-ee80-40a7-9fa7-27f1ab52a597",
   "metadata": {},
   "outputs": [],
   "source": [
    "# build edge list in Spark\n",
    "edges_spark = (df\n",
    "  .groupBy(\"Actor1Name\",\"Actor2Name\")\n",
    "  .agg(count(\"*\").alias(\"weight\"))\n",
    "  .filter(col(\"Actor1Name\").isNotNull() & col(\"Actor2Name\").isNotNull())\n",
    ")\n",
    "\n",
    "# collect to pandas for NetworkX\n",
    "edges_pd = edges_spark.toPandas()\n",
    "edges_pd.head(5)\n",
    "\n",
    "import networkx as nx\n",
    "G = nx.from_pandas_edgelist(edges_pd, \"Actor1Name\", \"Actor2Name\", edge_attr=\"weight\", create_using=nx.DiGraph())\n",
    "\n",
    "pos = nx.spring_layout(G, k=0.5, seed=42)\n",
    "plt.figure(figsize=(12,12))\n",
    "nx.draw_networkx_nodes(G, pos,\n",
    "                       node_size=[200 + 20*deg for _,deg in G.degree()])\n",
    "nx.draw_networkx_edges(G, pos,\n",
    "                       width=[d[\"weight\"]/edges_pd.weight.max()*5 for u,v,d in G.edges(data=True)],\n",
    "                       arrowstyle=\"->\", arrowsize=8)\n",
    "nx.draw_networkx_labels(G, pos, font_size=8)\n",
    "plt.title(\"Actor Interaction Network\")\n",
    "plt.axis(\"off\")\n",
    "plt.show()\n"
   ]
  },
  {
   "cell_type": "code",
   "execution_count": null,
   "id": "2a76f9ec-d127-42f3-9dda-61fc71ea614d",
   "metadata": {},
   "outputs": [],
   "source": [
    "import networkx as nx\n",
    "import matplotlib.pyplot as plt\n",
    "\n",
    "# 1) Compute degree centrality\n",
    "deg = nx.degree_centrality(G)\n",
    "# 2) Select top 20 actors\n",
    "top20 = sorted(deg, key=deg.get, reverse=True)[:20]\n",
    "# 3) Build the subgraph\n",
    "subG = G.subgraph(top20)\n",
    "\n",
    "# 4) Draw it\n",
    "pos = nx.spring_layout(subG, seed=42)\n",
    "plt.figure(figsize=(8,8))\n",
    "nx.draw_networkx_nodes(subG, pos, node_size=500, node_color='skyblue')\n",
    "nx.draw_networkx_edges(subG, pos, arrowsize=10, width=1)\n",
    "nx.draw_networkx_labels(subG, pos, font_size=9)\n",
    "plt.title(\"Subgraph of Top 20 Actors by Degree Centrality\")\n",
    "plt.axis('off')\n",
    "plt.show()\n"
   ]
  },
  {
   "cell_type": "code",
   "execution_count": null,
   "id": "5da3a3a1-8186-45a4-af11-50d91602e20d",
   "metadata": {},
   "outputs": [],
   "source": []
  },
  {
   "cell_type": "code",
   "execution_count": 6,
   "id": "b42e76fc-9bb1-4658-a669-1d76854cce94",
   "metadata": {},
   "outputs": [
    {
     "ename": "NameError",
     "evalue": "name 'G' is not defined",
     "output_type": "error",
     "traceback": [
      "\u001b[0;31m---------------------------------------------------------------------------\u001b[0m",
      "\u001b[0;31mNameError\u001b[0m                                 Traceback (most recent call last)",
      "Cell \u001b[0;32mIn[6], line 2\u001b[0m\n\u001b[1;32m      1\u001b[0m \u001b[38;5;66;03m# e.g. keep only edges with weight ≥ 10\u001b[39;00m\n\u001b[0;32m----> 2\u001b[0m heavy_edges \u001b[38;5;241m=\u001b[39m [(u,v) \u001b[38;5;28;01mfor\u001b[39;00m u,v,d \u001b[38;5;129;01min\u001b[39;00m \u001b[43mG\u001b[49m\u001b[38;5;241m.\u001b[39medges(data\u001b[38;5;241m=\u001b[39m\u001b[38;5;28;01mTrue\u001b[39;00m) \u001b[38;5;28;01mif\u001b[39;00m d[\u001b[38;5;124m'\u001b[39m\u001b[38;5;124mweight\u001b[39m\u001b[38;5;124m'\u001b[39m]\u001b[38;5;241m>\u001b[39m\u001b[38;5;241m=\u001b[39m\u001b[38;5;241m30\u001b[39m]\n\u001b[1;32m      3\u001b[0m H \u001b[38;5;241m=\u001b[39m G\u001b[38;5;241m.\u001b[39medge_subgraph(heavy_edges)\u001b[38;5;241m.\u001b[39mcopy()\n\u001b[1;32m      5\u001b[0m pos \u001b[38;5;241m=\u001b[39m nx\u001b[38;5;241m.\u001b[39mspring_layout(H, seed\u001b[38;5;241m=\u001b[39m\u001b[38;5;241m42\u001b[39m)\n",
      "\u001b[0;31mNameError\u001b[0m: name 'G' is not defined"
     ]
    }
   ],
   "source": [
    "# e.g. keep only edges with weight ≥ 10\n",
    "heavy_edges = [(u,v) for u,v,d in G.edges(data=True) if d['weight']>=30]\n",
    "H = G.edge_subgraph(heavy_edges).copy()\n",
    "\n",
    "pos = nx.spring_layout(H, seed=42)\n",
    "plt.figure(figsize=(8,8))\n",
    "nx.draw(H, pos, with_labels=True, node_size=300, font_size=8)\n",
    "plt.title(\"Actor Network: Only Edges ≥ 10 Events\")\n",
    "plt.show()\n"
   ]
  },
  {
   "cell_type": "code",
   "execution_count": null,
   "id": "b967580c-83ca-4122-a0dc-bf6317216813",
   "metadata": {},
   "outputs": [],
   "source": [
    "!pip install community"
   ]
  },
  {
   "cell_type": "code",
   "execution_count": null,
   "id": "ec38e0ca-0e42-46d8-806e-8d1d3bf4b4fd",
   "metadata": {},
   "outputs": [],
   "source": [
    "from networkx.algorithms.community import greedy_modularity_communities\n",
    "\n",
    "# Pick a subgraph to keep it small, e.g. top 50 by degree:\n",
    "deg = nx.degree_centrality(G)\n",
    "top50 = sorted(deg, key=deg.get, reverse=True)[:50]\n",
    "subG = G.subgraph(top50)\n",
    "\n",
    "# Find communities\n",
    "communities = list(greedy_modularity_communities(subG))\n",
    "\n",
    "# Build a node→communityID mapping\n",
    "partition = {}\n",
    "for i, comm in enumerate(communities):\n",
    "    for node in comm:\n",
    "        partition[node] = i\n",
    "\n",
    "# Now you can color by partition exactly as before:\n",
    "pos = nx.spring_layout(subG, seed=42)\n",
    "plt.figure(figsize=(8,8))\n",
    "colors = [partition[n] for n in subG.nodes()]\n",
    "nx.draw_networkx(subG, pos,\n",
    "                 node_color=colors,\n",
    "                 cmap=plt.cm.tab20,\n",
    "                 node_size=300,\n",
    "                 font_size=8,\n",
    "                 arrows=False)\n",
    "plt.title(\"Top 50 Actors, Colored by Community (NetworkX greedy_modularity)\")\n",
    "plt.axis(\"off\")\n",
    "plt.show()\n"
   ]
  },
  {
   "cell_type": "code",
   "execution_count": null,
   "id": "ad834a7b-1337-476d-b588-90202bf64740",
   "metadata": {},
   "outputs": [],
   "source": [
    "!pip install pyvis"
   ]
  },
  {
   "cell_type": "code",
   "execution_count": null,
   "id": "41a38091-1905-4449-83b7-0f894a70c9b4",
   "metadata": {},
   "outputs": [],
   "source": [
    "from pyvis.network import Network\n",
    "\n",
    "net = Network(height=\"750px\", width=\"100%\", notebook=True)\n",
    "net.from_nx(subG)   # or from any filtered subgraph\n",
    "net.show(\"actor_network.html\")\n"
   ]
  },
  {
   "cell_type": "code",
   "execution_count": null,
   "id": "c1ef172b-ec9e-45cd-b61f-324bbeb2d669",
   "metadata": {},
   "outputs": [],
   "source": [
    "import pandas as pd\n",
    "\n",
    "# edges_pd is your pandas edge list\n",
    "top_pairs = edges_pd.sort_values(\"weight\", ascending=False).head(20)\n",
    "print(top_pairs)\n"
   ]
  },
  {
   "cell_type": "code",
   "execution_count": null,
   "id": "73bbc09b-16fa-4c59-a8d8-e91071a60555",
   "metadata": {},
   "outputs": [],
   "source": []
  },
  {
   "cell_type": "code",
   "execution_count": null,
   "id": "4ee6c1cc-1e66-48dd-8486-316d305be7d2",
   "metadata": {},
   "outputs": [],
   "source": [
    "# 4. Tone & Sentiment Trends"
   ]
  },
  {
   "cell_type": "code",
   "execution_count": null,
   "id": "9da10221-4324-4d56-afa7-8c7d036e9820",
   "metadata": {},
   "outputs": [],
   "source": [
    "# compute daily average tone then rolling mean in pandas\n",
    "tone_spark = (df\n",
    "  .groupBy(\"date\")\n",
    "  .agg(mean(\"AvgTone\").alias(\"avg_tone\"))\n",
    "  .orderBy(\"date\")\n",
    ")\n",
    "tone_pd = tone_spark.toPandas().set_index(\"date\")\n",
    "tone_pd[\"rolling7\"] = tone_pd[\"avg_tone\"].rolling(7, center=True).mean()\n",
    "\n",
    "# plot\n",
    "plt.figure(figsize=(10,5))\n",
    "plt.plot(tone_pd.index, tone_pd[\"rolling7\"])\n",
    "plt.title(\"7-Day Rolling Average Tone\")\n",
    "plt.ylabel(\"AvgTone\")\n",
    "plt.xlabel(\"Date\")\n",
    "plt.tight_layout()\n",
    "plt.show()\n"
   ]
  },
  {
   "cell_type": "code",
   "execution_count": null,
   "id": "9161c733-e662-4f07-b840-ce3df922444a",
   "metadata": {},
   "outputs": [],
   "source": [
    "# 5. Theme & Keyword Co-Occurrence (with GKG join)"
   ]
  },
  {
   "cell_type": "code",
   "execution_count": null,
   "id": "8fb797b6-07c4-45dd-b981-d76c636fc77c",
   "metadata": {},
   "outputs": [],
   "source": [
    "# assume you loaded GKG as spark_df_gkg with columns GLOBALEVENTID, V2Themes\n",
    "joined = df.join(spark_df_gkg.select(\"GLOBALEVENTID\",\"V2Themes\"),\n",
    "                 \"GLOBALEVENTID\", \"inner\")\n",
    "\n",
    "# split themes and explode\n",
    "from pyspark.sql.functions import split, explode\n",
    "themes_exploded = joined.withColumn(\"theme\", explode(split(col(\"V2Themes\"),\";\")))\n",
    "\n",
    "# build co-occurrence matrix via DataFrame then to pandas\n",
    "pairs = (themes_exploded\n",
    "  .select(\"GLOBALEVENTID\",\"theme\")\n",
    "  .distinct()\n",
    ")\n",
    "\n",
    "# create theme-event pivot\n",
    "pivot = (pairs.groupBy(\"theme\")\n",
    "         .pivot(\"GLOBALEVENTID\")\n",
    "         .agg(_sum(col(\"theme\").isNotNull().cast(\"int\")))\n",
    "         .na.fill(0))\n",
    "\n",
    "cooc_pd = pivot.toPandas().set_index(\"theme\")\n",
    "cooc_mat = cooc_pd.dot(cooc_pd.T)\n",
    "\n",
    "# plot top-10 heatmap\n",
    "top10 = cooc_mat.sum(axis=1).nlargest(10).index\n",
    "import seaborn as sns\n",
    "plt.figure(figsize=(8,6))\n",
    "sns.heatmap(cooc_mat.loc[top10, top10], annot=True, fmt=\"d\", cmap=\"Blues\")\n",
    "plt.title(\"Theme Co-occurrence (Top 10)\")\n",
    "plt.show()\n"
   ]
  },
  {
   "cell_type": "code",
   "execution_count": null,
   "id": "dd07db01-a416-4132-83a9-98314dda2c0e",
   "metadata": {},
   "outputs": [],
   "source": [
    "# 6. Burst Detection & Change-Point Analysis"
   ]
  },
  {
   "cell_type": "code",
   "execution_count": null,
   "id": "a20502d1-0088-4998-ad6c-f26a250fc746",
   "metadata": {},
   "outputs": [],
   "source": [
    "!pip install ruptures"
   ]
  },
  {
   "cell_type": "code",
   "execution_count": null,
   "id": "e5595e46-b8e5-4cba-b721-9e38ead653eb",
   "metadata": {},
   "outputs": [],
   "source": [
    "# get daily counts of a given base code, e.g. '18'\n",
    "signal_spark = (df.filter(col(\"EventBaseCode\")==\"18\")\n",
    "  .groupBy(\"date\")\n",
    "  .agg(count(\"*\").alias(\"cnt\"))\n",
    "  .orderBy(\"date\")\n",
    ")\n",
    "signal_pd = signal_spark.toPandas().set_index(\"date\")[\"cnt\"].reindex(tone_pd.index, fill_value=0)\n",
    "\n",
    "import ruptures as rpt\n",
    "signal = signal_pd.values\n",
    "algo = rpt.Pelt(model=\"rbf\").fit(signal)\n",
    "change_points = algo.predict(pen=3)\n",
    "\n",
    "plt.figure(figsize=(10,4))\n",
    "plt.plot(signal_pd.index, signal, label=\"Daily Violent Clashes\")\n",
    "for cp in change_points:\n",
    "    plt.axvline(signal_pd.index[cp-1], color=\"r\", ls=\"--\")\n",
    "plt.title(\"Change-Points in Violent Clashes\")\n",
    "plt.legend()\n",
    "plt.show()\n"
   ]
  },
  {
   "cell_type": "code",
   "execution_count": null,
   "id": "b2e8b70e-a4aa-47f6-829b-a674344c3cfe",
   "metadata": {},
   "outputs": [],
   "source": [
    "# 7. Comparative Coverage Intensity"
   ]
  },
  {
   "cell_type": "code",
   "execution_count": null,
   "id": "e9a5e605-6005-4a0e-8af0-1e8f0cb223e1",
   "metadata": {},
   "outputs": [],
   "source": [
    "# assume all_df is the full GDELT year DataFrame with same date col\n",
    "total_spark = df.groupBy(\"date\").agg(count(\"*\").alias(\"total\"))\n",
    "isp_spark   = df.groupBy(\"date\").agg(count(\"*\").alias(\"isp\"))\n",
    "\n",
    "share_spark = isp_spark.join(total_spark, \"date\") \\\n",
    "                       .withColumn(\"share\", col(\"isp\")/col(\"total\")) \\\n",
    "                       .orderBy(\"date\")\n",
    "\n",
    "share_pd = share_spark.toPandas().set_index(\"date\")[\"share\"]\n",
    "\n",
    "plt.figure(figsize=(10,5))\n",
    "plt.plot(share_pd.index, share_pd)\n",
    "plt.title(\"Share of GDELT Coverage: Israel–Palestine\")\n",
    "plt.ylabel(\"Proportion\")\n",
    "plt.xlabel(\"Date\")\n",
    "plt.tight_layout()\n",
    "plt.show()\n"
   ]
  },
  {
   "cell_type": "code",
   "execution_count": null,
   "id": "872cccf7-7040-4baa-b643-9873a38d4c8d",
   "metadata": {},
   "outputs": [],
   "source": [
    "# 8. Predictive Modeling (Prophet)"
   ]
  },
  {
   "cell_type": "code",
   "execution_count": null,
   "id": "2a360e6d-4ae0-4f72-a4c6-1bf31873f7ed",
   "metadata": {},
   "outputs": [],
   "source": [
    "!pip install prophet"
   ]
  },
  {
   "cell_type": "code",
   "execution_count": null,
   "id": "5209d1c1-dc22-42a8-9181-f03d041e24cc",
   "metadata": {},
   "outputs": [],
   "source": [
    "from prophet import Prophet\n",
    "\n",
    "# daily counts of protests (base 14)\n",
    "protest_spark = (df.filter(col(\"EventBaseCode\")==\"14\")\n",
    "  .groupBy(\"date\")\n",
    "  .agg(count(\"*\").alias(\"y\"))\n",
    "  .withColumnRenamed(\"date\",\"ds\")\n",
    "  .orderBy(\"ds\")\n",
    ")\n",
    "prophet_pd = protest_spark.toPandas()\n",
    "\n",
    "m = Prophet()\n",
    "m.fit(prophet_pd)\n",
    "future = m.make_future_dataframe(periods=30)\n",
    "forecast = m.predict(future)\n",
    "\n",
    "fig = m.plot(forecast)\n",
    "fig.suptitle(\"Forecast of Daily Protests (CAMEO 14)\")\n",
    "plt.show()\n"
   ]
  },
  {
   "cell_type": "code",
   "execution_count": null,
   "id": "8a363db7-80bd-4506-9e9a-3ebf5b9d6410",
   "metadata": {},
   "outputs": [],
   "source": [
    "# 9. Sentiment by Region"
   ]
  },
  {
   "cell_type": "code",
   "execution_count": null,
   "id": "6619410b-08ab-4637-82aa-fde8b5ec4243",
   "metadata": {},
   "outputs": [],
   "source": [
    "region_tone = (df\n",
    "    .groupBy(\"ActionGeo_CountryCode\")\n",
    "    .agg(mean(\"AvgTone\").alias(\"mean_tone\"))\n",
    "    .orderBy(\"mean_tone\")\n",
    ")\n",
    "rt_pd = region_tone.toPandas().set_index(\"ActionGeo_CountryCode\")[\"mean_tone\"]\n",
    "\n",
    "plt.figure(figsize=(8,4))\n",
    "rt_pd.plot(kind=\"bar\")\n",
    "plt.title(\"Mean Tone by Country\")\n",
    "plt.ylabel(\"AvgTone\")\n",
    "plt.xlabel(\"Country Code\")\n",
    "plt.xticks(rotation=0)\n",
    "plt.tight_layout()\n",
    "plt.show()\n"
   ]
  },
  {
   "cell_type": "code",
   "execution_count": null,
   "id": "4213de28-cecb-4c93-8b98-3d198a257ff0",
   "metadata": {},
   "outputs": [],
   "source": [
    "# 10. Casualty & Damage Proxy Analysis"
   ]
  },
  {
   "cell_type": "code",
   "execution_count": null,
   "id": "a24e8d81-d063-457c-b195-7175ed0c550a",
   "metadata": {},
   "outputs": [],
   "source": [
    "from pyspark.sql.functions import col, lower, when, to_date, count, sum as _sum\n",
    "import matplotlib.pyplot as plt\n",
    "\n",
    "# 1) Ensure you have the date column\n",
    "df = df.withColumn(\"date\", to_date(col(\"SQLDATE\"), \"yyyyMMdd\"))\n",
    "\n",
    "# 2) Define proxy flags based on keywords in Cameo_full\n",
    "df_proxy = (\n",
    "    df\n",
    "    .withColumn(\"killed\",  when(lower(col(\"Cameo_full\")).rlike(r\"kill|assassin|execute\"), 1).otherwise(0))\n",
    "    .withColumn(\"wounded\", when(lower(col(\"Cameo_full\")).rlike(r\"wound|injur\"), 1).otherwise(0))\n",
    "    .withColumn(\"damage\",  when(lower(col(\"Cameo_full\")).rlike(r\"destroy|damage|attack\"), 1).otherwise(0))\n",
    ")\n",
    "\n",
    "# 3) Aggregate daily sums of each proxy\n",
    "daily_proxy_spark = (\n",
    "    df_proxy\n",
    "      .groupBy(\"date\")\n",
    "      .agg(\n",
    "        _sum(\"killed\").alias(\"killed\"),\n",
    "        _sum(\"wounded\").alias(\"wounded\"),\n",
    "        _sum(\"damage\").alias(\"damage\")\n",
    "      )\n",
    "      .orderBy(\"date\")\n",
    ")\n",
    "\n",
    "# 4) Convert to Pandas for plotting\n",
    "daily_proxy_pd = daily_proxy_spark.toPandas().set_index(\"date\")\n",
    "\n",
    "# 5) Plot time series of the three proxies\n",
    "plt.figure(figsize=(12,6))\n",
    "for colname in [\"killed\", \"wounded\", \"damage\"]:\n",
    "    plt.plot(daily_proxy_pd.index, daily_proxy_pd[colname], label=colname.capitalize())\n",
    "plt.title(\"Daily Proxy Counts for Casualties & Damage\")\n",
    "plt.xlabel(\"Date\")\n",
    "plt.ylabel(\"Count of Events with Key Term\")\n",
    "plt.legend()\n",
    "plt.tight_layout()\n",
    "plt.show()\n"
   ]
  },
  {
   "cell_type": "code",
   "execution_count": null,
   "id": "2b3a6772-c756-4dfa-8cc2-4670b6f29e07",
   "metadata": {},
   "outputs": [],
   "source": []
  },
  {
   "cell_type": "code",
   "execution_count": null,
   "id": "ae25d16f-4156-4e42-9593-672171676f22",
   "metadata": {},
   "outputs": [],
   "source": [
    "# count all “kill” events (CAMEO codes ending in “91”) …\n",
    "kills = df.filter(col(\"EventCode\").endswith(\"91\"))\n",
    "# … broken out by actor-pair direction:\n",
    "kills_dir = (kills\n",
    "  .groupBy(\"Actor1Name\",\"Actor2Name\")\n",
    "  .agg(count(\"*\").alias(\"num_kills\")))\n"
   ]
  },
  {
   "cell_type": "code",
   "execution_count": null,
   "id": "ced6c390-1877-4fda-80b6-cbc1dab6fb7b",
   "metadata": {},
   "outputs": [],
   "source": [
    "kills_dir.show()"
   ]
  },
  {
   "cell_type": "code",
   "execution_count": null,
   "id": "7ff9f2c0-0192-4f78-aeb9-c4cda80b0c56",
   "metadata": {},
   "outputs": [],
   "source": [
    "tone_dir = (df\n",
    "  .groupBy(\"Actor1Name\",\"Actor2Name\")\n",
    "  .agg(\n",
    "    avg(\"AvgTone\").alias(\"mean_tone\"),\n",
    "    count(\"*\").alias(\"n_events\")\n",
    "  ))\n",
    "# then filter for the two directions you care about\n",
    "tone_dir.show()"
   ]
  },
  {
   "cell_type": "code",
   "execution_count": null,
   "id": "252cb01a-1026-47b9-a26f-402a71bb913b",
   "metadata": {},
   "outputs": [],
   "source": [
    "from pyspark.sql.functions import col, avg, count, regexp_extract\n",
    "import matplotlib.pyplot as plt\n",
    "\n",
    "# 1) Kill events only\n",
    "kills = df.filter(col(\"EventCode\").endswith(\"91\"))\n",
    "\n",
    "# 2) Extract domain & map to region\n",
    "kills = kills.withColumn(\n",
    "    \"domain\",\n",
    "    regexp_extract(col(\"SOURCEURL\"), r\"https?://(?:www\\.)?([^/]+)\", 1)\n",
    ")\n",
    "domain_region_list = [\n",
    "    (\"nytimes.com\",   \"US\"),\n",
    "    (\"washingtonpost.com\", \"US\"),\n",
    "    (\"bbc.co.uk\",     \"EU\"),\n",
    "    (\"lemonde.fr\",    \"EU\"),\n",
    "    (\"aljazeera.com\", \"Mideast\"),\n",
    "    (\"haaretz.com\",   \"Mideast\"),\n",
    "    # …add more…\n",
    "]\n",
    "region_df = spark.createDataFrame(domain_region_list, [\"domain\",\"region\"])\n",
    "kills = kills.join(region_df, on=\"domain\", how=\"left\") \\\n",
    "             .fillna({\"region\":\"Other\"})\n",
    "\n",
    "# 3) Aggregate per region & actor‐direction\n",
    "bias = (\n",
    "    kills\n",
    "     .groupBy(\"region\",\"Actor1Name\",\"Actor2Name\")\n",
    "     .agg(\n",
    "        count(\"*\").alias(\"n_kills\"),\n",
    "        avg(\"AvgTone\").alias(\"mean_tone\")\n",
    "     )\n",
    ")\n",
    "\n",
    "# 4) Filter the two directions\n",
    "israel_v_pal = bias.filter(\n",
    "     col(\"Actor1Name\").contains(\"ISRAEL\") &\n",
    "     col(\"Actor2Name\").contains(\"PALESTINIAN\")\n",
    ").select(\"region\",\"n_kills\",\"mean_tone\")\n",
    "pal_v_israel = bias.filter(\n",
    "     col(\"Actor1Name\").contains(\"PALESTINIAN\") &\n",
    "     col(\"Actor2Name\").contains(\"ISRAEL\")\n",
    ").select(\"region\",\"n_kills\",\"mean_tone\")\n",
    "\n",
    "# 5) Bring in all possible regions so no plot is empty\n",
    "all_regions = [r.region for r in region_df.select(\"region\").distinct().collect()] + [\"Other\"]\n",
    "\n",
    "ivp_pd = israel_v_pal.toPandas().set_index(\"region\").reindex(all_regions, fill_value=0)\n",
    "pvi_pd = pal_v_israel.toPandas().set_index(\"region\").reindex(all_regions, fill_value=0)\n",
    "\n",
    "# 6) Plot\n",
    "fig, axes = plt.subplots(2, 2, figsize=(12,8))\n",
    "\n",
    "ivp_pd[\"n_kills\"].plot(kind=\"bar\", ax=axes[0,0], title=\"Israel→Pal Kill Counts by Region\")\n",
    "axes[0,0].set_ylabel(\"Count\")\n",
    "\n",
    "pvi_pd[\"n_kills\"].plot(kind=\"bar\", ax=axes[0,1], title=\"Pal→Isr Kill Counts by Region\")\n",
    "axes[0,1].set_ylabel(\"Count\")\n",
    "\n",
    "ivp_pd[\"mean_tone\"].plot(kind=\"bar\", ax=axes[1,0], title=\"Israel→Pal AvgTone by Region\")\n",
    "axes[1,0].set_ylabel(\"AvgTone\")\n",
    "\n",
    "pvi_pd[\"mean_tone\"].plot(kind=\"bar\", ax=axes[1,1], title=\"Pal→Isr AvgTone by Region\")\n",
    "axes[1,1].set_ylabel(\"AvgTone\")\n",
    "\n",
    "plt.tight_layout()\n",
    "plt.show()\n"
   ]
  }
 ],
 "metadata": {
  "kernelspec": {
   "display_name": "Python 3 (ipykernel)",
   "language": "python",
   "name": "python3"
  },
  "language_info": {
   "codemirror_mode": {
    "name": "ipython",
    "version": 3
   },
   "file_extension": ".py",
   "mimetype": "text/x-python",
   "name": "python",
   "nbconvert_exporter": "python",
   "pygments_lexer": "ipython3",
   "version": "3.11.9"
  }
 },
 "nbformat": 4,
 "nbformat_minor": 5
}
