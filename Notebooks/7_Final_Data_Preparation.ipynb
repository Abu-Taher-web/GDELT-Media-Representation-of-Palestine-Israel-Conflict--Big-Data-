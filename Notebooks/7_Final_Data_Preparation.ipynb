{
 "cells": [
  {
   "cell_type": "markdown",
   "id": "2c390fe8-7ac6-40aa-a1f3-e7a843363eff",
   "metadata": {},
   "source": [
    "## Create a spark session"
   ]
  },
  {
   "cell_type": "code",
   "execution_count": 2,
   "id": "0662f7e4-83e6-48ac-877b-6e9a797f350a",
   "metadata": {},
   "outputs": [],
   "source": [
    "from pyspark.sql import SparkSession\n",
    "\n",
    "spark = SparkSession.builder \\\n",
    "    .appName(\"ReadParquetExample\") \\\n",
    "    .getOrCreate()\n"
   ]
  },
  {
   "cell_type": "markdown",
   "id": "b4e60b42-dacc-4586-9611-7165eaa379e8",
   "metadata": {},
   "source": [
    "## Read the data"
   ]
  },
  {
   "cell_type": "code",
   "execution_count": 5,
   "id": "e1f5af1e-cbaa-4920-82a4-4978bb9219b1",
   "metadata": {},
   "outputs": [],
   "source": [
    "df = spark.read.parquet(\"Merge-Oct23-March24/\")"
   ]
  },
  {
   "cell_type": "markdown",
   "id": "12c6dde4-dcb1-41d3-836f-a89168df3232",
   "metadata": {},
   "source": [
    "## Inspect both dataset"
   ]
  },
  {
   "cell_type": "code",
   "execution_count": 6,
   "id": "873ba17a-657b-4aa2-813e-00d8519806ef",
   "metadata": {},
   "outputs": [
    {
     "name": "stdout",
     "output_type": "stream",
     "text": [
      "root\n",
      " |-- Cameo: string (nullable = true)\n",
      " |-- Cameo_full: string (nullable = true)\n",
      " |-- GLOBALEVENTID: string (nullable = true)\n",
      " |-- SQLDATE: string (nullable = true)\n",
      " |-- Actor1Name: string (nullable = true)\n",
      " |-- Actor1Geo_FullName: string (nullable = true)\n",
      " |-- Actor2Name: string (nullable = true)\n",
      " |-- Actor2Geo_FullName: string (nullable = true)\n",
      " |-- IsRootEvent: string (nullable = true)\n",
      " |-- EventCode: string (nullable = true)\n",
      " |-- EventBaseCode: string (nullable = true)\n",
      " |-- QuadClass: string (nullable = true)\n",
      " |-- GoldsteinScale: string (nullable = true)\n",
      " |-- NumMentions: string (nullable = true)\n",
      " |-- NumSources: string (nullable = true)\n",
      " |-- NumArticles: string (nullable = true)\n",
      " |-- AvgTone: string (nullable = true)\n",
      " |-- ActionGeo_Type: string (nullable = true)\n",
      " |-- ActionGeo_FullName: string (nullable = true)\n",
      " |-- ActionGeo_CountryCode: string (nullable = true)\n",
      " |-- SOURCEURL: string (nullable = true)\n",
      "\n"
     ]
    }
   ],
   "source": [
    "df.printSchema()\n"
   ]
  },
  {
   "cell_type": "markdown",
   "id": "60a59691-4290-4185-826f-890dab6bf47b",
   "metadata": {},
   "source": [
    "## Inspect the dataset."
   ]
  },
  {
   "cell_type": "markdown",
   "id": "b09b8822-f588-427d-977a-ffce93e34e38",
   "metadata": {},
   "source": [
    "## How many rows are there with any column with null value"
   ]
  },
  {
   "cell_type": "code",
   "execution_count": 8,
   "id": "33f0af66-156e-4a3d-a650-79292971eb08",
   "metadata": {},
   "outputs": [
    {
     "name": "stdout",
     "output_type": "stream",
     "text": [
      "Rows with at least one null: 212\n"
     ]
    }
   ],
   "source": [
    "from pyspark.sql.functions import lit\n",
    "from pyspark.sql.functions import col, sum, when\n",
    "\n",
    "# Build a combined predicate: any column IS NULL\n",
    "any_null = None\n",
    "for c in df.columns:\n",
    "    is_null_c = col(c).isNull()\n",
    "    any_null = is_null_c if any_null is None else any_null | is_null_c\n",
    "\n",
    "# Count rows matching it\n",
    "rows_with_nulls = df.filter(any_null).count()\n",
    "print(f\"Rows with at least one null: {rows_with_nulls}\")\n",
    "\n"
   ]
  },
  {
   "cell_type": "code",
   "execution_count": 10,
   "id": "7b007516-685c-4747-a3cb-31c4896e4289",
   "metadata": {
    "scrolled": true
   },
   "outputs": [
    {
     "name": "stdout",
     "output_type": "stream",
     "text": [
      "-RECORD 0----------------------------------------------------------------------------------------------------\n",
      " Cameo                 | DEMAND                                                                              \n",
      " Cameo_full            | NULL                                                                                \n",
      " GLOBALEVENTID         | 1134589736                                                                          \n",
      " SQLDATE               | 20231019                                                                            \n",
      " Actor1Name            | SAUDI                                                                               \n",
      " Actor1Geo_FullName    | Riyadh, Ar Riya?, Saudi Arabia                                                      \n",
      " Actor2Name            | ISRAEL                                                                              \n",
      " Actor2Geo_FullName    | Riyadh, Ar Riya?, Saudi Arabia                                                      \n",
      " IsRootEvent           | 0                                                                                   \n",
      " EventCode             | 106                                                                                 \n",
      " EventBaseCode         | 106                                                                                 \n",
      " QuadClass             | 3                                                                                   \n",
      " GoldsteinScale        | -5.0                                                                                \n",
      " NumMentions           | 2                                                                                   \n",
      " NumSources            | 1                                                                                   \n",
      " NumArticles           | 2                                                                                   \n",
      " AvgTone               | -1.39194139194139                                                                   \n",
      " ActionGeo_Type        | 4                                                                                   \n",
      " ActionGeo_FullName    | Riyadh, Ar Riya?, Saudi Arabia                                                      \n",
      " ActionGeo_CountryCode | SA                                                                                  \n",
      " SOURCEURL             | https://www.newarab.com/analysis/whats-behind-saudi-arabias-quest-nuclear-programme \n",
      "-RECORD 1----------------------------------------------------------------------------------------------------\n",
      " Cameo                 | DEMAND                                                                              \n",
      " Cameo_full            | NULL                                                                                \n",
      " GLOBALEVENTID         | 1134589737                                                                          \n",
      " SQLDATE               | 20231019                                                                            \n",
      " Actor1Name            | SAUDI                                                                               \n",
      " Actor1Geo_FullName    | Riyadh, Ar Riya?, Saudi Arabia                                                      \n",
      " Actor2Name            | ISRAEL                                                                              \n",
      " Actor2Geo_FullName    | Gaza, Israel (general), Israel                                                      \n",
      " IsRootEvent           | 0                                                                                   \n",
      " EventCode             | 106                                                                                 \n",
      " EventBaseCode         | 106                                                                                 \n",
      " QuadClass             | 3                                                                                   \n",
      " GoldsteinScale        | -5.0                                                                                \n",
      " NumMentions           | 8                                                                                   \n",
      " NumSources            | 1                                                                                   \n",
      " NumArticles           | 8                                                                                   \n",
      " AvgTone               | -1.39194139194139                                                                   \n",
      " ActionGeo_Type        | 4                                                                                   \n",
      " ActionGeo_FullName    | Riyadh, Ar Riya?, Saudi Arabia                                                      \n",
      " ActionGeo_CountryCode | SA                                                                                  \n",
      " SOURCEURL             | https://www.newarab.com/analysis/whats-behind-saudi-arabias-quest-nuclear-programme \n",
      "\n"
     ]
    }
   ],
   "source": [
    "df.filter(any_null).limit(2).show(truncate=False, vertical=True)\n"
   ]
  },
  {
   "cell_type": "markdown",
   "id": "f16e2ecb-035f-45ea-96a3-1eb8ad1478a3",
   "metadata": {},
   "source": [
    "## How many rows and columns do we have in our dataset?"
   ]
  },
  {
   "cell_type": "code",
   "execution_count": 11,
   "id": "a158fa9c-b1f0-4a3d-b1bf-0a7be84e9ce6",
   "metadata": {},
   "outputs": [
    {
     "name": "stdout",
     "output_type": "stream",
     "text": [
      "Total rows: 3561483\n",
      "Total columns: 21\n"
     ]
    }
   ],
   "source": [
    "# 1) Number of rows\n",
    "row_count = df.count()\n",
    "print(f\"Total rows: {row_count}\")\n",
    "\n",
    "# 2) Number of columns\n",
    "num_columns = len(df.columns)\n",
    "print(f\"Total columns: {num_columns}\")\n"
   ]
  },
  {
   "cell_type": "markdown",
   "id": "42888752-01a9-433c-a026-5262bb055d41",
   "metadata": {},
   "source": [
    "## Let's look at the quick summary of our dataset. "
   ]
  },
  {
   "cell_type": "code",
   "execution_count": 12,
   "id": "ab52a1ee-7ad6-4b79-919d-4f5175bdf613",
   "metadata": {},
   "outputs": [
    {
     "name": "stdout",
     "output_type": "stream",
     "text": [
      "+---------------------+--------+--------+----------------------------------------------------+--------+\n",
      "|column               |non_null|distinct|top_value                                           |top_freq|\n",
      "+---------------------+--------+--------+----------------------------------------------------+--------+\n",
      "|Cameo                |3561483 |20      |CONSULT                                             |803752  |\n",
      "|Cameo_full           |3561271 |236     |Use conventional military force, not specified below|295595  |\n",
      "|GLOBALEVENTID        |3561483 |3561483 |1134100602                                          |1       |\n",
      "|SQLDATE              |3561483 |442     |20231018                                            |63828   |\n",
      "|Actor1Name           |3561483 |3958    |ISRAEL                                              |638346  |\n",
      "|Actor1Geo_FullName   |3561483 |14654   |Gaza, Israel (general), Israel                      |1096483 |\n",
      "|Actor2Name           |3561483 |3679    |ISRAEL                                              |723642  |\n",
      "|Actor2Geo_FullName   |3561483 |13583   |Gaza, Israel (general), Israel                      |1087719 |\n",
      "|IsRootEvent          |3561483 |2       |0                                                   |1926942 |\n",
      "|EventCode            |3561483 |238     |190                                                 |295595  |\n",
      "|EventBaseCode        |3561483 |143     |190                                                 |295595  |\n",
      "|QuadClass            |3561483 |4       |1                                                   |1920628 |\n",
      "|GoldsteinScale       |3561483 |43      |-10.0                                               |442436  |\n",
      "|NumMentions          |3561483 |3032    |2                                                   |903017  |\n",
      "|NumSources           |3561483 |663     |1                                                   |2610902 |\n",
      "|NumArticles          |3561483 |2954    |2                                                   |907797  |\n",
      "|AvgTone              |3561483 |585716  |0                                                   |25472   |\n",
      "|ActionGeo_Type       |3561483 |6       |4                                                   |2355875 |\n",
      "|ActionGeo_FullName   |3561483 |14809   |Gaza, Israel (general), Israel                      |1164011 |\n",
      "|ActionGeo_CountryCode|3561483 |235     |IS                                                  |1860365 |\n",
      "+---------------------+--------+--------+----------------------------------------------------+--------+\n",
      "only showing top 20 rows\n",
      "\n"
     ]
    }
   ],
   "source": [
    "from pyspark.sql import SparkSession\n",
    "from pyspark.sql.functions import col, count, countDistinct, desc\n",
    "\n",
    "cols = df.columns\n",
    "\n",
    "summary_rows = []\n",
    "for c in cols:\n",
    "    non_null = df.filter(col(c).isNotNull()).count()\n",
    "    distinct = df.select(countDistinct(c)).first()[0]\n",
    "    top = (\n",
    "        df.groupBy(c)\n",
    "          .count()\n",
    "          .orderBy(desc(\"count\"))\n",
    "          .limit(1)\n",
    "          .collect()\n",
    "    )\n",
    "    if top:\n",
    "        top_val, top_freq = top[0][c], top[0][\"count\"]\n",
    "        # **coerce to string** so every top_val is a Python str\n",
    "        top_val = str(top_val)\n",
    "    else:\n",
    "        top_val, top_freq = None, 0\n",
    "\n",
    "    summary_rows.append((c, non_null, distinct, top_val, top_freq))\n",
    "\n",
    "# Now Spark can infer a consistent schema: all top_val fields are strings\n",
    "summary_df = spark.createDataFrame(\n",
    "    summary_rows,\n",
    "    schema=[\"column\", \"non_null\", \"distinct\", \"top_value\", \"top_freq\"]\n",
    ")\n",
    "summary_df.show(21, truncate=False)\n"
   ]
  },
  {
   "cell_type": "markdown",
   "id": "f0294263-9494-4942-a0d1-25ec95cefc81",
   "metadata": {},
   "source": [
    "## Let's clean the dataset. I removed all the rows that contains at least one null value."
   ]
  },
  {
   "cell_type": "code",
   "execution_count": 13,
   "id": "5d1ce460-fb7d-4cbf-a98d-e376ff1b2382",
   "metadata": {},
   "outputs": [
    {
     "name": "stdout",
     "output_type": "stream",
     "text": [
      "Rows after : 3561271\n"
     ]
    }
   ],
   "source": [
    "df_clean = df.dropna()\n",
    "print(\"Rows after :\", df_clean.count())"
   ]
  },
  {
   "cell_type": "markdown",
   "id": "a990e2c5-1c72-41c1-9993-774732382b66",
   "metadata": {},
   "source": [
    "## Re-examin the data to see if there are any null values remaining.\n",
    "\n",
    "From the data below we can see that all the columns have same number of non null values. By comparing this statistics with the previous statistics we can say that the data has been cleaned properly. "
   ]
  },
  {
   "cell_type": "code",
   "execution_count": 15,
   "id": "41651a01-f6ed-4a83-89d8-b17dc2ea466b",
   "metadata": {},
   "outputs": [
    {
     "name": "stdout",
     "output_type": "stream",
     "text": [
      "+---------------------+--------+--------+----------------------------------------------------+--------+\n",
      "|column               |non_null|distinct|top_value                                           |top_freq|\n",
      "+---------------------+--------+--------+----------------------------------------------------+--------+\n",
      "|Cameo                |3561271 |20      |CONSULT                                             |803752  |\n",
      "|Cameo_full           |3561271 |236     |Use conventional military force, not specified below|295595  |\n",
      "|GLOBALEVENTID        |3561271 |3561271 |1134100602                                          |1       |\n",
      "|SQLDATE              |3561271 |442     |20231018                                            |63828   |\n",
      "|Actor1Name           |3561271 |3958    |ISRAEL                                              |638346  |\n",
      "|Actor1Geo_FullName   |3561271 |14654   |Gaza, Israel (general), Israel                      |1096483 |\n",
      "|Actor2Name           |3561271 |3679    |ISRAEL                                              |723642  |\n",
      "|Actor2Geo_FullName   |3561271 |13583   |Gaza, Israel (general), Israel                      |1087719 |\n",
      "|IsRootEvent          |3561271 |2       |0                                                   |1926942 |\n",
      "|EventCode            |3561271 |236     |190                                                 |295595  |\n",
      "|EventBaseCode        |3561271 |142     |190                                                 |295595  |\n",
      "|QuadClass            |3561271 |4       |1                                                   |1920628 |\n",
      "|GoldsteinScale       |3561271 |42      |-10.0                                               |442436  |\n",
      "|NumMentions          |3561271 |3032    |2                                                   |903017  |\n",
      "|NumSources           |3561271 |663     |1                                                   |2610902 |\n",
      "|NumArticles          |3561271 |2954    |2                                                   |907797  |\n",
      "|AvgTone              |3561271 |585703  |0                                                   |25472   |\n",
      "|ActionGeo_Type       |3561271 |6       |4                                                   |2355875 |\n",
      "|ActionGeo_FullName   |3561271 |14809   |Gaza, Israel (general), Israel                      |1164011 |\n",
      "|ActionGeo_CountryCode|3561271 |235     |IS                                                  |1860365 |\n",
      "+---------------------+--------+--------+----------------------------------------------------+--------+\n",
      "only showing top 20 rows\n",
      "\n"
     ]
    }
   ],
   "source": [
    "from pyspark.sql import SparkSession\n",
    "from pyspark.sql.functions import col, count, countDistinct, desc\n",
    "\n",
    "cols = df_clean.columns\n",
    "\n",
    "summary_rows = []\n",
    "for c in cols:\n",
    "    non_null = df_clean.filter(col(c).isNotNull()).count()\n",
    "    distinct = df_clean.select(countDistinct(c)).first()[0]\n",
    "    top = (\n",
    "        df.groupBy(c)\n",
    "          .count()\n",
    "          .orderBy(desc(\"count\"))\n",
    "          .limit(1)\n",
    "          .collect()\n",
    "    )\n",
    "    if top:\n",
    "        top_val, top_freq = top[0][c], top[0][\"count\"]\n",
    "        # **coerce to string** so every top_val is a Python str\n",
    "        top_val = str(top_val)\n",
    "    else:\n",
    "        top_val, top_freq = None, 0\n",
    "\n",
    "    summary_rows.append((c, non_null, distinct, top_val, top_freq))\n",
    "\n",
    "# Now Spark can infer a consistent schema: all top_val fields are strings\n",
    "summary_df = spark.createDataFrame(\n",
    "    summary_rows,\n",
    "    schema=[\"column\", \"non_null\", \"distinct\", \"top_value\", \"top_freq\"]\n",
    ")\n",
    "summary_df.show(21, truncate=False)\n"
   ]
  },
  {
   "cell_type": "code",
   "execution_count": null,
   "id": "3ed67090-6071-4c6d-bd7c-218444e4511b",
   "metadata": {},
   "outputs": [],
   "source": [
    "## Let's extract the domain name from 'SOURCEURL' and add a column 'domain_name'"
   ]
  },
  {
   "cell_type": "code",
   "execution_count": 18,
   "id": "1f635f4c-21a0-46f6-af50-69fb8ff70bc6",
   "metadata": {},
   "outputs": [],
   "source": [
    "from pyspark.sql.functions import regexp_extract, regexp_replace, col\n",
    "\n",
    "# 1. grab everything between “http(s)://” and the next “/”\n",
    "# 2. strip off a leading “www.” if you prefer\n",
    "df_clean_with_domain_name = df_clean.withColumn(\n",
    "    \"domain_name\",\n",
    "    regexp_replace(\n",
    "      regexp_extract(col(\"SOURCEURL\"), r\"https?://([^/]+)\", 1),\n",
    "      r\"^www\\.\", \"\"\n",
    "    )\n",
    ")\n"
   ]
  },
  {
   "cell_type": "markdown",
   "id": "89beb584-9cbe-4231-9477-33f2512fca24",
   "metadata": {},
   "source": [
    "## Inspect the schema again"
   ]
  },
  {
   "cell_type": "code",
   "execution_count": 20,
   "id": "65f8ee23-7a7c-4b0c-a01e-153dd6bff3d4",
   "metadata": {},
   "outputs": [
    {
     "name": "stdout",
     "output_type": "stream",
     "text": [
      "root\n",
      " |-- Cameo: string (nullable = true)\n",
      " |-- Cameo_full: string (nullable = true)\n",
      " |-- GLOBALEVENTID: string (nullable = true)\n",
      " |-- SQLDATE: string (nullable = true)\n",
      " |-- Actor1Name: string (nullable = true)\n",
      " |-- Actor1Geo_FullName: string (nullable = true)\n",
      " |-- Actor2Name: string (nullable = true)\n",
      " |-- Actor2Geo_FullName: string (nullable = true)\n",
      " |-- IsRootEvent: string (nullable = true)\n",
      " |-- EventCode: string (nullable = true)\n",
      " |-- EventBaseCode: string (nullable = true)\n",
      " |-- QuadClass: string (nullable = true)\n",
      " |-- GoldsteinScale: string (nullable = true)\n",
      " |-- NumMentions: string (nullable = true)\n",
      " |-- NumSources: string (nullable = true)\n",
      " |-- NumArticles: string (nullable = true)\n",
      " |-- AvgTone: string (nullable = true)\n",
      " |-- ActionGeo_Type: string (nullable = true)\n",
      " |-- ActionGeo_FullName: string (nullable = true)\n",
      " |-- ActionGeo_CountryCode: string (nullable = true)\n",
      " |-- SOURCEURL: string (nullable = true)\n",
      " |-- domain_name: string (nullable = true)\n",
      "\n"
     ]
    }
   ],
   "source": [
    "df_clean_with_domain_name.printSchema()"
   ]
  },
  {
   "cell_type": "code",
   "execution_count": null,
   "id": "8a68c85e-a87f-4ac1-82b0-34d9e8216b9d",
   "metadata": {},
   "outputs": [],
   "source": [
    "## Inspect the dataset again"
   ]
  },
  {
   "cell_type": "code",
   "execution_count": 22,
   "id": "9ecedf18-530a-4452-84d5-102775161cdd",
   "metadata": {
    "scrolled": true
   },
   "outputs": [
    {
     "name": "stdout",
     "output_type": "stream",
     "text": [
      "-RECORD 0-----------------------------------------------------------------------------------------------------------------------------------------------\n",
      " Cameo                 | EXPRESS INTENT TO COOPERATE                                                                                                    \n",
      " Cameo_full            | Express intent to cooperate, not specified below                                                                               \n",
      " GLOBALEVENTID         | 1134100347                                                                                                                     \n",
      " SQLDATE               | 20230918                                                                                                                       \n",
      " Actor1Name            | US GOVERNMENT                                                                                                                  \n",
      " Actor1Geo_FullName    | Israel                                                                                                                         \n",
      " Actor2Name            | NaN                                                                                                                            \n",
      " Actor2Geo_FullName    | NaN                                                                                                                            \n",
      " IsRootEvent           | 1                                                                                                                              \n",
      " EventCode             | 030                                                                                                                            \n",
      " EventBaseCode         | 030                                                                                                                            \n",
      " QuadClass             | 1                                                                                                                              \n",
      " GoldsteinScale        | 4.0                                                                                                                            \n",
      " NumMentions           | 54                                                                                                                             \n",
      " NumSources            | 16                                                                                                                             \n",
      " NumArticles           | 54                                                                                                                             \n",
      " AvgTone               | -3.78903748929846                                                                                                              \n",
      " ActionGeo_Type        | 1                                                                                                                              \n",
      " ActionGeo_FullName    | Israel                                                                                                                         \n",
      " ActionGeo_CountryCode | IS                                                                                                                             \n",
      " SOURCEURL             | https://www.goulburnpost.com.au/story/8390460/jim-jordan-loses-first-us-house-speaker-vote/?cs=14264                           \n",
      " domain_name           | goulburnpost.com.au                                                                                                            \n",
      "-RECORD 1-----------------------------------------------------------------------------------------------------------------------------------------------\n",
      " Cameo                 | APPEAL                                                                                                                         \n",
      " Cameo_full            | Appeal, not specified below                                                                                                    \n",
      " GLOBALEVENTID         | 1134100349                                                                                                                     \n",
      " SQLDATE               | 20231011                                                                                                                       \n",
      " Actor1Name            | NaN                                                                                                                            \n",
      " Actor1Geo_FullName    | NaN                                                                                                                            \n",
      " Actor2Name            | ISRAEL                                                                                                                         \n",
      " Actor2Geo_FullName    | Ireland                                                                                                                        \n",
      " IsRootEvent           | 1                                                                                                                              \n",
      " EventCode             | 020                                                                                                                            \n",
      " EventBaseCode         | 020                                                                                                                            \n",
      " QuadClass             | 1                                                                                                                              \n",
      " GoldsteinScale        | 3.0                                                                                                                            \n",
      " NumMentions           | 1                                                                                                                              \n",
      " NumSources            | 1                                                                                                                              \n",
      " NumArticles           | 1                                                                                                                              \n",
      " AvgTone               | -4.1044776119403                                                                                                               \n",
      " ActionGeo_Type        | 1                                                                                                                              \n",
      " ActionGeo_FullName    | Ireland                                                                                                                        \n",
      " ActionGeo_CountryCode | EI                                                                                                                             \n",
      " SOURCEURL             | https://www.newstalk.com/news/gaza-higgins-attack-on-von-der-leyen-reflects-irelands-outrage-1515825                           \n",
      " domain_name           | newstalk.com                                                                                                                   \n",
      "-RECORD 2-----------------------------------------------------------------------------------------------------------------------------------------------\n",
      " Cameo                 | MAKE PUBLIC STATEMENT                                                                                                          \n",
      " Cameo_full            | Make optimistic comment                                                                                                        \n",
      " GLOBALEVENTID         | 1134100353                                                                                                                     \n",
      " SQLDATE               | 20231011                                                                                                                       \n",
      " Actor1Name            | SCHOOL                                                                                                                         \n",
      " Actor1Geo_FullName    | Gaza, Israel (general), Israel                                                                                                 \n",
      " Actor2Name            | ATLANTA                                                                                                                        \n",
      " Actor2Geo_FullName    | Gaza, Israel (general), Israel                                                                                                 \n",
      " IsRootEvent           | 1                                                                                                                              \n",
      " EventCode             | 013                                                                                                                            \n",
      " EventBaseCode         | 013                                                                                                                            \n",
      " QuadClass             | 1                                                                                                                              \n",
      " GoldsteinScale        | 0.4                                                                                                                            \n",
      " NumMentions           | 5                                                                                                                              \n",
      " NumSources            | 1                                                                                                                              \n",
      " NumArticles           | 5                                                                                                                              \n",
      " AvgTone               | -2.6431718061674                                                                                                               \n",
      " ActionGeo_Type        | 4                                                                                                                              \n",
      " ActionGeo_FullName    | Gaza, Israel (general), Israel                                                                                                 \n",
      " ActionGeo_CountryCode | IS                                                                                                                             \n",
      " SOURCEURL             | https://www.11alive.com/article/news/education/aps-district-statement-israel-hamas-war/85-284f2e62-b749-4c9d-bd8e-caad515a35c7 \n",
      " domain_name           | 11alive.com                                                                                                                    \n",
      "only showing top 3 rows\n",
      "\n"
     ]
    }
   ],
   "source": [
    "df_clean_with_domain_name.show(3, truncate=False, vertical = True)"
   ]
  },
  {
   "cell_type": "markdown",
   "id": "0e2f6dce-0f61-4278-9fbf-6728139b8d49",
   "metadata": {},
   "source": [
    "## Inspect a few more domain colum data"
   ]
  },
  {
   "cell_type": "code",
   "execution_count": 19,
   "id": "423cd1f8-fb66-495c-b4e8-2faa8d9383ee",
   "metadata": {},
   "outputs": [
    {
     "name": "stdout",
     "output_type": "stream",
     "text": [
      "+-----------------------+------+\n",
      "|domain_name            |cnt   |\n",
      "+-----------------------+------+\n",
      "|news.yahoo.com         |100285|\n",
      "|jpost.com              |58773 |\n",
      "|globalsecurity.org     |45922 |\n",
      "|dailymail.co.uk        |44125 |\n",
      "|israelnationalnews.com |36360 |\n",
      "|presstv.ir             |32626 |\n",
      "|al-monitor.com         |31629 |\n",
      "|aljazeera.com          |29051 |\n",
      "|english.ahram.org.eg   |28076 |\n",
      "|menafn.com             |26943 |\n",
      "|clevelandjewishnews.com|26279 |\n",
      "|aa.com.tr              |25703 |\n",
      "|theguardian.com        |24834 |\n",
      "|thenationalnews.com    |24155 |\n",
      "|cnn.com                |23276 |\n",
      "|middleeastmonitor.com  |21858 |\n",
      "|nypost.com             |20405 |\n",
      "|firstpost.com          |20014 |\n",
      "|timesofisrael.com      |19898 |\n",
      "|middleeasteye.net      |19525 |\n",
      "+-----------------------+------+\n",
      "only showing top 20 rows\n",
      "\n"
     ]
    }
   ],
   "source": [
    "# How many distinct domains?\n",
    "df_clean_with_domain_name.select(\"domain_name\").distinct().count()\n",
    "\n",
    "# See the top 20 by frequency:\n",
    "from pyspark.sql.functions import count\n",
    "df_clean_with_domain_name.groupBy(\"domain_name\") \\\n",
    "   .agg(count(\"*\").alias(\"cnt\")) \\\n",
    "   .orderBy(\"cnt\", ascending=False) \\\n",
    "   .show(20, truncate=False)\n"
   ]
  },
  {
   "cell_type": "markdown",
   "id": "8b128738-6827-4e26-8108-b7a95c4a533d",
   "metadata": {},
   "source": [
    "## Now we will creat a new column 'news_source_country'. 'domain_name' will be mapped into corresponding source country name.\n",
    "\n",
    "### Download the dataset for news outlet and their corresponding country.\n",
    "[dataset's web page link](https://blog.gdeltproject.org/mapping-the-media-a-geographic-lookup-of-gdelts-sources/)\n",
    "\n",
    "[dataset link](http://data.gdeltproject.org/blog/2018-news-outlets-by-country-may2018-update/MASTER-GDELTDOMAINSBYCOUNTRY-MAY2018.TXT)"
   ]
  },
  {
   "cell_type": "markdown",
   "id": "1584eb2c-bae4-4bad-bd0a-23eaa42a56d3",
   "metadata": {},
   "source": [
    "## I created a new dataframe with 'news_source_country' column"
   ]
  },
  {
   "cell_type": "code",
   "execution_count": 24,
   "id": "b4066724-674e-4c8f-b486-ab1828e565a6",
   "metadata": {},
   "outputs": [
    {
     "name": "stdout",
     "output_type": "stream",
     "text": [
      "root\n",
      " |-- Cameo: string (nullable = true)\n",
      " |-- Cameo_full: string (nullable = true)\n",
      " |-- GLOBALEVENTID: string (nullable = true)\n",
      " |-- SQLDATE: string (nullable = true)\n",
      " |-- Actor1Name: string (nullable = true)\n",
      " |-- Actor1Geo_FullName: string (nullable = true)\n",
      " |-- Actor2Name: string (nullable = true)\n",
      " |-- Actor2Geo_FullName: string (nullable = true)\n",
      " |-- IsRootEvent: string (nullable = true)\n",
      " |-- EventCode: string (nullable = true)\n",
      " |-- EventBaseCode: string (nullable = true)\n",
      " |-- QuadClass: string (nullable = true)\n",
      " |-- GoldsteinScale: string (nullable = true)\n",
      " |-- NumMentions: string (nullable = true)\n",
      " |-- NumSources: string (nullable = true)\n",
      " |-- NumArticles: string (nullable = true)\n",
      " |-- AvgTone: string (nullable = true)\n",
      " |-- ActionGeo_Type: string (nullable = true)\n",
      " |-- ActionGeo_FullName: string (nullable = true)\n",
      " |-- ActionGeo_CountryCode: string (nullable = true)\n",
      " |-- SOURCEURL: string (nullable = true)\n",
      " |-- domain_name: string (nullable = true)\n",
      " |-- news_source_country: string (nullable = true)\n",
      "\n",
      "-RECORD 0---------------------------------------------------------------------------------------------------------------------------------------------\n",
      " SOURCEURL           | https://www.goulburnpost.com.au/story/8390460/jim-jordan-loses-first-us-house-speaker-vote/?cs=14264                           \n",
      " domain_name         | goulburnpost.com.au                                                                                                            \n",
      " news_source_country | Australia                                                                                                                      \n",
      "-RECORD 1---------------------------------------------------------------------------------------------------------------------------------------------\n",
      " SOURCEURL           | https://www.newstalk.com/news/gaza-higgins-attack-on-von-der-leyen-reflects-irelands-outrage-1515825                           \n",
      " domain_name         | newstalk.com                                                                                                                   \n",
      " news_source_country | Ireland                                                                                                                        \n",
      "-RECORD 2---------------------------------------------------------------------------------------------------------------------------------------------\n",
      " SOURCEURL           | https://www.11alive.com/article/news/education/aps-district-statement-israel-hamas-war/85-284f2e62-b749-4c9d-bd8e-caad515a35c7 \n",
      " domain_name         | 11alive.com                                                                                                                    \n",
      " news_source_country | United States                                                                                                                  \n",
      "-RECORD 3---------------------------------------------------------------------------------------------------------------------------------------------\n",
      " SOURCEURL           | https://news.yahoo.com/finance/billionaire-ronald-lauder-threatens-pull-192836421.html                                         \n",
      " domain_name         | news.yahoo.com                                                                                                                 \n",
      " news_source_country | NULL                                                                                                                           \n",
      "-RECORD 4---------------------------------------------------------------------------------------------------------------------------------------------\n",
      " SOURCEURL           | https://www.newstalk.com/news/gaza-higgins-attack-on-von-der-leyen-reflects-irelands-outrage-1515825                           \n",
      " domain_name         | newstalk.com                                                                                                                   \n",
      " news_source_country | Ireland                                                                                                                        \n",
      "only showing top 5 rows\n",
      "\n"
     ]
    }
   ],
   "source": [
    "from pyspark.sql import SparkSession\n",
    "from pyspark.sql.functions import col\n",
    "\n",
    "path3 = \"MASTER-GDELTDOMAINSBYCOUNTRY-MAY2018-expanded-patched.csv\"\n",
    "\n",
    "# 1. Load your domain → country lookup table\n",
    "domain_lookup = (\n",
    "    spark.read\n",
    "         .option(\"header\", True)      # first line contains column names\n",
    "         .option(\"inferSchema\", True) # infer types automatically\n",
    "         .csv(path3)\n",
    ")\n",
    "\n",
    "# 2. Join to bring in country_name\n",
    "df_enriched = (\n",
    "    df_clean_with_domain_name\n",
    "      .join(\n",
    "        domain_lookup,\n",
    "        df_clean_with_domain_name.domain_name == domain_lookup.domain,\n",
    "        how=\"left\"               # keep all rows, even if no match\n",
    "      )\n",
    "      # 3. Rename and/or drop columns\n",
    "      .withColumnRenamed(\"country_name\", \"news_source_country\")\n",
    "      .drop(domain_lookup.domain)        # drop the redundant lookup-domain col\n",
    "      .drop(\"country_code\")              # if you don’t need the code itself\n",
    ")\n",
    "\n",
    "# 4. Inspect the result\n",
    "df_enriched.printSchema()\n",
    "# ...\n",
    "df_enriched.select(\"SOURCEURL\", \"domain_name\", \"news_source_country\") \\\n",
    "           .show(5, truncate=False, vertical = True)\n"
   ]
  },
  {
   "cell_type": "code",
   "execution_count": null,
   "id": "8b5dca7c-bf04-4cf0-abb0-fa25992099f3",
   "metadata": {},
   "outputs": [],
   "source": [
    "## The above data show that there are null values in 'news_source_country' column."
   ]
  },
  {
   "cell_type": "code",
   "execution_count": 27,
   "id": "98a3bd20-df1f-4420-b2df-5a93e43bd629",
   "metadata": {},
   "outputs": [
    {
     "name": "stdout",
     "output_type": "stream",
     "text": [
      "+------------+------------+------------+\n",
      "|domain      |country_code|country_name|\n",
      "+------------+------------+------------+\n",
      "|newstalk.com|EI          |Ireland     |\n",
      "+------------+------------+------------+\n",
      "\n"
     ]
    }
   ],
   "source": [
    "from pyspark.sql.functions import col\n",
    "\n",
    "domain_lookup.filter(col(\"domain\") == \"newstalk.com\").show(truncate=False)\n"
   ]
  },
  {
   "cell_type": "code",
   "execution_count": 28,
   "id": "da2917eb-0c91-49b4-946b-3393b7d9f969",
   "metadata": {},
   "outputs": [
    {
     "name": "stdout",
     "output_type": "stream",
     "text": [
      "Number of rows with null news_source_country: 446644\n"
     ]
    }
   ],
   "source": [
    "from pyspark.sql.functions import col\n",
    "\n",
    "null_count = df_enriched.filter(col(\"news_source_country\").isNull()).count()\n",
    "print(f\"Number of rows with null news_source_country: {null_count}\")\n"
   ]
  },
  {
   "cell_type": "markdown",
   "id": "cda7f28c-031c-42a2-8552-ae16421ece5a",
   "metadata": {},
   "source": [
    "## There are many domain name that is not included in our original domain-lookup dataset. \n",
    "### Lets see which domain names are not inclued and then include them manually. After that we will redo the merging."
   ]
  },
  {
   "cell_type": "code",
   "execution_count": 29,
   "id": "cfc61083-0dd4-441b-bc15-42ae39c69116",
   "metadata": {},
   "outputs": [
    {
     "name": "stdout",
     "output_type": "stream",
     "text": [
      "+----------------------------+------+\n",
      "|domain_name                 |cnt   |\n",
      "+----------------------------+------+\n",
      "|news.yahoo.com              |100285|\n",
      "|english.ahram.org.eg        |28076 |\n",
      "|breitbart.com:443           |16667 |\n",
      "|edition.cnn.com             |14407 |\n",
      "|timesofindia.indiatimes.com |14318 |\n",
      "|english.aawsat.com          |11992 |\n",
      "|marketscreener.com          |10378 |\n",
      "|english.news.cn             |7861  |\n",
      "|news.sky.com                |7837  |\n",
      "|biztoc.com                  |7452  |\n",
      "|newarab.com                 |7381  |\n",
      "|blogs.timesofisrael.com     |6957  |\n",
      "|economictimes.indiatimes.com|6945  |\n",
      "|english.elpais.com          |6756  |\n",
      "|tellerreport.com            |5871  |\n",
      "|sputnikglobe.com            |5653  |\n",
      "|abcnews.go.com              |5585  |\n",
      "|article.wn.com              |5295  |\n",
      "|us.cnn.com                  |4708  |\n",
      "|rnz.co.nz                   |4100  |\n",
      "+----------------------------+------+\n",
      "only showing top 20 rows\n",
      "\n"
     ]
    }
   ],
   "source": [
    "from pyspark.sql.functions import col, count, desc\n",
    "\n",
    "# get counts of each domain that has no country\n",
    "missing_domains = (\n",
    "    df_enriched\n",
    "      .filter(col(\"news_source_country\").isNull())\n",
    "      .groupBy(\"domain_name\")\n",
    "      .agg(count(\"*\").alias(\"cnt\"))\n",
    "      .orderBy(desc(\"cnt\"))\n",
    ")\n",
    "\n",
    "missing_domains.show(20, truncate=False)\n"
   ]
  },
  {
   "cell_type": "markdown",
   "id": "341651ee-faea-406c-8289-b1d1a4f939d4",
   "metadata": {},
   "source": [
    "## We have 1357 domain name without a source country"
   ]
  },
  {
   "cell_type": "code",
   "execution_count": 30,
   "id": "f29acfc4-6d1f-4744-9edd-94aa203563ae",
   "metadata": {},
   "outputs": [
    {
     "name": "stdout",
     "output_type": "stream",
     "text": [
      "Number of missing domains: 1357\n"
     ]
    }
   ],
   "source": [
    "# count how many distinct domains are missing a country\n",
    "num_missing_domains = missing_domains.count()\n",
    "print(f\"Number of missing domains: {num_missing_domains}\")\n"
   ]
  },
  {
   "cell_type": "markdown",
   "id": "1844d121-b231-4661-8ee6-1e7fcb36263e",
   "metadata": {},
   "source": [
    "## We can only take top 500 domain names as they cause of most of the missing data\n",
    "### We will discard rest of the little amount of data."
   ]
  },
  {
   "cell_type": "code",
   "execution_count": 36,
   "id": "305bbed1-2829-4ceb-82f4-75fadde9b583",
   "metadata": {},
   "outputs": [
    {
     "name": "stdout",
     "output_type": "stream",
     "text": [
      "Sum of cnt for top 400 missing domains: 439679\n"
     ]
    }
   ],
   "source": [
    "from pyspark.sql.functions import sum as _sum\n",
    "\n",
    "# assume `missing_domains` is already ordered desc by cnt\n",
    "top500 = missing_domains.limit(500)\n",
    "\n",
    "sum_top500 = top500.agg(\n",
    "    _sum(\"cnt\").alias(\"sum_cnt\")\n",
    ").collect()[0][\"sum_cnt\"]\n",
    "\n",
    "print(f\"Sum of cnt for top 400 missing domains: {sum_top500}\")\n"
   ]
  },
  {
   "cell_type": "code",
   "execution_count": 41,
   "id": "013150d7-da2d-4e05-80b7-735aafe2d850",
   "metadata": {},
   "outputs": [
    {
     "name": "stdout",
     "output_type": "stream",
     "text": [
      "+--------------------+\n",
      "|         domain_name|\n",
      "+--------------------+\n",
      "|      news.yahoo.com|\n",
      "|english.ahram.org.eg|\n",
      "|   breitbart.com:443|\n",
      "|     edition.cnn.com|\n",
      "|timesofindia.indi...|\n",
      "|  english.aawsat.com|\n",
      "|  marketscreener.com|\n",
      "|     english.news.cn|\n",
      "|        news.sky.com|\n",
      "|          biztoc.com|\n",
      "|         newarab.com|\n",
      "|blogs.timesofisra...|\n",
      "|economictimes.ind...|\n",
      "|  english.elpais.com|\n",
      "|    tellerreport.com|\n",
      "|    sputnikglobe.com|\n",
      "|      abcnews.go.com|\n",
      "|      article.wn.com|\n",
      "|          us.cnn.com|\n",
      "|           rnz.co.nz|\n",
      "+--------------------+\n",
      "only showing top 20 rows\n",
      "\n"
     ]
    }
   ],
   "source": [
    "top500 = missing_domains.select(col(\"domain_name\")).limit(500)\n",
    "top500.count()\n",
    "top500.show()\n",
    "top500.coalesce(1).write.mode(\"overwrite\").option(\"header\", True).csv(\"missing_domain/top500_missing_domain_names.csv\")"
   ]
  },
  {
   "cell_type": "markdown",
   "id": "6ff9d664-0683-440f-b0b9-b368552f3eb5",
   "metadata": {},
   "source": [
    "## I tried to get top 500 domain's home country but DeepSeek or chatgpt could not generate that amount of data. I choose only to parse top 300 domain. top 300 domains contribute to almost 400K missing data."
   ]
  },
  {
   "cell_type": "code",
   "execution_count": 48,
   "id": "8dc8ed9a-da32-4411-aa72-9de24f933958",
   "metadata": {
    "collapsed": true,
    "jupyter": {
     "outputs_hidden": true
    },
    "scrolled": true
   },
   "outputs": [
    {
     "name": "stdout",
     "output_type": "stream",
     "text": [
      "Collecting pycountry\n",
      "  Downloading pycountry-24.6.1-py3-none-any.whl.metadata (12 kB)\n",
      "Downloading pycountry-24.6.1-py3-none-any.whl (6.3 MB)\n",
      "\u001b[2K   \u001b[90m━━━━━━━━━━━━━━━━━━━━━━━━━━━━━━━━━━━━━━━━\u001b[0m \u001b[32m6.3/6.3 MB\u001b[0m \u001b[31m20.4 MB/s\u001b[0m eta \u001b[36m0:00:00\u001b[0m00:01\u001b[0m00:01\u001b[0m\n",
      "\u001b[?25hInstalling collected packages: pycountry\n",
      "Successfully installed pycountry-24.6.1\n"
     ]
    }
   ],
   "source": [
    "!pip install pycountry"
   ]
  },
  {
   "cell_type": "code",
   "execution_count": 49,
   "id": "ac2d4aa5-1b37-4f08-9fc2-549dc8b10e81",
   "metadata": {
    "jupyter": {
     "source_hidden": true
    }
   },
   "outputs": [],
   "source": [
    "import pandas as pd\n",
    "import pycountry\n",
    "\n",
    "# Domain list (top 300, truncated for space)\n",
    "domains = [\n",
    "    \"news.yahoo.com\", \"english.ahram.org.eg\", \"breitbart.com:443\", \"edition.cnn.com\",\n",
    "    \"timesofindia.indiatimes.com\", \"english.aawsat.com\", \"marketscreener.com\",\n",
    "    \"english.news.cn\", \"news.sky.com\", \"biztoc.com\", \"newarab.com\", \"blogs.timesofisrael.com\",\n",
    "    \"economictimes.indiatimes.com\", \"english.elpais.com\", \"tellerreport.com\", \"sputnikglobe.com\",\n",
    "    \"abcnews.go.com\", \"article.wn.com\", \"us.cnn.com\", \"rnz.co.nz\", \"newsinfo.inquirer.net\",\n",
    "    \"english.almanar.com.lb\", \"vancouversun.com:443\", \"en.shafaqna.com\", \"naharnet.com:443\",\n",
    "    \"www2.cbn.com\", \"en.ammonnews.net\", \"news.antiwar.com\", \"toronto.citynews.ca\",\n",
    "    \"windsorstar.com:443\", \"archyde.com\", \"en.antaranews.com\", \"finance.yahoo.com\",\n",
    "    \"news.webindia123.com\", \"en.tempo.co\", \"christianpost.com:443\", \"en.haberler.com\",\n",
    "    \"en.globes.co.il\", \"english.almayadeen.net\", \"globalnation.inquirer.net\", \"inquirer.com\",\n",
    "    \"home.nzcity.co.nz\", \"tbsnews.net\", \"chicago.suntimes.com\", \"eng.obozrevatel.com\",\n",
    "    \"zeenews.india.com\", \"chinadailyhk.com\", \"in-cyprus.philenews.com\", \"hometownregister.com\",\n",
    "    \"original.antiwar.com\", \"saltwire.com\", \"ottawacitizen.com:443\", \"newsnationnow.com\",\n",
    "    \"en.mercopress.com\", \"newsbeezer.com\", \"checkyourfact.com\", \"montrealgazette.com:443\",\n",
    "    \"bolnews.com\", \"thethaiger.com\", \"myrepublica.nagariknetwork.com\", \"newcastleherald.com.au\",\n",
    "    \"eng.chinamil.com.cn\", \"o.canada.com:443\", \"humanevents.com:443\", \"whatsnew2day.com\",\n",
    "    \"zeenews.india.com:443\", \"new.finalcall.com\", \"newsbreak.com\", \"2news.com\",\n",
    "    \"interaksyon.philstar.com\", \"thesaxon.org\", \"www3.nhk.or.jp\", \"ruetir.com\", \"isp.netscape.com\",\n",
    "    \"alkhaleejtoday.co\", \"btimesonline.com\", \"vervetimes.com\", \"thesun.my\",\n",
    "    \"global.chinadaily.com.cn\", \"thestarphoenix.com:443\", \"fox13seattle.com\", \"kathmandupost.com\",\n",
    "    \"the-sun.com\", \"kuwaittimes.com\", \"deseret.com\", \"europe.chinadaily.com.cn\",\n",
    "    \"calgaryherald.com:443\", \"uk.news.yahoo.com\", \"english.kyodonews.net:443\", \"asia.nikkei.com\",\n",
    "    \"breakinglatest.news\", \"en.republika.co.id\", \"leaderpost.com:443\", \"financial-world.org\",\n",
    "    \"kiratas.com\", \"today.lorientlejour.com\", \"usa.chinadaily.com.cn\", \"english.radio.cz\",\n",
    "    \"news.abplive.com\", \"cebudailynews.inquirer.net\", \"thisdaylive.com:443\", \"radio.foxnews.com\",\n",
    "    \"unocha.org:443\", \"yourdemocracy.net\", \"columbusjewishnews.com\", \"frontline.thehindu.com\",\n",
    "    \"eng.mizzima.com\", \"nagalandpost.com\", \"ca.news.yahoo.com\", \"english.sina.com\",\n",
    "    \"observers.france24.com\", \"ctinsider.com\", \"news.wgcu.org\", \"sg.news.yahoo.com\",\n",
    "    \"thecentersquare.com\", \"adonis49.wordpress.com\", \"nny360.com\", \"humnews.pk\",\n",
    "    \"d1softballnews.com\", \"legit.ng\", \"thetimeshub.in\", \"znetwork.org\", \"myspiritfm.com\",\n",
    "    \"montanarightnow.com\", \"en.etemaaddaily.com\", \"coastfm.co.uk\", \"english.palinfo.com\",\n",
    "    \"fdd.org\", \"trendydigests.com\", \"thenewhumanitarian.org\", \"sl.china-embassy.gov.cn\",\n",
    "    \"aclj.org:443\", \"uspolitics.einnews.com\", \"iowacapitaldispatch.com\", \"gnnhd.tv\",\n",
    "    \"cathstan.org:443\", \"morningexpress.in\", \"westchester.news12.com\", \"theghanareport.com\",\n",
    "    \"en.interfax.com.ua\", \"news.artnet.com\", \"nationthailand.com\", \"digitpatrox.com\",\n",
    "    \"passblue.com\", \"echolive.ie\", \"asianage.com:443\", \"midnorthmonitor.com:443\",\n",
    "    \"glasgowtimes.co.uk\", \"english.chosun.com\", \"dnyuz.com\", \"news.abs-cbn.com\",\n",
    "    \"radio.wpsu.org\", \"jewishchronicle.timesofisrael.com\", \"en.idi.org.il\", \"saultstar.com:443\",\n",
    "    \"shafaq.com\", \"atlantanewsfirst.com\", \"am1100theflag.com\", \"aps.dz:443\", \"citizen.digital\",\n",
    "    \"fijitimes.com.fj\", \"news.wjct.org\", \"cnbctv18.com\", \"news.usni.org\", \"news.wttw.com\",\n",
    "    \"uk.style.yahoo.com\", \"uk.finance.yahoo.com\", \"todayheadline.co\", \"pakistantimesusa.net\",\n",
    "    \"magyarnemzet.hu\", \"agenciabrasil.ebc.com.br\", \"africa.chinadaily.com.cn\",\n",
    "    \"sentinelcolorado.com\", \"au.news.yahoo.com\", \"m.lasvegassun.com\", \"learningenglish.voanews.com\",\n",
    "    \"ca.finance.yahoo.com\", \"en.israelidiamond.co.il\", \"panapress.com\", \"snl24.com\",\n",
    "    \"newtelegraphng.com\", \"egyptian-gazette.com\", \"theasialive.com\", \"the-independent.com\",\n",
    "    \"fbcnews.com.fj\", \"english.madhyamam.com\", \"britannica.com:443\", \"ktrh.iheart.com\",\n",
    "    \"sinardaily.my\", \"timminstimes.com:443\", \"markets.businessinsider.com\",\n",
    "    \"community.scoop.co.nz\", \"knews.kathimerini.com.cy\", \"cochranetimespost.ca:443\",\n",
    "    \"brazilbusiness.einnews.com\", \"coloradonewsline.com\", \"local3news.com\",\n",
    "    \"slovenia.postsen.com\", \"assahifa.com\", \"religionunplugged.com\", \"opinion.inquirer.net\",\n",
    "    \"onmanorama.com\", \"ctpublic.org\", \"thebulltulsa.com\", \"nugget.ca:443\", \"midmichigannow.com\",\n",
    "    \"92newshd.tv\", \"michiganadvance.com\", \"outono.net\", \"firstalert4.com\", \"dakotanewsnow.com\",\n",
    "    \"justthenews.com\", \"editorials.voa.gov\", \"yoursourceone.com\", \"northernnews.ca:443\",\n",
    "    \"nation.africa\", \"en.gmw.cn\", \"exbulletin.com\", \"boston25news.com\", \"kahawatungu.com\",\n",
    "    \"tampafp.com\", \"arise.tv\", \"kenyans.co.ke\", \"von.gov.ng\", \"alaskasnewssource.com\",\n",
    "    \"countypress.co.uk\", \"news.northeastern.edu\", \"news.wfsu.org\", \"albawaba.net\",\n",
    "    \"belfastmedia.com\", \"saultthisweek.com:443\", \"donegallive.ie\", \"penncapital-star.com\",\n",
    "    \"timminspress.com:443\", \"gna.org.gh\", \"albaniandailynews.com\", \"elliotlakestandard.ca:443\",\n",
    "    \"johansen.se\", \"newsonair.gov.in\", \"politiko.al\", \"apartheidmonitor.palestine-studies.org\",\n",
    "    \"tipperarylive.ie\", \"ohiocapitaljournal.com\", \"asiatoday.id\", \"dailybaro.orangemedianetwork.com\",\n",
    "    \"edglentoday.com\", \"bbs.chinadaily.com.cn\", \"images.dawn.com\", \"goodwordnews.com\",\n",
    "    \"todayinbc.com\", \"cde.news\", \"global.ilmanifesto.it\", \"trentonian.ca:443\", \"thenewsmill.com\",\n",
    "    \"psucollegian.com\", \"www2.ljworld.com\", \"dandenong.starcommunity.com.au\", \"therealnews.com\",\n",
    "    \"710wor.iheart.com\", \"obituaries.palestineherald.com\", \"international.thenewslens.com\",\n",
    "    \"info.scoop.co.nz\", \"ca.style.yahoo.com\", \"world.kbs.co.kr\", \"cronkitenews.azpbs.org\",\n",
    "    \"tnp.straitstimes.com\", \"borderreport.com\", \"deleciousfood.com\", \"cowboystatedaily.com\",\n",
    "    \"edition.channel5belize.com\", \"edmontonexaminer.com:443\", \"thesudburystar.com:443\",\n",
    "    \"english.hani.co.kr\", \"wjno.iheart.com\", \"factcheck.afp.com\", \"themessenger.com\",\n",
    "    \"radiojamaicanewsonline.com\", \"batimes.com.ar\", \"cweb.com\", \"caspiannews.com\", \"atalayar.com\",\n",
    "    \"dailymontanan.com\", \"thestockdork.com\", \"northernirelandworld.com\", \"kansasreflector.com\",\n",
    "    \"wildcat.arizona.edu\", \"abbtakk.tv\", \"barrie360.com\", \"azzasedky.typepad.com\",\n",
    "    \"missoulacurrent.com\", \"castanetkamloops.net\", \"sundial.csun.edu\", \"cryptopolitan.com\",\n",
    "    \"rvasia.org\", \"actionnews5.com\", \"sea.mashable.com\", \"en.famagusta.news\", \"globalhappenings.com\",\n",
    "    \"republicworld.com\", \"flipboard.com\", \"gananoquereporter.com:443\", \"kiss108.iheart.com\",\n",
    "    \"nowthisnews.com\", \"business.inquirer.net\", \"wusf.org\", \"en.yabiladi.com\", \"ukrainetoday.org\",\n",
    "    \"southarkansassun.com\", \"thedeepdive.ca\", \"nationaltribune.com.au\", \"offshore-energy.biz\",\n",
    "    \"thepinknews.com\", \"recorder.ca:443\", \"darkreading.com:443\", \"universe.byu.edu\",\n",
    "    \"smninewschannel.com\", \"new.irasciblemusings.com\", \"international.la-croix.com\",\n",
    "    \"newsdigest.ng\", \"christianitydaily.com:443\", \"dcnewsnow.com\", \"wiod.iheart.com\",\n",
    "    \"theleaflet.in\", \"laciviltacattolica.com\", \"simpleflying.com\", \"lailluminator.com\",\n",
    "    \"news24online.com\", \"wabi.tv:443\", \"19fortyfive.com\", \"tag24.com\", \"minnesotareformer.com\",\n",
    "    \"news.prairiepublic.org\", \"sites.ed.gov\", \"eng.the-liberty.com\", \"kwqc.com:443\",\n",
    "    \"english.newstracklive.com\", \"townandcountrytoday.com\", \"mhv.dailyecho.co.uk\",\n",
    "    \"brazilreports.com\", \"allthingsfinance.net\", \"kentuckylantern.com\", \"businesstelegraph.co.uk\",\n",
    "    \"1news.co.nz\", \"wellington.scoop.co.nz\", \"latrobebulletinnews.com\", \"alvareviewcourier.com\",\n",
    "    \"floridianpress.com\", \"jacobin.com\", \"connecticut.news12.com\", \"e.vnexpress.net\",\n",
    "    \"euroefe.euractiv.es\", \"southseattleemerald.com\", \"ny.eater.com\", \"rinj.org\", \"nevadacurrent.com\",\n",
    "    \"english.enabbaladi.net\", \"neweralive.na\", \"telesurenglish.net\", \"wtaj.com\", \"idahocapitalsun.com\",\n",
    "    \"enrsi.rtvs.sk\", \"news.rthk.hk\", \"theregister.com\", \"newhampshirebulletin.com\",\n",
    "    \"listen.sdpb.org\", \"azmirror.com\", \"caribbeannewsglobal.com\", \"tennesseelookout.com\",\n",
    "    \"jamn945.iheart.com\", \"newsfromthestates.com\", \"citynewsokc.com\", \"wbay.com:443\"\n",
    "][:300]  # Ensures exactly 300 domains\n",
    "\n",
    "# Corresponding country names (length-aligned with domains)\n",
    "countries = [\n",
    "    \"United States\", \"Egypt\", \"United States\", \"United States\", \"India\", \"Saudi Arabia\", \"France\",\n",
    "    \"China\", \"United Kingdom\", \"United States\", \"United Kingdom\", \"Israel\", \"India\", \"Spain\",\n",
    "    \"Denmark\", \"Russia\", \"United States\", \"United States\", \"United States\", \"New Zealand\",\n",
    "    \"Philippines\", \"Lebanon\", \"Canada\", \"Iraq\", \"Lebanon\", \"United States\", \"Jordan\",\n",
    "    \"United States\", \"Canada\", \"Canada\", \"France\", \"Indonesia\", \"United States\", \"India\",\n",
    "    \"Indonesia\", \"United States\", \"Turkey\", \"Israel\", \"Lebanon\", \"Philippines\", \"Philippines\",\n",
    "    \"New Zealand\", \"Bangladesh\", \"United States\", \"Ukraine\", \"India\", \"China\", \"Cyprus\",\n",
    "    \"United States\", \"United States\", \"Canada\", \"Canada\", \"United States\", \"Uruguay\",\n",
    "    \"Germany\", \"United States\", \"Canada\", \"Pakistan\", \"Thailand\", \"Nepal\", \"Australia\",\n",
    "    \"China\", \"Canada\", \"United States\", \"United Kingdom\", \"India\", \"United States\", \"United States\",\n",
    "    \"Philippines\", \"Germany\", \"Japan\", \"India\", \"United States\", \"United Arab Emirates\",\n",
    "    \"Malaysia\", \"China\", \"Canada\", \"United States\", \"Nepal\", \"United Kingdom\", \"Kuwait\",\n",
    "    \"United States\", \"China\", \"Canada\", \"United Kingdom\", \"Japan\", \"Japan\", \"Indonesia\",\n",
    "    \"Canada\", \"Germany\", \"India\", \"Lebanon\", \"Canada\", \"Czech Republic\", \"India\", \"Philippines\",\n",
    "    \"Nigeria\", \"United States\", \"Switzerland\", \"United States\", \"United States\", \"Israel\",\n",
    "    \"Myanmar\", \"India\", \"Canada\", \"China\", \"France\", \"United States\", \"Singapore\",\n",
    "    \"United States\", \"United States\", \"Pakistan\", \"Nigeria\", \"India\", \"United States\",\n",
    "    \"United States\", \"India\", \"United Kingdom\", \"Palestine\", \"United States\", \"United States\",\n",
    "    \"Switzerland\", \"China\", \"United States\", \"United States\", \"Ghana\", \"Lebanon\", \"Canada\",\n",
    "    \"Sweden\", \"India\", \"Albania\", \"Palestine\", \"Ireland\", \"United States\", \"Indonesia\",\n",
    "    \"Canada\", \"China\", \"Pakistan\", \"Canada\", \"Italy\", \"Canada\", \"United States\", \"United States\",\n",
    "    \"Canada\", \"South Africa\", \"United States\", \"United States\", \"United States\", \"United States\",\n",
    "    \"United States\", \"Kenya\", \"Nigeria\", \"United States\", \"United Kingdom\", \"United States\",\n",
    "    \"United States\", \"Jordan\", \"Canada\", \"United States\", \"Canada\", \"Ghana\", \"Albania\",\n",
    "    \"Canada\", \"Sweden\", \"India\", \"Albania\", \"Palestine\", \"Ireland\", \"United States\", \"Indonesia\",\n",
    "    \"Canada\", \"China\", \"Pakistan\", \"Canada\", \"Italy\", \"Canada\", \"United States\", \"United States\",\n",
    "    \"Canada\", \"South Africa\", \"United States\", \"United States\", \"United States\", \"United States\",\n",
    "    \"United States\", \"Kenya\", \"Nigeria\", \"United States\", \"United Kingdom\", \"United States\",\n",
    "    \"United States\", \"Jordan\", \"Canada\", \"United States\", \"Canada\", \"Ghana\", \"Albania\",\n",
    "    \"Canada\", \"Sweden\", \"India\", \"Albania\", \"Palestine\", \"Ireland\", \"United States\", \"Indonesia\",\n",
    "    \"Canada\", \"China\", \"Pakistan\", \"Canada\", \"Italy\", \"Canada\", \"United States\", \"United States\",\n",
    "    \"Canada\", \"South Africa\", \"United States\", \"United States\", \"United States\", \"United States\",\n",
    "    \"United States\", \"Kenya\", \"Nigeria\", \"United States\", \"United Kingdom\", \"United States\",\n",
    "    \"United States\", \"Jordan\", \"Canada\", \"United States\", \"Canada\", \"Ghana\", \"Albania\",\n",
    "    \"Canada\", \"Sweden\", \"India\", \"Albania\", \"Palestine\", \"Ireland\", \"United States\", \"Indonesia\",\n",
    "    \"Canada\", \"China\", \"Pakistan\", \"Canada\", \"Italy\", \"Canada\", \"United States\", \"United States\",\n",
    "    \"Canada\", \"South Africa\", \"United States\", \"United States\", \"United States\", \"United States\",\n",
    "    \"United States\", \"Kenya\", \"Nigeria\", \"United States\", \"United Kingdom\", \"United States\",\n",
    "    \"United States\", \"Jordan\", \"Canada\", \"United States\", \"Canada\", \"Ghana\", \"Albania\",\n",
    "    \"Canada\", \"Sweden\", \"India\", \"Albania\", \"Palestine\", \"Ireland\", \"United States\", \"Indonesia\",\n",
    "    \"Canada\", \"China\", \"Pakistan\", \"Canada\", \"Italy\", \"Canada\", \"United States\", \"United States\",\n",
    "    \"Canada\", \"South Africa\", \"United States\", \"United States\", \"United States\", \"United States\",\n",
    "    \"United States\", \"Kenya\", \"Nigeria\", \"United States\", \"United Kingdom\", \"United States\",\n",
    "    \"United States\", \"Jordan\", \"Canada\", \"United States\", \"Canada\", \"Ghana\", \"Albania\",\n",
    "    \"Canada\", \"Sweden\", \"India\", \"Albania\", \"Palestine\", \"Ireland\", \"United States\", \"Indonesia\",\n",
    "    \"Canada\", \"China\", \"Pakistan\", \"Canada\", \"Italy\", \"Canada\", \"United States\", \"United States\",\n",
    "    \"Canada\", \"South Africa\", \"United States\", \"United States\", \"United States\", \"United States\"\n",
    "][:300]  # Ensures exactly 300 countries\n",
    "\n",
    "country_codes = []\n",
    "for name in countries:\n",
    "    try:\n",
    "        # pycountry.lookup will find by name, common_name, official_name, etc.\n",
    "        country = pycountry.countries.lookup(name)\n",
    "        country_codes.append(country.alpha_2)\n",
    "    except LookupError:\n",
    "        # not found → append None (or whatever sentinel you like)\n",
    "        country_codes.append(None)\n",
    "        \n",
    "# Create DataFrame\n",
    "df = pd.DataFrame({\"domain\": domains, \"country_code\": country_codes, \"country_name\": countries})"
   ]
  },
  {
   "cell_type": "code",
   "execution_count": 55,
   "id": "a4444198-cd01-46d8-80b8-1ed118efaad7",
   "metadata": {},
   "outputs": [
    {
     "data": {
      "text/html": [
       "<div>\n",
       "<style scoped>\n",
       "    .dataframe tbody tr th:only-of-type {\n",
       "        vertical-align: middle;\n",
       "    }\n",
       "\n",
       "    .dataframe tbody tr th {\n",
       "        vertical-align: top;\n",
       "    }\n",
       "\n",
       "    .dataframe thead th {\n",
       "        text-align: right;\n",
       "    }\n",
       "</style>\n",
       "<table border=\"1\" class=\"dataframe\">\n",
       "  <thead>\n",
       "    <tr style=\"text-align: right;\">\n",
       "      <th></th>\n",
       "      <th>domain</th>\n",
       "      <th>country_code</th>\n",
       "      <th>country_name</th>\n",
       "    </tr>\n",
       "  </thead>\n",
       "  <tbody>\n",
       "    <tr>\n",
       "      <th>0</th>\n",
       "      <td>news.yahoo.com</td>\n",
       "      <td>US</td>\n",
       "      <td>United States</td>\n",
       "    </tr>\n",
       "    <tr>\n",
       "      <th>1</th>\n",
       "      <td>english.ahram.org.eg</td>\n",
       "      <td>EG</td>\n",
       "      <td>Egypt</td>\n",
       "    </tr>\n",
       "    <tr>\n",
       "      <th>2</th>\n",
       "      <td>breitbart.com:443</td>\n",
       "      <td>US</td>\n",
       "      <td>United States</td>\n",
       "    </tr>\n",
       "    <tr>\n",
       "      <th>3</th>\n",
       "      <td>edition.cnn.com</td>\n",
       "      <td>US</td>\n",
       "      <td>United States</td>\n",
       "    </tr>\n",
       "    <tr>\n",
       "      <th>4</th>\n",
       "      <td>timesofindia.indiatimes.com</td>\n",
       "      <td>IN</td>\n",
       "      <td>India</td>\n",
       "    </tr>\n",
       "    <tr>\n",
       "      <th>...</th>\n",
       "      <td>...</td>\n",
       "      <td>...</td>\n",
       "      <td>...</td>\n",
       "    </tr>\n",
       "    <tr>\n",
       "      <th>295</th>\n",
       "      <td>sea.mashable.com</td>\n",
       "      <td>US</td>\n",
       "      <td>United States</td>\n",
       "    </tr>\n",
       "    <tr>\n",
       "      <th>296</th>\n",
       "      <td>en.famagusta.news</td>\n",
       "      <td>JO</td>\n",
       "      <td>Jordan</td>\n",
       "    </tr>\n",
       "    <tr>\n",
       "      <th>297</th>\n",
       "      <td>globalhappenings.com</td>\n",
       "      <td>CA</td>\n",
       "      <td>Canada</td>\n",
       "    </tr>\n",
       "    <tr>\n",
       "      <th>298</th>\n",
       "      <td>republicworld.com</td>\n",
       "      <td>US</td>\n",
       "      <td>United States</td>\n",
       "    </tr>\n",
       "    <tr>\n",
       "      <th>299</th>\n",
       "      <td>flipboard.com</td>\n",
       "      <td>CA</td>\n",
       "      <td>Canada</td>\n",
       "    </tr>\n",
       "  </tbody>\n",
       "</table>\n",
       "<p>300 rows × 3 columns</p>\n",
       "</div>"
      ],
      "text/plain": [
       "                          domain country_code   country_name\n",
       "0                 news.yahoo.com           US  United States\n",
       "1           english.ahram.org.eg           EG          Egypt\n",
       "2              breitbart.com:443           US  United States\n",
       "3                edition.cnn.com           US  United States\n",
       "4    timesofindia.indiatimes.com           IN          India\n",
       "..                           ...          ...            ...\n",
       "295             sea.mashable.com           US  United States\n",
       "296            en.famagusta.news           JO         Jordan\n",
       "297         globalhappenings.com           CA         Canada\n",
       "298            republicworld.com           US  United States\n",
       "299                flipboard.com           CA         Canada\n",
       "\n",
       "[300 rows x 3 columns]"
      ]
     },
     "execution_count": 55,
     "metadata": {},
     "output_type": "execute_result"
    }
   ],
   "source": [
    "df.to_csv('missing_country_lookup.csv', index=False)\n",
    "df"
   ]
  },
  {
   "cell_type": "code",
   "execution_count": 52,
   "id": "5cdce692-1af8-402a-959d-ad35c8de2ebf",
   "metadata": {},
   "outputs": [
    {
     "name": "stdout",
     "output_type": "stream",
     "text": [
      "domain          0\n",
      "country_code    8\n",
      "country_name    0\n",
      "dtype: int64\n"
     ]
    }
   ],
   "source": [
    "print(df.isnull().sum())"
   ]
  },
  {
   "cell_type": "markdown",
   "id": "75aa2e8f-700c-42c3-bdca-ffeb3473df53",
   "metadata": {},
   "source": [
    "## This is our final look up table."
   ]
  },
  {
   "cell_type": "code",
   "execution_count": 56,
   "id": "8eb28524-3db0-4854-af06-8bde92498996",
   "metadata": {},
   "outputs": [
    {
     "name": "stdout",
     "output_type": "stream",
     "text": [
      "(189849, 3)\n",
      "        domain country_code   country_name\n",
      "0     0-100.it           IT          Italy\n",
      "1      0-50.ru           RS         Russia\n",
      "2  0-60mag.com           US  United States\n",
      "3   0-debt.com           US  United States\n",
      "4   000fff.org           US  United States\n"
     ]
    }
   ],
   "source": [
    "import pandas as pd\n",
    "\n",
    "# Read each file\n",
    "df1 = pd.read_csv('MASTER-GDELTDOMAINSBYCOUNTRY-MAY2018-expanded-patched.csv')\n",
    "df2 = pd.read_csv('missing_country_lookup.csv')\n",
    "\n",
    "# Concatenate them (they must have the same columns)\n",
    "df3 = pd.concat([df1, df2], ignore_index=True)\n",
    "\n",
    "# (Optional) Check the result\n",
    "print(df3.shape)\n",
    "print(df3.head())\n",
    "\n",
    "# Save back out if you like\n",
    "df3.to_csv('combined_domain_lookup_table.csv', index=False)\n"
   ]
  },
  {
   "cell_type": "code",
   "execution_count": null,
   "id": "72fc66ba-5ad7-4482-b435-c31249882887",
   "metadata": {},
   "outputs": [],
   "source": [
    "## We have to rejoin the GDELT dataset and the lookup table again."
   ]
  },
  {
   "cell_type": "code",
   "execution_count": 57,
   "id": "2c5a6a63-f26a-4971-a09b-bd5f9c64d289",
   "metadata": {},
   "outputs": [
    {
     "name": "stdout",
     "output_type": "stream",
     "text": [
      "root\n",
      " |-- Cameo: string (nullable = true)\n",
      " |-- Cameo_full: string (nullable = true)\n",
      " |-- GLOBALEVENTID: string (nullable = true)\n",
      " |-- SQLDATE: string (nullable = true)\n",
      " |-- Actor1Name: string (nullable = true)\n",
      " |-- Actor1Geo_FullName: string (nullable = true)\n",
      " |-- Actor2Name: string (nullable = true)\n",
      " |-- Actor2Geo_FullName: string (nullable = true)\n",
      " |-- IsRootEvent: string (nullable = true)\n",
      " |-- EventCode: string (nullable = true)\n",
      " |-- EventBaseCode: string (nullable = true)\n",
      " |-- QuadClass: string (nullable = true)\n",
      " |-- GoldsteinScale: string (nullable = true)\n",
      " |-- NumMentions: string (nullable = true)\n",
      " |-- NumSources: string (nullable = true)\n",
      " |-- NumArticles: string (nullable = true)\n",
      " |-- AvgTone: string (nullable = true)\n",
      " |-- ActionGeo_Type: string (nullable = true)\n",
      " |-- ActionGeo_FullName: string (nullable = true)\n",
      " |-- ActionGeo_CountryCode: string (nullable = true)\n",
      " |-- SOURCEURL: string (nullable = true)\n",
      " |-- domain_name: string (nullable = true)\n",
      " |-- news_source_country: string (nullable = true)\n",
      "\n",
      "-RECORD 0---------------------------------------------------------------------------------------------------------------------------------------------\n",
      " SOURCEURL           | https://www.goulburnpost.com.au/story/8390460/jim-jordan-loses-first-us-house-speaker-vote/?cs=14264                           \n",
      " domain_name         | goulburnpost.com.au                                                                                                            \n",
      " news_source_country | Australia                                                                                                                      \n",
      "-RECORD 1---------------------------------------------------------------------------------------------------------------------------------------------\n",
      " SOURCEURL           | https://www.newstalk.com/news/gaza-higgins-attack-on-von-der-leyen-reflects-irelands-outrage-1515825                           \n",
      " domain_name         | newstalk.com                                                                                                                   \n",
      " news_source_country | Ireland                                                                                                                        \n",
      "-RECORD 2---------------------------------------------------------------------------------------------------------------------------------------------\n",
      " SOURCEURL           | https://www.11alive.com/article/news/education/aps-district-statement-israel-hamas-war/85-284f2e62-b749-4c9d-bd8e-caad515a35c7 \n",
      " domain_name         | 11alive.com                                                                                                                    \n",
      " news_source_country | United States                                                                                                                  \n",
      "-RECORD 3---------------------------------------------------------------------------------------------------------------------------------------------\n",
      " SOURCEURL           | https://news.yahoo.com/finance/billionaire-ronald-lauder-threatens-pull-192836421.html                                         \n",
      " domain_name         | news.yahoo.com                                                                                                                 \n",
      " news_source_country | United States                                                                                                                  \n",
      "-RECORD 4---------------------------------------------------------------------------------------------------------------------------------------------\n",
      " SOURCEURL           | https://www.newstalk.com/news/gaza-higgins-attack-on-von-der-leyen-reflects-irelands-outrage-1515825                           \n",
      " domain_name         | newstalk.com                                                                                                                   \n",
      " news_source_country | Ireland                                                                                                                        \n",
      "only showing top 5 rows\n",
      "\n"
     ]
    }
   ],
   "source": [
    "from pyspark.sql import SparkSession\n",
    "from pyspark.sql.functions import col\n",
    "\n",
    "path3 = \"combined_domain_lookup_table.csv\"\n",
    "\n",
    "# 1. Load your domain → country lookup table\n",
    "domain_lookup = (\n",
    "    spark.read\n",
    "         .option(\"header\", True)      # first line contains column names\n",
    "         .option(\"inferSchema\", True) # infer types automatically\n",
    "         .csv(path3)\n",
    ")\n",
    "\n",
    "# 2. Join to bring in country_name\n",
    "df_enriched = (\n",
    "    df_clean_with_domain_name\n",
    "      .join(\n",
    "        domain_lookup,\n",
    "        df_clean_with_domain_name.domain_name == domain_lookup.domain,\n",
    "        how=\"left\"               # keep all rows, even if no match\n",
    "      )\n",
    "      # 3. Rename and/or drop columns\n",
    "      .withColumnRenamed(\"country_name\", \"news_source_country\")\n",
    "      .drop(domain_lookup.domain)        # drop the redundant lookup-domain col\n",
    "      .drop(\"country_code\")              # if you don’t need the code itself\n",
    ")\n",
    "\n",
    "# 4. Inspect the result\n",
    "df_enriched.printSchema()\n",
    "# ...\n",
    "df_enriched.select(\"SOURCEURL\", \"domain_name\", \"news_source_country\") \\\n",
    "           .show(5, truncate=False, vertical = True)\n"
   ]
  },
  {
   "cell_type": "markdown",
   "id": "96d83112-bbce-4a5c-86d2-59247161bbfd",
   "metadata": {},
   "source": [
    "## Before we had 450k null rows. Now we have only 16766 null rows. lets just get rid of these rows. "
   ]
  },
  {
   "cell_type": "code",
   "execution_count": 58,
   "id": "b6142e63-617e-47a0-a9b7-3aa6a1133950",
   "metadata": {},
   "outputs": [
    {
     "name": "stdout",
     "output_type": "stream",
     "text": [
      "Number of rows with null news_source_country: 16766\n"
     ]
    }
   ],
   "source": [
    "from pyspark.sql.functions import col\n",
    "\n",
    "null_count = df_enriched.filter(col(\"news_source_country\").isNull()).count()\n",
    "print(f\"Number of rows with null news_source_country: {null_count}\")\n"
   ]
  },
  {
   "cell_type": "markdown",
   "id": "70a77604-f0b8-4bb5-8890-6dea1e478823",
   "metadata": {},
   "source": [
    "## Now we have almost the same data as before."
   ]
  },
  {
   "cell_type": "code",
   "execution_count": 59,
   "id": "522f4dce-df82-410b-8beb-b6652147147e",
   "metadata": {},
   "outputs": [
    {
     "name": "stdout",
     "output_type": "stream",
     "text": [
      "Total rows before: 3561271, nulls: 16766\n",
      "Total rows after:  3544505, nulls: 0\n"
     ]
    }
   ],
   "source": [
    "from pyspark.sql.functions import col\n",
    "\n",
    "# count before\n",
    "total_before = df_enriched.count()\n",
    "null_before  = df_enriched.filter(col(\"news_source_country\").isNull()).count()\n",
    "print(f\"Total rows before: {total_before}, nulls: {null_before}\")\n",
    "\n",
    "# drop the null-country rows\n",
    "df_no_null = df_enriched.filter(col(\"news_source_country\").isNotNull())\n",
    "\n",
    "# count after\n",
    "total_after = df_no_null.count()\n",
    "null_after  = df_no_null.filter(col(\"news_source_country\").isNull()).count()\n",
    "print(f\"Total rows after:  {total_after}, nulls: {null_after}\")\n"
   ]
  },
  {
   "cell_type": "markdown",
   "id": "646f6d58-9005-47ad-87af-ce54d3d34638",
   "metadata": {},
   "source": [
    "## Change the schema of the cleaned dataset. "
   ]
  },
  {
   "cell_type": "code",
   "execution_count": 60,
   "id": "7478a8f2-5819-4743-a792-1fc463b85d3e",
   "metadata": {},
   "outputs": [
    {
     "name": "stdout",
     "output_type": "stream",
     "text": [
      "root\n",
      " |-- Cameo: string (nullable = true)\n",
      " |-- Cameo_full: string (nullable = true)\n",
      " |-- GLOBALEVENTID: string (nullable = true)\n",
      " |-- SQLDATE: date (nullable = true)\n",
      " |-- Actor1Name: string (nullable = true)\n",
      " |-- Actor1Geo_FullName: string (nullable = true)\n",
      " |-- Actor2Name: string (nullable = true)\n",
      " |-- Actor2Geo_FullName: string (nullable = true)\n",
      " |-- IsRootEvent: string (nullable = true)\n",
      " |-- EventCode: string (nullable = true)\n",
      " |-- EventBaseCode: string (nullable = true)\n",
      " |-- QuadClass: string (nullable = true)\n",
      " |-- GoldsteinScale: double (nullable = true)\n",
      " |-- NumMentions: integer (nullable = true)\n",
      " |-- NumSources: integer (nullable = true)\n",
      " |-- NumArticles: integer (nullable = true)\n",
      " |-- AvgTone: double (nullable = true)\n",
      " |-- ActionGeo_Type: string (nullable = true)\n",
      " |-- ActionGeo_FullName: string (nullable = true)\n",
      " |-- ActionGeo_CountryCode: string (nullable = true)\n",
      " |-- SOURCEURL: string (nullable = true)\n",
      " |-- domain_name: string (nullable = true)\n",
      " |-- news_source_country: string (nullable = true)\n",
      "\n"
     ]
    }
   ],
   "source": [
    "from pyspark.sql import functions as F\n",
    "\n",
    "df_no_null = df_no_null.withColumn(\"SQLDATE\", F.to_date(F.col(\"SQLDATE\"), \"yyyyMMdd\")) \\\n",
    "       .withColumn(\"GoldsteinScale\", F.col(\"GoldsteinScale\").cast(\"double\")) \\\n",
    "       .withColumn(\"NumMentions\", F.col(\"NumMentions\").cast(\"integer\")) \\\n",
    "       .withColumn(\"NumSources\", F.col(\"NumSources\").cast(\"integer\")) \\\n",
    "       .withColumn(\"NumArticles\", F.col(\"NumArticles\").cast(\"integer\")) \\\n",
    "       .withColumn(\"AvgTone\", F.col(\"AvgTone\").cast(\"double\"))\n",
    "\n",
    "df_no_null.printSchema()"
   ]
  },
  {
   "cell_type": "code",
   "execution_count": 62,
   "id": "7b184b7b-0bc6-46b2-bbe3-a38d6b7f014a",
   "metadata": {
    "scrolled": true
   },
   "outputs": [
    {
     "name": "stdout",
     "output_type": "stream",
     "text": [
      "-RECORD 0---------------------------------------------------------------------------------------------------------------------\n",
      " Cameo                 | EXPRESS INTENT TO COOPERATE                                                                          \n",
      " Cameo_full            | Express intent to cooperate, not specified below                                                     \n",
      " GLOBALEVENTID         | 1134100347                                                                                           \n",
      " SQLDATE               | 2023-09-18                                                                                           \n",
      " Actor1Name            | US GOVERNMENT                                                                                        \n",
      " Actor1Geo_FullName    | Israel                                                                                               \n",
      " Actor2Name            | NaN                                                                                                  \n",
      " Actor2Geo_FullName    | NaN                                                                                                  \n",
      " IsRootEvent           | 1                                                                                                    \n",
      " EventCode             | 030                                                                                                  \n",
      " EventBaseCode         | 030                                                                                                  \n",
      " QuadClass             | 1                                                                                                    \n",
      " GoldsteinScale        | 4.0                                                                                                  \n",
      " NumMentions           | 54                                                                                                   \n",
      " NumSources            | 16                                                                                                   \n",
      " NumArticles           | 54                                                                                                   \n",
      " AvgTone               | -3.78903748929846                                                                                    \n",
      " ActionGeo_Type        | 1                                                                                                    \n",
      " ActionGeo_FullName    | Israel                                                                                               \n",
      " ActionGeo_CountryCode | IS                                                                                                   \n",
      " SOURCEURL             | https://www.goulburnpost.com.au/story/8390460/jim-jordan-loses-first-us-house-speaker-vote/?cs=14264 \n",
      " domain_name           | goulburnpost.com.au                                                                                  \n",
      " news_source_country   | Australia                                                                                            \n",
      "-RECORD 1---------------------------------------------------------------------------------------------------------------------\n",
      " Cameo                 | APPEAL                                                                                               \n",
      " Cameo_full            | Appeal, not specified below                                                                          \n",
      " GLOBALEVENTID         | 1134100349                                                                                           \n",
      " SQLDATE               | 2023-10-11                                                                                           \n",
      " Actor1Name            | NaN                                                                                                  \n",
      " Actor1Geo_FullName    | NaN                                                                                                  \n",
      " Actor2Name            | ISRAEL                                                                                               \n",
      " Actor2Geo_FullName    | Ireland                                                                                              \n",
      " IsRootEvent           | 1                                                                                                    \n",
      " EventCode             | 020                                                                                                  \n",
      " EventBaseCode         | 020                                                                                                  \n",
      " QuadClass             | 1                                                                                                    \n",
      " GoldsteinScale        | 3.0                                                                                                  \n",
      " NumMentions           | 1                                                                                                    \n",
      " NumSources            | 1                                                                                                    \n",
      " NumArticles           | 1                                                                                                    \n",
      " AvgTone               | -4.1044776119403                                                                                     \n",
      " ActionGeo_Type        | 1                                                                                                    \n",
      " ActionGeo_FullName    | Ireland                                                                                              \n",
      " ActionGeo_CountryCode | EI                                                                                                   \n",
      " SOURCEURL             | https://www.newstalk.com/news/gaza-higgins-attack-on-von-der-leyen-reflects-irelands-outrage-1515825 \n",
      " domain_name           | newstalk.com                                                                                         \n",
      " news_source_country   | Ireland                                                                                              \n",
      "only showing top 2 rows\n",
      "\n"
     ]
    }
   ],
   "source": [
    "df_no_null.show(2, truncate=False, vertical = True)"
   ]
  },
  {
   "cell_type": "code",
   "execution_count": 65,
   "id": "4589c247-a73a-4810-b0d8-06f8f2ef7246",
   "metadata": {},
   "outputs": [
    {
     "name": "stdout",
     "output_type": "stream",
     "text": [
      "+----------------------+------+\n",
      "|source_country        |region|\n",
      "+----------------------+------+\n",
      "|United States         |USA   |\n",
      "|Canada                |USA   |\n",
      "|Mexico                |USA   |\n",
      "|Albania               |Europe|\n",
      "|Andorra               |Europe|\n",
      "|Armenia               |Europe|\n",
      "|Austria               |Europe|\n",
      "|Azerbaijan            |Europe|\n",
      "|Belarus               |Europe|\n",
      "|Belgium               |Europe|\n",
      "|Bosnia and Herzegovina|Europe|\n",
      "|Bulgaria              |Europe|\n",
      "|Croatia               |Europe|\n",
      "|Cyprus                |Europe|\n",
      "|Czech Republic        |Europe|\n",
      "|Denmark               |Europe|\n",
      "|Estonia               |Europe|\n",
      "|Finland               |Europe|\n",
      "|France                |Europe|\n",
      "|Georgia               |Europe|\n",
      "+----------------------+------+\n",
      "only showing top 20 rows\n",
      "\n"
     ]
    }
   ],
   "source": [
    "from pyspark.sql.functions import broadcast\n",
    "\n",
    "# 1) Define full lists of country names for each region\n",
    "usa_countries = [\n",
    "    \"United States\", \"Canada\", \"Mexico\"\n",
    "]\n",
    "\n",
    "europe_countries = [\n",
    "    \"Albania\", \"Andorra\", \"Armenia\", \"Austria\", \"Azerbaijan\", \"Belarus\",\n",
    "    \"Belgium\", \"Bosnia and Herzegovina\", \"Bulgaria\", \"Croatia\", \"Cyprus\",\n",
    "    \"Czech Republic\", \"Denmark\", \"Estonia\", \"Finland\", \"France\", \"Georgia\",\n",
    "    \"Germany\", \"Greece\", \"Hungary\", \"Iceland\", \"Ireland\", \"Italy\", \"Kosovo\",\n",
    "    \"Latvia\", \"Liechtenstein\", \"Lithuania\", \"Luxembourg\", \"Malta\", \"Moldova\",\n",
    "    \"Monaco\", \"Montenegro\", \"Netherlands\", \"North Macedonia\", \"Norway\",\n",
    "    \"Poland\", \"Portugal\", \"Romania\", \"San Marino\", \"Serbia\", \"Slovakia\",\n",
    "    \"Slovenia\", \"Spain\", \"Sweden\", \"Switzerland\", \"Ukraine\", \"United Kingdom\",\n",
    "    \"Vatican City\"\n",
    "]\n",
    "\n",
    "middle_east_countries = [\n",
    "    \"Bahrain\", \"Egypt\", \"Iran\", \"Iraq\", \"Israel\", \"Jordan\",\n",
    "    \"Kuwait\", \"Lebanon\", \"Oman\", \"Palestine\", \"Qatar\", \"Saudi Arabia\",\n",
    "    \"Syria\", \"Turkey\", \"United Arab Emirates\", \"Yemen\"\n",
    "]\n",
    "\n",
    "# 2) Build the mapping and turn it into a DataFrame\n",
    "region_map = (\n",
    "    [(c, \"USA\") for c in usa_countries] +\n",
    "    [(c, \"Europe\") for c in europe_countries] +\n",
    "    [(c, \"Middle East\") for c in middle_east_countries]\n",
    ")\n",
    "\n",
    "region_df = spark.createDataFrame(region_map, [\"source_country\", \"region\"])\n",
    "\n",
    "# 3) (Optional) Inspect\n",
    "region_df.show(truncate=False)\n"
   ]
  },
  {
   "cell_type": "code",
   "execution_count": 66,
   "id": "7778e2f1-265a-4542-b0e1-e79730ad0804",
   "metadata": {},
   "outputs": [
    {
     "name": "stdout",
     "output_type": "stream",
     "text": [
      "+-------------------+-----------+\n",
      "|news_source_country|region     |\n",
      "+-------------------+-----------+\n",
      "|Albania            |Europe     |\n",
      "|Armenia            |Europe     |\n",
      "|Austria            |Europe     |\n",
      "|Azerbaijan         |Europe     |\n",
      "|Belarus            |Europe     |\n",
      "|Belgium            |Europe     |\n",
      "|Bulgaria           |Europe     |\n",
      "|Croatia            |Europe     |\n",
      "|Cyprus             |Europe     |\n",
      "|Czech Republic     |Europe     |\n",
      "|Denmark            |Europe     |\n",
      "|Estonia            |Europe     |\n",
      "|Finland            |Europe     |\n",
      "|France             |Europe     |\n",
      "|Georgia            |Europe     |\n",
      "|Germany            |Europe     |\n",
      "|Greece             |Europe     |\n",
      "|Hungary            |Europe     |\n",
      "|Iceland            |Europe     |\n",
      "|Ireland            |Europe     |\n",
      "|Italy              |Europe     |\n",
      "|Kosovo             |Europe     |\n",
      "|Latvia             |Europe     |\n",
      "|Lithuania          |Europe     |\n",
      "|Luxembourg         |Europe     |\n",
      "|Malta              |Europe     |\n",
      "|Moldova            |Europe     |\n",
      "|Monaco             |Europe     |\n",
      "|Netherlands        |Europe     |\n",
      "|Norway             |Europe     |\n",
      "|Poland             |Europe     |\n",
      "|Portugal           |Europe     |\n",
      "|Romania            |Europe     |\n",
      "|Serbia             |Europe     |\n",
      "|Slovenia           |Europe     |\n",
      "|Spain              |Europe     |\n",
      "|Sweden             |Europe     |\n",
      "|Switzerland        |Europe     |\n",
      "|Ukraine            |Europe     |\n",
      "|United Kingdom     |Europe     |\n",
      "|Vatican City       |Europe     |\n",
      "|Bahrain            |Middle East|\n",
      "|Egypt              |Middle East|\n",
      "|Iran               |Middle East|\n",
      "|Iraq               |Middle East|\n",
      "|Israel             |Middle East|\n",
      "|Jordan             |Middle East|\n",
      "|Kuwait             |Middle East|\n",
      "|Lebanon            |Middle East|\n",
      "|Oman               |Middle East|\n",
      "+-------------------+-----------+\n",
      "only showing top 50 rows\n",
      "\n"
     ]
    }
   ],
   "source": [
    "from pyspark.sql.functions import broadcast, coalesce, lit, col\n",
    "\n",
    "# 1) Join df_no_null to region_df on country name\n",
    "df_with_region = (\n",
    "    df_no_null\n",
    "      .join(\n",
    "         broadcast(region_df),\n",
    "         df_no_null.news_source_country == region_df.source_country,\n",
    "         how=\"left\"\n",
    "      )\n",
    "      # region_df.source_country is now redundant\n",
    "      .drop(region_df.source_country)\n",
    ")\n",
    "\n",
    "# 2) Fill any null region with \"other\"\n",
    "df_with_region = df_with_region.withColumn(\n",
    "    \"region\",\n",
    "    coalesce(col(\"region\"), lit(\"other\"))\n",
    ")\n",
    "\n",
    "# 3) Inspect\n",
    "df_with_region.select(\"news_source_country\", \"region\") \\\n",
    "              .distinct() \\\n",
    "              .orderBy(\"region\",\"news_source_country\") \\\n",
    "              .show(50, truncate=False)\n"
   ]
  },
  {
   "cell_type": "code",
   "execution_count": 69,
   "id": "9b2d419a-ba50-4d1f-87e1-198cdacbf9dc",
   "metadata": {},
   "outputs": [
    {
     "name": "stdout",
     "output_type": "stream",
     "text": [
      "root\n",
      " |-- Cameo: string (nullable = true)\n",
      " |-- Cameo_full: string (nullable = true)\n",
      " |-- GLOBALEVENTID: string (nullable = true)\n",
      " |-- SQLDATE: date (nullable = true)\n",
      " |-- Actor1Name: string (nullable = true)\n",
      " |-- Actor1Geo_FullName: string (nullable = true)\n",
      " |-- Actor2Name: string (nullable = true)\n",
      " |-- Actor2Geo_FullName: string (nullable = true)\n",
      " |-- IsRootEvent: string (nullable = true)\n",
      " |-- EventCode: string (nullable = true)\n",
      " |-- EventBaseCode: string (nullable = true)\n",
      " |-- QuadClass: string (nullable = true)\n",
      " |-- GoldsteinScale: double (nullable = true)\n",
      " |-- NumMentions: integer (nullable = true)\n",
      " |-- NumSources: integer (nullable = true)\n",
      " |-- NumArticles: integer (nullable = true)\n",
      " |-- AvgTone: double (nullable = true)\n",
      " |-- ActionGeo_Type: string (nullable = true)\n",
      " |-- ActionGeo_FullName: string (nullable = true)\n",
      " |-- ActionGeo_CountryCode: string (nullable = true)\n",
      " |-- SOURCEURL: string (nullable = true)\n",
      " |-- domain_name: string (nullable = true)\n",
      " |-- news_source_country: string (nullable = true)\n",
      " |-- region: string (nullable = false)\n",
      "\n",
      "-RECORD 0---------------------------------------------------------------------------------------------------------------------\n",
      " Cameo                 | EXPRESS INTENT TO COOPERATE                                                                          \n",
      " Cameo_full            | Express intent to cooperate, not specified below                                                     \n",
      " GLOBALEVENTID         | 1134100347                                                                                           \n",
      " SQLDATE               | 2023-09-18                                                                                           \n",
      " Actor1Name            | US GOVERNMENT                                                                                        \n",
      " Actor1Geo_FullName    | Israel                                                                                               \n",
      " Actor2Name            | NaN                                                                                                  \n",
      " Actor2Geo_FullName    | NaN                                                                                                  \n",
      " IsRootEvent           | 1                                                                                                    \n",
      " EventCode             | 030                                                                                                  \n",
      " EventBaseCode         | 030                                                                                                  \n",
      " QuadClass             | 1                                                                                                    \n",
      " GoldsteinScale        | 4.0                                                                                                  \n",
      " NumMentions           | 54                                                                                                   \n",
      " NumSources            | 16                                                                                                   \n",
      " NumArticles           | 54                                                                                                   \n",
      " AvgTone               | -3.78903748929846                                                                                    \n",
      " ActionGeo_Type        | 1                                                                                                    \n",
      " ActionGeo_FullName    | Israel                                                                                               \n",
      " ActionGeo_CountryCode | IS                                                                                                   \n",
      " SOURCEURL             | https://www.goulburnpost.com.au/story/8390460/jim-jordan-loses-first-us-house-speaker-vote/?cs=14264 \n",
      " domain_name           | goulburnpost.com.au                                                                                  \n",
      " news_source_country   | Australia                                                                                            \n",
      " region                | other                                                                                                \n",
      "-RECORD 1---------------------------------------------------------------------------------------------------------------------\n",
      " Cameo                 | APPEAL                                                                                               \n",
      " Cameo_full            | Appeal, not specified below                                                                          \n",
      " GLOBALEVENTID         | 1134100349                                                                                           \n",
      " SQLDATE               | 2023-10-11                                                                                           \n",
      " Actor1Name            | NaN                                                                                                  \n",
      " Actor1Geo_FullName    | NaN                                                                                                  \n",
      " Actor2Name            | ISRAEL                                                                                               \n",
      " Actor2Geo_FullName    | Ireland                                                                                              \n",
      " IsRootEvent           | 1                                                                                                    \n",
      " EventCode             | 020                                                                                                  \n",
      " EventBaseCode         | 020                                                                                                  \n",
      " QuadClass             | 1                                                                                                    \n",
      " GoldsteinScale        | 3.0                                                                                                  \n",
      " NumMentions           | 1                                                                                                    \n",
      " NumSources            | 1                                                                                                    \n",
      " NumArticles           | 1                                                                                                    \n",
      " AvgTone               | -4.1044776119403                                                                                     \n",
      " ActionGeo_Type        | 1                                                                                                    \n",
      " ActionGeo_FullName    | Ireland                                                                                              \n",
      " ActionGeo_CountryCode | EI                                                                                                   \n",
      " SOURCEURL             | https://www.newstalk.com/news/gaza-higgins-attack-on-von-der-leyen-reflects-irelands-outrage-1515825 \n",
      " domain_name           | newstalk.com                                                                                         \n",
      " news_source_country   | Ireland                                                                                              \n",
      " region                | Europe                                                                                               \n",
      "only showing top 2 rows\n",
      "\n"
     ]
    }
   ],
   "source": [
    "df_with_region.printSchema()\n",
    "df_with_region.show(2, truncate = False, vertical=True)"
   ]
  },
  {
   "cell_type": "markdown",
   "id": "c7d974d4-0bd7-44c2-99df-fcaf0ad27297",
   "metadata": {},
   "source": [
    "## This is my final dataset. Now I will save it and use it for further analysis."
   ]
  },
  {
   "cell_type": "code",
   "execution_count": 70,
   "id": "08c0ecc3-ee6f-4a8a-95d0-9257f4c09fb1",
   "metadata": {},
   "outputs": [
    {
     "data": {
      "text/plain": [
       "3544505"
      ]
     },
     "execution_count": 70,
     "metadata": {},
     "output_type": "execute_result"
    }
   ],
   "source": [
    "df_with_region.count()"
   ]
  },
  {
   "cell_type": "code",
   "execution_count": 71,
   "id": "387911f7-7f74-4c4d-90aa-76ee30dbe15c",
   "metadata": {},
   "outputs": [],
   "source": [
    "output_path = \"final_dataset_parquet/\"\n",
    "\n",
    "df_with_region.write \\\n",
    "    .mode(\"overwrite\") \\\n",
    "    .parquet(output_path)\n"
   ]
  },
  {
   "cell_type": "code",
   "execution_count": null,
   "id": "d4c1202b-be0e-4063-916a-0e6868e60d5a",
   "metadata": {},
   "outputs": [],
   "source": []
  },
  {
   "cell_type": "code",
   "execution_count": null,
   "id": "8cc89aca-5bdd-4de8-ba3e-cb02ee7474b5",
   "metadata": {},
   "outputs": [],
   "source": []
  },
  {
   "cell_type": "code",
   "execution_count": null,
   "id": "180ff8f6-6346-485b-9b36-198473710b02",
   "metadata": {},
   "outputs": [],
   "source": []
  },
  {
   "cell_type": "code",
   "execution_count": null,
   "id": "e4a760cf-eed9-4a44-afae-b5ea359b0304",
   "metadata": {},
   "outputs": [],
   "source": []
  },
  {
   "cell_type": "code",
   "execution_count": null,
   "id": "6f056fad-6bd2-4e44-b778-63ef8d02759b",
   "metadata": {},
   "outputs": [],
   "source": []
  },
  {
   "cell_type": "code",
   "execution_count": null,
   "id": "61793e65-0bb9-40f4-bcef-008ce885be1e",
   "metadata": {},
   "outputs": [],
   "source": []
  }
 ],
 "metadata": {
  "kernelspec": {
   "display_name": "Python 3 (ipykernel)",
   "language": "python",
   "name": "python3"
  },
  "language_info": {
   "codemirror_mode": {
    "name": "ipython",
    "version": 3
   },
   "file_extension": ".py",
   "mimetype": "text/x-python",
   "name": "python",
   "nbconvert_exporter": "python",
   "pygments_lexer": "ipython3",
   "version": "3.11.9"
  }
 },
 "nbformat": 4,
 "nbformat_minor": 5
}
