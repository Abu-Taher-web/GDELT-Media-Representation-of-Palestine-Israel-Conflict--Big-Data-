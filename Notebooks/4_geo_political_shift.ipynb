{
 "cells": [
  {
   "cell_type": "code",
   "execution_count": 2,
   "id": "26eef1d1-3969-487b-8b0c-f7529355f3f6",
   "metadata": {},
   "outputs": [
    {
     "name": "stdout",
     "output_type": "stream",
     "text": [
      "Collecting country_converter\n",
      "  Downloading country_converter-1.3-py3-none-any.whl.metadata (25 kB)\n",
      "Requirement already satisfied: pandas>=1.0 in /opt/conda/lib/python3.11/site-packages (from country_converter) (2.0.3)\n",
      "Requirement already satisfied: python-dateutil>=2.8.2 in /opt/conda/lib/python3.11/site-packages (from pandas>=1.0->country_converter) (2.9.0)\n",
      "Requirement already satisfied: pytz>=2020.1 in /opt/conda/lib/python3.11/site-packages (from pandas>=1.0->country_converter) (2024.1)\n",
      "Requirement already satisfied: tzdata>=2022.1 in /opt/conda/lib/python3.11/site-packages (from pandas>=1.0->country_converter) (2024.1)\n",
      "Requirement already satisfied: numpy>=1.21.0 in /opt/conda/lib/python3.11/site-packages (from pandas>=1.0->country_converter) (1.26.4)\n",
      "Requirement already satisfied: six>=1.5 in /opt/conda/lib/python3.11/site-packages (from python-dateutil>=2.8.2->pandas>=1.0->country_converter) (1.16.0)\n",
      "Downloading country_converter-1.3-py3-none-any.whl (47 kB)\n",
      "\u001b[2K   \u001b[90m━━━━━━━━━━━━━━━━━━━━━━━━━━━━━━━━━━━━━━━━\u001b[0m \u001b[32m47.2/47.2 kB\u001b[0m \u001b[31m660.0 kB/s\u001b[0m eta \u001b[36m0:00:00\u001b[0m\u001b[36m0:00:01\u001b[0m\n",
      "\u001b[?25hInstalling collected packages: country_converter\n",
      "Successfully installed country_converter-1.3\n"
     ]
    }
   ],
   "source": [
    "!pip install country_converter"
   ]
  },
  {
   "cell_type": "code",
   "execution_count": 10,
   "id": "e42f26b3-6323-4219-811b-b161ebb4da05",
   "metadata": {},
   "outputs": [
    {
     "name": "stdout",
     "output_type": "stream",
     "text": [
      "Requirement already satisfied: geopandas in /opt/conda/lib/python3.11/site-packages (1.0.1)\n",
      "Requirement already satisfied: geodatasets in /opt/conda/lib/python3.11/site-packages (2024.8.0)\n",
      "Requirement already satisfied: numpy>=1.22 in /opt/conda/lib/python3.11/site-packages (from geopandas) (1.26.4)\n",
      "Requirement already satisfied: pyogrio>=0.7.2 in /opt/conda/lib/python3.11/site-packages (from geopandas) (0.10.0)\n",
      "Requirement already satisfied: packaging in /opt/conda/lib/python3.11/site-packages (from geopandas) (24.0)\n",
      "Requirement already satisfied: pandas>=1.4.0 in /opt/conda/lib/python3.11/site-packages (from geopandas) (2.0.3)\n",
      "Requirement already satisfied: pyproj>=3.3.0 in /opt/conda/lib/python3.11/site-packages (from geopandas) (3.7.1)\n",
      "Requirement already satisfied: shapely>=2.0.0 in /opt/conda/lib/python3.11/site-packages (from geopandas) (2.1.0)\n",
      "Requirement already satisfied: pooch in /opt/conda/lib/python3.11/site-packages (from geodatasets) (1.8.2)\n",
      "Requirement already satisfied: python-dateutil>=2.8.2 in /opt/conda/lib/python3.11/site-packages (from pandas>=1.4.0->geopandas) (2.9.0)\n",
      "Requirement already satisfied: pytz>=2020.1 in /opt/conda/lib/python3.11/site-packages (from pandas>=1.4.0->geopandas) (2024.1)\n",
      "Requirement already satisfied: tzdata>=2022.1 in /opt/conda/lib/python3.11/site-packages (from pandas>=1.4.0->geopandas) (2024.1)\n",
      "Requirement already satisfied: certifi in /opt/conda/lib/python3.11/site-packages (from pyogrio>=0.7.2->geopandas) (2024.2.2)\n",
      "Requirement already satisfied: platformdirs>=2.5.0 in /opt/conda/lib/python3.11/site-packages (from pooch->geodatasets) (4.2.1)\n",
      "Requirement already satisfied: requests>=2.19.0 in /opt/conda/lib/python3.11/site-packages (from pooch->geodatasets) (2.31.0)\n",
      "Requirement already satisfied: six>=1.5 in /opt/conda/lib/python3.11/site-packages (from python-dateutil>=2.8.2->pandas>=1.4.0->geopandas) (1.16.0)\n",
      "Requirement already satisfied: charset-normalizer<4,>=2 in /opt/conda/lib/python3.11/site-packages (from requests>=2.19.0->pooch->geodatasets) (3.3.2)\n",
      "Requirement already satisfied: idna<4,>=2.5 in /opt/conda/lib/python3.11/site-packages (from requests>=2.19.0->pooch->geodatasets) (3.7)\n",
      "Requirement already satisfied: urllib3<3,>=1.21.1 in /opt/conda/lib/python3.11/site-packages (from requests>=2.19.0->pooch->geodatasets) (2.2.1)\n"
     ]
    }
   ],
   "source": [
    "!pip install geopandas geodatasets"
   ]
  },
  {
   "cell_type": "code",
   "execution_count": 13,
   "id": "590ca1fe-bc18-4f8d-a993-f16344da8d8f",
   "metadata": {},
   "outputs": [
    {
     "name": "stdout",
     "output_type": "stream",
     "text": [
      "['APEC', 'BASIC', 'BRIC', 'CC41', 'CIS', 'Cecilia2050', 'Continent_7', 'DACcode', 'EEA', 'EU', 'EU12', 'EU15', 'EU25', 'EU27', 'EU27_2007', 'EU28', 'EURO', 'EXIO1', 'EXIO1_3L', 'EXIO2', 'EXIO2_3L', 'EXIO3', 'EXIO3_3L', 'Eora', 'FAOcode', 'G20', 'G7', 'GBDcode', 'GEOnumeric', 'GWcode', 'IEA', 'IMAGE', 'IOC', 'ISO2', 'ISO3', 'ISOnumeric', 'MESSAGE', 'OECD', 'REMIND', 'Schengen', 'UN', 'UNcode', 'UNmember', 'UNregion', 'WIOD', 'ccTLD', 'continent', 'name_official', 'name_short', 'obsolete', 'regex']\n"
     ]
    }
   ],
   "source": [
    "import country_converter as coco\n",
    "\n",
    "cc = coco.CountryConverter()\n",
    "print(cc.valid_class)\n"
   ]
  },
  {
   "cell_type": "code",
   "execution_count": 15,
   "id": "5ea08cf8-2be5-4f50-b819-7315255bda5c",
   "metadata": {},
   "outputs": [
    {
     "name": "stdout",
     "output_type": "stream",
     "text": [
      "           country      un_subregion major_region  is_middle_east\n",
      "0    United States  Northern America        Other           False\n",
      "1           Canada  Northern America        Other           False\n",
      "2           Brazil     South America        Other           False\n",
      "3           France    Western Europe        Other           False\n",
      "4          Germany    Western Europe        Other           False\n",
      "5   United Kingdom   Northern Europe        Other           False\n",
      "6           Israel      Western Asia  Middle East            True\n",
      "7        Palestine      Western Asia  Middle East            True\n",
      "8            China      Eastern Asia        Other           False\n",
      "9            India     Southern Asia        Other           False\n",
      "10          Jordan      Western Asia  Middle East            True\n",
      "11    Saudi Arabia      Western Asia  Middle East            True\n",
      "12           Egypt   Northern Africa        Other           False\n",
      "13         Morocco   Northern Africa        Other           False\n"
     ]
    }
   ],
   "source": [
    "import country_converter as coco\n",
    "import pandas as pd\n",
    "\n",
    "df = pd.DataFrame({\n",
    "    'country': ['United States','Canada','Brazil','France','Germany',\n",
    "                'United Kingdom','Israel','Palestine','China','India',\n",
    "                'Jordan','Saudi Arabia','Egypt','Morocco']\n",
    "})\n",
    "\n",
    "cc = coco.CountryConverter()\n",
    "\n",
    "# 1) Get the UN subregion\n",
    "df['un_subregion'] = cc.convert(\n",
    "    names=df['country'],\n",
    "    to='UNregion',\n",
    "    not_found='Other'\n",
    ")\n",
    "\n",
    "# 2) Flag the core Middle East as “Western Asia”\n",
    "df['is_middle_east'] = df['un_subregion'] == 'Western Asia'\n",
    "\n",
    "# 3) Create a clean “major_region” label\n",
    "df['major_region'] = df['un_subregion'].where(\n",
    "    df['is_middle_east'],\n",
    "    other='Other'\n",
    ").fillna('Other')\n",
    "df.loc[df['is_middle_east'], 'major_region'] = 'Middle East'\n",
    "\n",
    "print(df[['country','un_subregion','major_region','is_middle_east']])\n"
   ]
  }
 ],
 "metadata": {
  "kernelspec": {
   "display_name": "Python 3 (ipykernel)",
   "language": "python",
   "name": "python3"
  },
  "language_info": {
   "codemirror_mode": {
    "name": "ipython",
    "version": 3
   },
   "file_extension": ".py",
   "mimetype": "text/x-python",
   "name": "python",
   "nbconvert_exporter": "python",
   "pygments_lexer": "ipython3",
   "version": "3.11.9"
  }
 },
 "nbformat": 4,
 "nbformat_minor": 5
}
