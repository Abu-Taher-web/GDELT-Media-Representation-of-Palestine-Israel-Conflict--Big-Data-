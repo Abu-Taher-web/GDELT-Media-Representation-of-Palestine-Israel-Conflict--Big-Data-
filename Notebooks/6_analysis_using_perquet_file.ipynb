{
 "cells": [
  {
   "cell_type": "code",
   "execution_count": 1,
   "id": "5431bcb1-227f-47a0-aeeb-97dd5c05e4c7",
   "metadata": {},
   "outputs": [],
   "source": [
    "from pyspark.sql import SparkSession\n",
    "\n",
    "spark = SparkSession.builder \\\n",
    "    .appName(\"ReadParquetExample\") \\\n",
    "    .getOrCreate()\n"
   ]
  },
  {
   "cell_type": "code",
   "execution_count": 4,
   "id": "58300371-370f-4e0c-a1fb-63dfe7f7bce9",
   "metadata": {},
   "outputs": [],
   "source": [
    "df = spark.read.parquet(\"parquet/20250323/part-00000-70719350-f19b-4f49-9c97-36dcad7803bd-c000.snappy.parquet\")"
   ]
  },
  {
   "cell_type": "code",
   "execution_count": 6,
   "id": "59a707e2-9f3c-461d-a733-587ca24dd6f7",
   "metadata": {
    "scrolled": true
   },
   "outputs": [
    {
     "name": "stdout",
     "output_type": "stream",
     "text": [
      "root\n",
      " |-- SOURCEURL: string (nullable = true)\n",
      " |-- first(SQLDATE): string (nullable = true)\n",
      " |-- EventCount: long (nullable = true)\n",
      " |-- GLOBALEVENTIDs: array (nullable = true)\n",
      " |    |-- element: string (containsNull = true)\n",
      " |-- GoldsteinMean: double (nullable = true)\n",
      " |-- GoldsteinMedian: double (nullable = true)\n",
      " |-- MedianPGoldstein: double (nullable = true)\n",
      " |-- ToneMean: double (nullable = true)\n",
      " |-- MedianAvgTone: double (nullable = true)\n",
      " |-- EventCodes: array (nullable = true)\n",
      " |    |-- element: string (containsNull = true)\n",
      " |-- Cameos: array (nullable = true)\n",
      " |    |-- element: string (containsNull = true)\n",
      " |-- All_descriptions: array (nullable = true)\n",
      " |    |-- element: string (containsNull = true)\n",
      " |-- ActorPairs: array (nullable = true)\n",
      " |    |-- element: struct (containsNull = true)\n",
      " |    |    |-- Actor1Name: string (nullable = true)\n",
      " |    |    |-- Actor2Name: string (nullable = true)\n",
      " |-- GeoPairs: array (nullable = true)\n",
      " |    |-- element: struct (containsNull = true)\n",
      " |    |    |-- Actor1Geo_FullName: string (nullable = true)\n",
      " |    |    |-- Actor2Geo_FullName: string (nullable = true)\n",
      "\n",
      "-RECORD 0----------------------------------------------------------------------------------------------------------------------------------------------------------------------------------------------------------------------------\n",
      " SOURCEURL        | http://baystreet.ca/articles/economiccommentary/109783/Canadian-PM-Mark-Carney-Expected-To-Call-Snap-Election                                                                                                    \n",
      " first(SQLDATE)   | 20250323                                                                                                                                                                                                         \n",
      " EventCount       | 2                                                                                                                                                                                                                \n",
      " GLOBALEVENTIDs   | [1233850541, 1233850546]                                                                                                                                                                                         \n",
      " GoldsteinMean    | -5.0                                                                                                                                                                                                             \n",
      " GoldsteinMedian  | -5.0                                                                                                                                                                                                             \n",
      " MedianPGoldstein | -5.0                                                                                                                                                                                                             \n",
      " ToneMean         | 0.0                                                                                                                                                                                                              \n",
      " MedianAvgTone    | 0.0                                                                                                                                                                                                              \n",
      " EventCodes       | [100, 100]                                                                                                                                                                                                       \n",
      " Cameos           | [DEMAND, DEMAND]                                                                                                                                                                                                 \n",
      " All_descriptions | [Demand, not specified below, Demand, not specified below]                                                                                                                                                       \n",
      " ActorPairs       | [{CANADIAN, VOTER}, {CANADIAN, VOTER}]                                                                                                                                                                           \n",
      " GeoPairs         | [{Canada, Canada}, {Canada, Canada}]                                                                                                                                                                             \n",
      "-RECORD 1----------------------------------------------------------------------------------------------------------------------------------------------------------------------------------------------------------------------------\n",
      " SOURCEURL        | http://businessghana.com/site/news/general/324856/WaterAid-demands-action-to-tackle-crisis                                                                                                                       \n",
      " first(SQLDATE)   | 20250323                                                                                                                                                                                                         \n",
      " EventCount       | 1                                                                                                                                                                                                                \n",
      " GLOBALEVENTIDs   | [1233795717]                                                                                                                                                                                                     \n",
      " GoldsteinMean    | 3.0                                                                                                                                                                                                              \n",
      " GoldsteinMedian  | 3.0                                                                                                                                                                                                              \n",
      " MedianPGoldstein | 3.0                                                                                                                                                                                                              \n",
      " ToneMean         | -3.3955857385399                                                                                                                                                                                                 \n",
      " MedianAvgTone    | -3.3955857385399                                                                                                                                                                                                 \n",
      " EventCodes       | [020]                                                                                                                                                                                                            \n",
      " Cameos           | [APPEAL]                                                                                                                                                                                                         \n",
      " All_descriptions | [Appeal, not specified below]                                                                                                                                                                                    \n",
      " ActorPairs       | [{GOVERNMENT, BANK}]                                                                                                                                                                                             \n",
      " GeoPairs         | [{Cairo, Al Qahirah, Egypt, Cairo, Al Qahirah, Egypt}]                                                                                                                                                           \n",
      "-RECORD 2----------------------------------------------------------------------------------------------------------------------------------------------------------------------------------------------------------------------------\n",
      " SOURCEURL        | http://businessghana.com/site/news/general/324857/Inculcate-Japanese-edu-style-in-schools                                                                                                                        \n",
      " first(SQLDATE)   | 20250323                                                                                                                                                                                                         \n",
      " EventCount       | 4                                                                                                                                                                                                                \n",
      " GLOBALEVENTIDs   | [1233826343, 1233826344, 1233826345, 1233826406]                                                                                                                                                                 \n",
      " GoldsteinMean    | 2.5                                                                                                                                                                                                              \n",
      " GoldsteinMedian  | 2.5                                                                                                                                                                                                              \n",
      " MedianPGoldstein | -2.0                                                                                                                                                                                                             \n",
      " ToneMean         | 3.14232902033272                                                                                                                                                                                                 \n",
      " MedianAvgTone    | 3.14232902033272                                                                                                                                                                                                 \n",
      " EventCodes       | [046, 016, 016, 046]                                                                                                                                                                                             \n",
      " Cameos           | [CONSULT, MAKE PUBLIC STATEMENT, MAKE PUBLIC STATEMENT, CONSULT]                                                                                                                                                 \n",
      " All_descriptions | [Engage in negotiation, Deny responsibility, Deny responsibility, Engage in negotiation]                                                                                                                         \n",
      " ActorPairs       | [{STUDENT, GHANA}, {STUDENT, JAPAN}, {STUDENT, JAPAN}, {GHANA, STUDENT}]                                                                                                                                         \n",
      " GeoPairs         | [{Accra, Greater Accra, Ghana, Accra, Greater Accra, Ghana}, {Tokyo, Tokyo, Japan, Accra, Greater Accra, Ghana}, {Tokyo, Tokyo, Japan, Tokyo, Tokyo, Japan}, {Accra, Greater Accra, Ghana, Tokyo, Tokyo, Japan}] \n",
      "-RECORD 3----------------------------------------------------------------------------------------------------------------------------------------------------------------------------------------------------------------------------\n",
      " SOURCEURL        | http://businessghana.com/site/news/general/324858/ECOWAS-Court-Conducts-Preparatory-Meeting                                                                                                                      \n",
      " first(SQLDATE)   | 20250323                                                                                                                                                                                                         \n",
      " EventCount       | 3                                                                                                                                                                                                                \n",
      " GLOBALEVENTIDs   | [1233826452, 1233826511, 1233826512]                                                                                                                                                                             \n",
      " GoldsteinMean    | 1.0                                                                                                                                                                                                              \n",
      " GoldsteinMedian  | 1.0                                                                                                                                                                                                              \n",
      " MedianPGoldstein | 1.0                                                                                                                                                                                                              \n",
      " ToneMean         | 6.270627062706271                                                                                                                                                                                                \n",
      " MedianAvgTone    | 6.27062706270627                                                                                                                                                                                                 \n",
      " EventCodes       | [040, 040, 040]                                                                                                                                                                                                  \n",
      " Cameos           | [CONSULT, CONSULT, CONSULT]                                                                                                                                                                                      \n",
      " All_descriptions | [Consult, not specified below, Consult, not specified below, Consult, not specified below]                                                                                                                       \n",
      " ActorPairs       | [{ATTORNEY GENERAL, ECONOMIC COMMUNITY OF WEST AFRICAN STATES}, {ECONOMIC COMMUNITY OF WEST AFRICAN STATES, ATTORNEY GENERAL}, {ECONOMIC COMMUNITY OF WEST AFRICAN STATES, ATTORNEY GENERAL}]                    \n",
      " GeoPairs         | [{Lagos State, Lagos, Nigeria, Lagos State, Lagos, Nigeria}, {Lagos State, Lagos, Nigeria, Lagos, Lagos, Nigeria}, {Lagos State, Lagos, Nigeria, Lagos State, Lagos, Nigeria}]                                   \n",
      "-RECORD 4----------------------------------------------------------------------------------------------------------------------------------------------------------------------------------------------------------------------------\n",
      " SOURCEURL        | http://colombogazette.com/2025/03/23/pope-francis-to-be-discharged-from-hospital/                                                                                                                                \n",
      " first(SQLDATE)   | 20250323                                                                                                                                                                                                         \n",
      " EventCount       | 3                                                                                                                                                                                                                \n",
      " GLOBALEVENTIDs   | [1233747969, 1233747970, 1233747971]                                                                                                                                                                             \n",
      " GoldsteinMean    | 3.0                                                                                                                                                                                                              \n",
      " GoldsteinMedian  | 3.0                                                                                                                                                                                                              \n",
      " MedianPGoldstein | 3.0                                                                                                                                                                                                              \n",
      " ToneMean         | -0.947877969154563                                                                                                                                                                                               \n",
      " MedianAvgTone    | -0.947877969154563                                                                                                                                                                                               \n",
      " EventCodes       | [020, 020, 020]                                                                                                                                                                                                  \n",
      " Cameos           | [APPEAL, APPEAL, APPEAL]                                                                                                                                                                                         \n",
      " All_descriptions | [Appeal, not specified below, Appeal, not specified below, Appeal, not specified below]                                                                                                                          \n",
      " ActorPairs       | [{THE POPE, REUTERS}, {THE POPE, REUTERS}, {THE POPE, REUTERS}]                                                                                                                                                  \n",
      " GeoPairs         | [{Spain, Spain}, {Spain, Vatican City}, {Vatican City, Vatican City}]                                                                                                                                            \n",
      "only showing top 5 rows\n",
      "\n"
     ]
    }
   ],
   "source": [
    "df.printSchema()   # shows column names and types\n",
    "# Show 5 rows, do not truncate any column, and print each row vertically\n",
    "df.show(5, truncate=False, vertical=True)\n"
   ]
  },
  {
   "cell_type": "code",
   "execution_count": 8,
   "id": "70e90c0b-d4b1-4e04-a649-6b427c6e179e",
   "metadata": {},
   "outputs": [
    {
     "name": "stdout",
     "output_type": "stream",
     "text": [
      "Rows with at least one null: 0\n"
     ]
    }
   ],
   "source": [
    "from pyspark.sql.functions import lit\n",
    "from pyspark.sql.functions import col, sum, when\n",
    "\n",
    "# Build a combined predicate: any column IS NULL\n",
    "any_null = None\n",
    "for c in df.columns:\n",
    "    is_null_c = col(c).isNull()\n",
    "    any_null = is_null_c if any_null is None else any_null | is_null_c\n",
    "\n",
    "# Count rows matching it\n",
    "rows_with_nulls = df.filter(any_null).count()\n",
    "print(f\"Rows with at least one null: {rows_with_nulls}\")\n",
    "\n"
   ]
  },
  {
   "cell_type": "code",
   "execution_count": 10,
   "id": "1fdfc6d2-b1fd-412f-8be2-f9b8fe362ec8",
   "metadata": {},
   "outputs": [
    {
     "name": "stdout",
     "output_type": "stream",
     "text": [
      "(0 rows)\n",
      "\n"
     ]
    }
   ],
   "source": [
    "df.filter(any_null).limit(10).show(truncate=False, vertical=True)\n"
   ]
  },
  {
   "cell_type": "code",
   "execution_count": 11,
   "id": "599f5cac-239d-48cd-8428-e0c42d792372",
   "metadata": {},
   "outputs": [
    {
     "name": "stdout",
     "output_type": "stream",
     "text": [
      "Total rows: 14168\n",
      "Total columns: 14\n"
     ]
    }
   ],
   "source": [
    "# 1) Number of rows\n",
    "row_count = df.count()\n",
    "print(f\"Total rows: {row_count}\")\n",
    "\n",
    "# 2) Number of columns\n",
    "num_columns = len(df.columns)\n",
    "print(f\"Total columns: {num_columns}\")\n"
   ]
  },
  {
   "cell_type": "code",
   "execution_count": 16,
   "id": "03131b4a-3413-4fb6-b2c1-cf446aac257f",
   "metadata": {},
   "outputs": [
    {
     "name": "stdout",
     "output_type": "stream",
     "text": [
      "+----------------+--------+--------+----------------------------------------------------------------------------+--------+\n",
      "|column          |non_null|distinct|top_value                                                                   |top_freq|\n",
      "+----------------+--------+--------+----------------------------------------------------------------------------+--------+\n",
      "|SOURCEURL       |14168   |14168   |http://www.darientimes.com/opinion/article/tong-ui-risk-utility-20236533.php|1       |\n",
      "|first(SQLDATE)  |14168   |6       |20250323                                                                    |13536   |\n",
      "|EventCount      |14168   |69      |1                                                                           |3650    |\n",
      "|GLOBALEVENTIDs  |14168   |14168   |['1233752629', '1233752640', '1233752641']                                  |1       |\n",
      "|GoldsteinMean   |14168   |3508    |0.0                                                                         |747     |\n",
      "|GoldsteinMedian |14168   |234     |0.0                                                                         |1374    |\n",
      "|MedianPGoldstein|14168   |42      |0.0                                                                         |1762    |\n",
      "|ToneMean        |14168   |12390   |0.0                                                                         |233     |\n",
      "|MedianAvgTone   |14168   |11505   |0.0                                                                         |279     |\n",
      "|EventCodes      |14168   |7959    |['010']                                                                     |383     |\n",
      "|Cameos          |14168   |6394    |['MAKE PUBLIC STATEMENT']                                                   |653     |\n",
      "|All_descriptions|14168   |7959    |['Make statement, not specified below']                                     |383     |\n",
      "|ActorPairs      |14168   |12118   |[Row(Actor1Name='UNITED STATES', Actor2Name='NaN')]                         |162     |\n",
      "|GeoPairs        |14168   |10661   |[Row(Actor1Geo_FullName='NaN', Actor2Geo_FullName='NaN')]                   |827     |\n",
      "+----------------+--------+--------+----------------------------------------------------------------------------+--------+\n",
      "\n"
     ]
    }
   ],
   "source": [
    "from pyspark.sql import SparkSession\n",
    "from pyspark.sql.functions import col, count, countDistinct, desc\n",
    "\n",
    "cols = df.columns\n",
    "\n",
    "summary_rows = []\n",
    "for c in cols:\n",
    "    non_null = df.filter(col(c).isNotNull()).count()\n",
    "    distinct = df.select(countDistinct(c)).first()[0]\n",
    "    top = (\n",
    "        df.groupBy(c)\n",
    "          .count()\n",
    "          .orderBy(desc(\"count\"))\n",
    "          .limit(1)\n",
    "          .collect()\n",
    "    )\n",
    "    if top:\n",
    "        top_val, top_freq = top[0][c], top[0][\"count\"]\n",
    "        # **coerce to string** so every top_val is a Python str\n",
    "        top_val = str(top_val)\n",
    "    else:\n",
    "        top_val, top_freq = None, 0\n",
    "\n",
    "    summary_rows.append((c, non_null, distinct, top_val, top_freq))\n",
    "\n",
    "# Now Spark can infer a consistent schema: all top_val fields are strings\n",
    "summary_df = spark.createDataFrame(\n",
    "    summary_rows,\n",
    "    schema=[\"column\", \"non_null\", \"distinct\", \"top_value\", \"top_freq\"]\n",
    ")\n",
    "summary_df.show(truncate=False)\n"
   ]
  },
  {
   "cell_type": "code",
   "execution_count": 19,
   "id": "171874e3-43da-449b-9974-db15b11503ea",
   "metadata": {},
   "outputs": [
    {
     "name": "stdout",
     "output_type": "stream",
     "text": [
      "+--------+\n",
      "|SQLDATE |\n",
      "+--------+\n",
      "|20150326|\n",
      "|20240323|\n",
      "|20250221|\n",
      "|20250316|\n",
      "|20250322|\n",
      "|20250323|\n",
      "+--------+\n",
      "\n"
     ]
    }
   ],
   "source": [
    "from pyspark.sql.functions import col\n",
    "\n",
    "# Rename the column so it’s easier to refer to:\n",
    "unique_dates_df = df.select(col(\"first(SQLDATE)\").alias(\"SQLDATE\")).distinct().orderBy(\"SQLDATE\")       # optional: sort them chronologically\n",
    "\n",
    "unique_dates_df.show(truncate=False)\n"
   ]
  },
  {
   "cell_type": "code",
   "execution_count": 20,
   "id": "e12d7169-775f-4028-85f6-7bc161498833",
   "metadata": {},
   "outputs": [
    {
     "name": "stdout",
     "output_type": "stream",
     "text": [
      "+----------------------------------------------------------------------------------------------------------------+-----------------------+\n",
      "|SOURCEURL                                                                                                       |domain                 |\n",
      "+----------------------------------------------------------------------------------------------------------------+-----------------------+\n",
      "|http://baystreet.ca/articles/economiccommentary/109783/Canadian-PM-Mark-Carney-Expected-To-Call-Snap-Election   |baystreet.ca           |\n",
      "|http://businessghana.com/site/news/general/324856/WaterAid-demands-action-to-tackle-crisis                      |businessghana.com      |\n",
      "|http://businessghana.com/site/news/general/324857/Inculcate-Japanese-edu-style-in-schools                       |businessghana.com      |\n",
      "|http://businessghana.com/site/news/general/324858/ECOWAS-Court-Conducts-Preparatory-Meeting                     |businessghana.com      |\n",
      "|http://colombogazette.com/2025/03/23/pope-francis-to-be-discharged-from-hospital/                               |colombogazette.com     |\n",
      "|http://colombogazette.com/2025/03/23/this-time-the-writing-is-behind-the-wall/                                  |colombogazette.com     |\n",
      "|http://droitwichstandard.co.uk/news/foundation-launches-fund-for-social-mobility-and-youth-projects-54933/      |droitwichstandard.co.uk|\n",
      "|http://droitwichstandard.co.uk/news/parliament-remains-united-on-ukraine-huddleston-mps-westminster-diary-54956/|droitwichstandard.co.uk|\n",
      "|http://elynews.com/events/                                                                                      |elynews.com            |\n",
      "|http://en.ammonnews.net/article/80147                                                                           |en.ammonnews.net       |\n",
      "|http://en.ammonnews.net/article/80150                                                                           |en.ammonnews.net       |\n",
      "|http://en.ammonnews.net/article/80165                                                                           |en.ammonnews.net       |\n",
      "|http://en.ce.cn/Insight/202503/23/t20250323_39328032.shtml                                                      |en.ce.cn               |\n",
      "|http://en.ce.cn/main/latest/202503/23/t20250323_39327930.shtml                                                  |en.ce.cn               |\n",
      "|http://en.ce.cn/main/latest/202503/23/t20250323_39327933.shtml                                                  |en.ce.cn               |\n",
      "|http://en.ce.cn/main/latest/202503/23/t20250323_39327940.shtml                                                  |en.ce.cn               |\n",
      "|http://en.ce.cn/main/latest/202503/23/t20250323_39327942.shtml                                                  |en.ce.cn               |\n",
      "|http://en.ce.cn/main/latest/202503/23/t20250323_39327944.shtml                                                  |en.ce.cn               |\n",
      "|http://eng.chinamil.com.cn/MEDIA/PhotosWorld/16376403.html                                                      |eng.chinamil.com.cn    |\n",
      "|http://eng.chinamil.com.cn/WORLD_209198/WorldMilitaryNews/16376389.html                                         |eng.chinamil.com.cn    |\n",
      "+----------------------------------------------------------------------------------------------------------------+-----------------------+\n",
      "only showing top 20 rows\n",
      "\n"
     ]
    }
   ],
   "source": [
    "from pyspark.sql.functions import regexp_extract, col\n",
    "\n",
    "# This regex grabs the part between “://” (optional) and the next “/” (or end-of-string).\n",
    "df2 = df.withColumn(\n",
    "    \"domain\",\n",
    "    regexp_extract(\n",
    "        col(\"SOURCEURL\"),\n",
    "        r'^(?:https?://)?(?:www\\.)?([^/]+)',\n",
    "        1\n",
    "    )\n",
    ")\n",
    "\n",
    "df2.select(\"SOURCEURL\", \"domain\").show(truncate=False)\n"
   ]
  },
  {
   "cell_type": "code",
   "execution_count": 21,
   "id": "64540894-5574-42c5-8562-39591cf62205",
   "metadata": {
    "scrolled": true
   },
   "outputs": [
    {
     "name": "stdout",
     "output_type": "stream",
     "text": [
      "root\n",
      " |-- SOURCEURL: string (nullable = true)\n",
      " |-- first(SQLDATE): string (nullable = true)\n",
      " |-- EventCount: long (nullable = true)\n",
      " |-- GLOBALEVENTIDs: array (nullable = true)\n",
      " |    |-- element: string (containsNull = true)\n",
      " |-- GoldsteinMean: double (nullable = true)\n",
      " |-- GoldsteinMedian: double (nullable = true)\n",
      " |-- MedianPGoldstein: double (nullable = true)\n",
      " |-- ToneMean: double (nullable = true)\n",
      " |-- MedianAvgTone: double (nullable = true)\n",
      " |-- EventCodes: array (nullable = true)\n",
      " |    |-- element: string (containsNull = true)\n",
      " |-- Cameos: array (nullable = true)\n",
      " |    |-- element: string (containsNull = true)\n",
      " |-- All_descriptions: array (nullable = true)\n",
      " |    |-- element: string (containsNull = true)\n",
      " |-- ActorPairs: array (nullable = true)\n",
      " |    |-- element: struct (containsNull = true)\n",
      " |    |    |-- Actor1Name: string (nullable = true)\n",
      " |    |    |-- Actor2Name: string (nullable = true)\n",
      " |-- GeoPairs: array (nullable = true)\n",
      " |    |-- element: struct (containsNull = true)\n",
      " |    |    |-- Actor1Geo_FullName: string (nullable = true)\n",
      " |    |    |-- Actor2Geo_FullName: string (nullable = true)\n",
      " |-- domain: string (nullable = true)\n",
      "\n",
      "-RECORD 0----------------------------------------------------------------------------------------------------------------------------------------------------------------------------------------------------------------------------\n",
      " SOURCEURL        | http://baystreet.ca/articles/economiccommentary/109783/Canadian-PM-Mark-Carney-Expected-To-Call-Snap-Election                                                                                                    \n",
      " first(SQLDATE)   | 20250323                                                                                                                                                                                                         \n",
      " EventCount       | 2                                                                                                                                                                                                                \n",
      " GLOBALEVENTIDs   | [1233850541, 1233850546]                                                                                                                                                                                         \n",
      " GoldsteinMean    | -5.0                                                                                                                                                                                                             \n",
      " GoldsteinMedian  | -5.0                                                                                                                                                                                                             \n",
      " MedianPGoldstein | -5.0                                                                                                                                                                                                             \n",
      " ToneMean         | 0.0                                                                                                                                                                                                              \n",
      " MedianAvgTone    | 0.0                                                                                                                                                                                                              \n",
      " EventCodes       | [100, 100]                                                                                                                                                                                                       \n",
      " Cameos           | [DEMAND, DEMAND]                                                                                                                                                                                                 \n",
      " All_descriptions | [Demand, not specified below, Demand, not specified below]                                                                                                                                                       \n",
      " ActorPairs       | [{CANADIAN, VOTER}, {CANADIAN, VOTER}]                                                                                                                                                                           \n",
      " GeoPairs         | [{Canada, Canada}, {Canada, Canada}]                                                                                                                                                                             \n",
      " domain           | baystreet.ca                                                                                                                                                                                                     \n",
      "-RECORD 1----------------------------------------------------------------------------------------------------------------------------------------------------------------------------------------------------------------------------\n",
      " SOURCEURL        | http://businessghana.com/site/news/general/324856/WaterAid-demands-action-to-tackle-crisis                                                                                                                       \n",
      " first(SQLDATE)   | 20250323                                                                                                                                                                                                         \n",
      " EventCount       | 1                                                                                                                                                                                                                \n",
      " GLOBALEVENTIDs   | [1233795717]                                                                                                                                                                                                     \n",
      " GoldsteinMean    | 3.0                                                                                                                                                                                                              \n",
      " GoldsteinMedian  | 3.0                                                                                                                                                                                                              \n",
      " MedianPGoldstein | 3.0                                                                                                                                                                                                              \n",
      " ToneMean         | -3.3955857385399                                                                                                                                                                                                 \n",
      " MedianAvgTone    | -3.3955857385399                                                                                                                                                                                                 \n",
      " EventCodes       | [020]                                                                                                                                                                                                            \n",
      " Cameos           | [APPEAL]                                                                                                                                                                                                         \n",
      " All_descriptions | [Appeal, not specified below]                                                                                                                                                                                    \n",
      " ActorPairs       | [{GOVERNMENT, BANK}]                                                                                                                                                                                             \n",
      " GeoPairs         | [{Cairo, Al Qahirah, Egypt, Cairo, Al Qahirah, Egypt}]                                                                                                                                                           \n",
      " domain           | businessghana.com                                                                                                                                                                                                \n",
      "-RECORD 2----------------------------------------------------------------------------------------------------------------------------------------------------------------------------------------------------------------------------\n",
      " SOURCEURL        | http://businessghana.com/site/news/general/324857/Inculcate-Japanese-edu-style-in-schools                                                                                                                        \n",
      " first(SQLDATE)   | 20250323                                                                                                                                                                                                         \n",
      " EventCount       | 4                                                                                                                                                                                                                \n",
      " GLOBALEVENTIDs   | [1233826343, 1233826344, 1233826345, 1233826406]                                                                                                                                                                 \n",
      " GoldsteinMean    | 2.5                                                                                                                                                                                                              \n",
      " GoldsteinMedian  | 2.5                                                                                                                                                                                                              \n",
      " MedianPGoldstein | -2.0                                                                                                                                                                                                             \n",
      " ToneMean         | 3.14232902033272                                                                                                                                                                                                 \n",
      " MedianAvgTone    | 3.14232902033272                                                                                                                                                                                                 \n",
      " EventCodes       | [046, 016, 016, 046]                                                                                                                                                                                             \n",
      " Cameos           | [CONSULT, MAKE PUBLIC STATEMENT, MAKE PUBLIC STATEMENT, CONSULT]                                                                                                                                                 \n",
      " All_descriptions | [Engage in negotiation, Deny responsibility, Deny responsibility, Engage in negotiation]                                                                                                                         \n",
      " ActorPairs       | [{STUDENT, GHANA}, {STUDENT, JAPAN}, {STUDENT, JAPAN}, {GHANA, STUDENT}]                                                                                                                                         \n",
      " GeoPairs         | [{Accra, Greater Accra, Ghana, Accra, Greater Accra, Ghana}, {Tokyo, Tokyo, Japan, Accra, Greater Accra, Ghana}, {Tokyo, Tokyo, Japan, Tokyo, Tokyo, Japan}, {Accra, Greater Accra, Ghana, Tokyo, Tokyo, Japan}] \n",
      " domain           | businessghana.com                                                                                                                                                                                                \n",
      "-RECORD 3----------------------------------------------------------------------------------------------------------------------------------------------------------------------------------------------------------------------------\n",
      " SOURCEURL        | http://businessghana.com/site/news/general/324858/ECOWAS-Court-Conducts-Preparatory-Meeting                                                                                                                      \n",
      " first(SQLDATE)   | 20250323                                                                                                                                                                                                         \n",
      " EventCount       | 3                                                                                                                                                                                                                \n",
      " GLOBALEVENTIDs   | [1233826452, 1233826511, 1233826512]                                                                                                                                                                             \n",
      " GoldsteinMean    | 1.0                                                                                                                                                                                                              \n",
      " GoldsteinMedian  | 1.0                                                                                                                                                                                                              \n",
      " MedianPGoldstein | 1.0                                                                                                                                                                                                              \n",
      " ToneMean         | 6.270627062706271                                                                                                                                                                                                \n",
      " MedianAvgTone    | 6.27062706270627                                                                                                                                                                                                 \n",
      " EventCodes       | [040, 040, 040]                                                                                                                                                                                                  \n",
      " Cameos           | [CONSULT, CONSULT, CONSULT]                                                                                                                                                                                      \n",
      " All_descriptions | [Consult, not specified below, Consult, not specified below, Consult, not specified below]                                                                                                                       \n",
      " ActorPairs       | [{ATTORNEY GENERAL, ECONOMIC COMMUNITY OF WEST AFRICAN STATES}, {ECONOMIC COMMUNITY OF WEST AFRICAN STATES, ATTORNEY GENERAL}, {ECONOMIC COMMUNITY OF WEST AFRICAN STATES, ATTORNEY GENERAL}]                    \n",
      " GeoPairs         | [{Lagos State, Lagos, Nigeria, Lagos State, Lagos, Nigeria}, {Lagos State, Lagos, Nigeria, Lagos, Lagos, Nigeria}, {Lagos State, Lagos, Nigeria, Lagos State, Lagos, Nigeria}]                                   \n",
      " domain           | businessghana.com                                                                                                                                                                                                \n",
      "-RECORD 4----------------------------------------------------------------------------------------------------------------------------------------------------------------------------------------------------------------------------\n",
      " SOURCEURL        | http://colombogazette.com/2025/03/23/pope-francis-to-be-discharged-from-hospital/                                                                                                                                \n",
      " first(SQLDATE)   | 20250323                                                                                                                                                                                                         \n",
      " EventCount       | 3                                                                                                                                                                                                                \n",
      " GLOBALEVENTIDs   | [1233747969, 1233747970, 1233747971]                                                                                                                                                                             \n",
      " GoldsteinMean    | 3.0                                                                                                                                                                                                              \n",
      " GoldsteinMedian  | 3.0                                                                                                                                                                                                              \n",
      " MedianPGoldstein | 3.0                                                                                                                                                                                                              \n",
      " ToneMean         | -0.947877969154563                                                                                                                                                                                               \n",
      " MedianAvgTone    | -0.947877969154563                                                                                                                                                                                               \n",
      " EventCodes       | [020, 020, 020]                                                                                                                                                                                                  \n",
      " Cameos           | [APPEAL, APPEAL, APPEAL]                                                                                                                                                                                         \n",
      " All_descriptions | [Appeal, not specified below, Appeal, not specified below, Appeal, not specified below]                                                                                                                          \n",
      " ActorPairs       | [{THE POPE, REUTERS}, {THE POPE, REUTERS}, {THE POPE, REUTERS}]                                                                                                                                                  \n",
      " GeoPairs         | [{Spain, Spain}, {Spain, Vatican City}, {Vatican City, Vatican City}]                                                                                                                                            \n",
      " domain           | colombogazette.com                                                                                                                                                                                               \n",
      "only showing top 5 rows\n",
      "\n"
     ]
    }
   ],
   "source": [
    "df2.printSchema()   # shows column names and types\n",
    "# Show 5 rows, do not truncate any column, and print each row vertically\n",
    "df2.show(5, truncate=False, vertical=True)"
   ]
  },
  {
   "cell_type": "code",
   "execution_count": 28,
   "id": "0f5d7328-c06a-4fa1-8cfb-26c85066f288",
   "metadata": {
    "scrolled": true
   },
   "outputs": [
    {
     "ename": "Py4JJavaError",
     "evalue": "An error occurred while calling o851.count.\n: org.apache.spark.SparkException: Job aborted due to stage failure: Task 0 in stage 368.0 failed 1 times, most recent failure: Lost task 0.0 in stage 368.0 (TID 233) (np-light-indigo-populus-db8d798cf-sbsv5 executor driver): org.apache.spark.SparkFileNotFoundException: File file:/home/jovyan/shared/Taher/parquet/20250323/part-00000-70719350-f19b-4f49-9c97-36dcad7803bd-c000.snappy.parquet does not exist\nIt is possible the underlying files have been updated. You can explicitly invalidate the cache in Spark by running 'REFRESH TABLE tableName' command in SQL or by recreating the Dataset/DataFrame involved.\n\tat org.apache.spark.sql.errors.QueryExecutionErrors$.readCurrentFileNotFoundError(QueryExecutionErrors.scala:780)\n\tat org.apache.spark.sql.execution.datasources.FileScanRDD$$anon$1.org$apache$spark$sql$execution$datasources$FileScanRDD$$anon$$readCurrentFile(FileScanRDD.scala:220)\n\tat org.apache.spark.sql.execution.datasources.FileScanRDD$$anon$1.nextIterator(FileScanRDD.scala:279)\n\tat org.apache.spark.sql.execution.datasources.FileScanRDD$$anon$1.hasNext(FileScanRDD.scala:129)\n\tat org.apache.spark.sql.execution.FileSourceScanExec$$anon$1.hasNext(DataSourceScanExec.scala:593)\n\tat org.apache.spark.sql.catalyst.expressions.GeneratedClass$GeneratedIteratorForCodegenStage1.columnartorow_nextBatch_0$(Unknown Source)\n\tat org.apache.spark.sql.catalyst.expressions.GeneratedClass$GeneratedIteratorForCodegenStage1.processNext(Unknown Source)\n\tat org.apache.spark.sql.execution.BufferedRowIterator.hasNext(BufferedRowIterator.java:43)\n\tat org.apache.spark.sql.execution.WholeStageCodegenEvaluatorFactory$WholeStageCodegenPartitionEvaluator$$anon$1.hasNext(WholeStageCodegenEvaluatorFactory.scala:43)\n\tat org.apache.spark.sql.execution.columnar.DefaultCachedBatchSerializer$$anon$1.hasNext(InMemoryRelation.scala:119)\n\tat org.apache.spark.sql.execution.columnar.CachedRDDBuilder$$anon$2.hasNext(InMemoryRelation.scala:288)\n\tat org.apache.spark.storage.memory.MemoryStore.putIterator(MemoryStore.scala:223)\n\tat org.apache.spark.storage.memory.MemoryStore.putIteratorAsValues(MemoryStore.scala:302)\n\tat org.apache.spark.storage.BlockManager.$anonfun$doPutIterator$1(BlockManager.scala:1597)\n\tat org.apache.spark.storage.BlockManager.org$apache$spark$storage$BlockManager$$doPut(BlockManager.scala:1524)\n\tat org.apache.spark.storage.BlockManager.doPutIterator(BlockManager.scala:1588)\n\tat org.apache.spark.storage.BlockManager.getOrElseUpdate(BlockManager.scala:1389)\n\tat org.apache.spark.storage.BlockManager.getOrElseUpdateRDDBlock(BlockManager.scala:1343)\n\tat org.apache.spark.rdd.RDD.getOrCompute(RDD.scala:379)\n\tat org.apache.spark.rdd.RDD.iterator(RDD.scala:329)\n\tat org.apache.spark.scheduler.ResultTask.runTask(ResultTask.scala:93)\n\tat org.apache.spark.TaskContext.runTaskWithListeners(TaskContext.scala:166)\n\tat org.apache.spark.scheduler.Task.run(Task.scala:141)\n\tat org.apache.spark.executor.Executor$TaskRunner.$anonfun$run$4(Executor.scala:620)\n\tat org.apache.spark.util.SparkErrorUtils.tryWithSafeFinally(SparkErrorUtils.scala:64)\n\tat org.apache.spark.util.SparkErrorUtils.tryWithSafeFinally$(SparkErrorUtils.scala:61)\n\tat org.apache.spark.util.Utils$.tryWithSafeFinally(Utils.scala:94)\n\tat org.apache.spark.executor.Executor$TaskRunner.run(Executor.scala:623)\n\tat java.base/java.util.concurrent.ThreadPoolExecutor.runWorker(ThreadPoolExecutor.java:1136)\n\tat java.base/java.util.concurrent.ThreadPoolExecutor$Worker.run(ThreadPoolExecutor.java:635)\n\tat java.base/java.lang.Thread.run(Thread.java:840)\n\nDriver stacktrace:\n\tat org.apache.spark.scheduler.DAGScheduler.failJobAndIndependentStages(DAGScheduler.scala:2856)\n\tat org.apache.spark.scheduler.DAGScheduler.$anonfun$abortStage$2(DAGScheduler.scala:2792)\n\tat org.apache.spark.scheduler.DAGScheduler.$anonfun$abortStage$2$adapted(DAGScheduler.scala:2791)\n\tat scala.collection.mutable.ResizableArray.foreach(ResizableArray.scala:62)\n\tat scala.collection.mutable.ResizableArray.foreach$(ResizableArray.scala:55)\n\tat scala.collection.mutable.ArrayBuffer.foreach(ArrayBuffer.scala:49)\n\tat org.apache.spark.scheduler.DAGScheduler.abortStage(DAGScheduler.scala:2791)\n\tat org.apache.spark.scheduler.DAGScheduler.$anonfun$handleTaskSetFailed$1(DAGScheduler.scala:1247)\n\tat org.apache.spark.scheduler.DAGScheduler.$anonfun$handleTaskSetFailed$1$adapted(DAGScheduler.scala:1247)\n\tat scala.Option.foreach(Option.scala:407)\n\tat org.apache.spark.scheduler.DAGScheduler.handleTaskSetFailed(DAGScheduler.scala:1247)\n\tat org.apache.spark.scheduler.DAGSchedulerEventProcessLoop.doOnReceive(DAGScheduler.scala:3060)\n\tat org.apache.spark.scheduler.DAGSchedulerEventProcessLoop.onReceive(DAGScheduler.scala:2994)\n\tat org.apache.spark.scheduler.DAGSchedulerEventProcessLoop.onReceive(DAGScheduler.scala:2983)\n\tat org.apache.spark.util.EventLoop$$anon$1.run(EventLoop.scala:49)\nCaused by: org.apache.spark.SparkFileNotFoundException: File file:/home/jovyan/shared/Taher/parquet/20250323/part-00000-70719350-f19b-4f49-9c97-36dcad7803bd-c000.snappy.parquet does not exist\nIt is possible the underlying files have been updated. You can explicitly invalidate the cache in Spark by running 'REFRESH TABLE tableName' command in SQL or by recreating the Dataset/DataFrame involved.\n\tat org.apache.spark.sql.errors.QueryExecutionErrors$.readCurrentFileNotFoundError(QueryExecutionErrors.scala:780)\n\tat org.apache.spark.sql.execution.datasources.FileScanRDD$$anon$1.org$apache$spark$sql$execution$datasources$FileScanRDD$$anon$$readCurrentFile(FileScanRDD.scala:220)\n\tat org.apache.spark.sql.execution.datasources.FileScanRDD$$anon$1.nextIterator(FileScanRDD.scala:279)\n\tat org.apache.spark.sql.execution.datasources.FileScanRDD$$anon$1.hasNext(FileScanRDD.scala:129)\n\tat org.apache.spark.sql.execution.FileSourceScanExec$$anon$1.hasNext(DataSourceScanExec.scala:593)\n\tat org.apache.spark.sql.catalyst.expressions.GeneratedClass$GeneratedIteratorForCodegenStage1.columnartorow_nextBatch_0$(Unknown Source)\n\tat org.apache.spark.sql.catalyst.expressions.GeneratedClass$GeneratedIteratorForCodegenStage1.processNext(Unknown Source)\n\tat org.apache.spark.sql.execution.BufferedRowIterator.hasNext(BufferedRowIterator.java:43)\n\tat org.apache.spark.sql.execution.WholeStageCodegenEvaluatorFactory$WholeStageCodegenPartitionEvaluator$$anon$1.hasNext(WholeStageCodegenEvaluatorFactory.scala:43)\n\tat org.apache.spark.sql.execution.columnar.DefaultCachedBatchSerializer$$anon$1.hasNext(InMemoryRelation.scala:119)\n\tat org.apache.spark.sql.execution.columnar.CachedRDDBuilder$$anon$2.hasNext(InMemoryRelation.scala:288)\n\tat org.apache.spark.storage.memory.MemoryStore.putIterator(MemoryStore.scala:223)\n\tat org.apache.spark.storage.memory.MemoryStore.putIteratorAsValues(MemoryStore.scala:302)\n\tat org.apache.spark.storage.BlockManager.$anonfun$doPutIterator$1(BlockManager.scala:1597)\n\tat org.apache.spark.storage.BlockManager.org$apache$spark$storage$BlockManager$$doPut(BlockManager.scala:1524)\n\tat org.apache.spark.storage.BlockManager.doPutIterator(BlockManager.scala:1588)\n\tat org.apache.spark.storage.BlockManager.getOrElseUpdate(BlockManager.scala:1389)\n\tat org.apache.spark.storage.BlockManager.getOrElseUpdateRDDBlock(BlockManager.scala:1343)\n\tat org.apache.spark.rdd.RDD.getOrCompute(RDD.scala:379)\n\tat org.apache.spark.rdd.RDD.iterator(RDD.scala:329)\n\tat org.apache.spark.scheduler.ResultTask.runTask(ResultTask.scala:93)\n\tat org.apache.spark.TaskContext.runTaskWithListeners(TaskContext.scala:166)\n\tat org.apache.spark.scheduler.Task.run(Task.scala:141)\n\tat org.apache.spark.executor.Executor$TaskRunner.$anonfun$run$4(Executor.scala:620)\n\tat org.apache.spark.util.SparkErrorUtils.tryWithSafeFinally(SparkErrorUtils.scala:64)\n\tat org.apache.spark.util.SparkErrorUtils.tryWithSafeFinally$(SparkErrorUtils.scala:61)\n\tat org.apache.spark.util.Utils$.tryWithSafeFinally(Utils.scala:94)\n\tat org.apache.spark.executor.Executor$TaskRunner.run(Executor.scala:623)\n\tat java.base/java.util.concurrent.ThreadPoolExecutor.runWorker(ThreadPoolExecutor.java:1136)\n\tat java.base/java.util.concurrent.ThreadPoolExecutor$Worker.run(ThreadPoolExecutor.java:635)\n\tat java.base/java.lang.Thread.run(Thread.java:840)\n",
     "output_type": "error",
     "traceback": [
      "\u001b[0;31m---------------------------------------------------------------------------\u001b[0m",
      "\u001b[0;31mPy4JJavaError\u001b[0m                             Traceback (most recent call last)",
      "Cell \u001b[0;32mIn[28], line 4\u001b[0m\n\u001b[1;32m      2\u001b[0m \u001b[38;5;66;03m# 1) Cache and trigger an action\u001b[39;00m\n\u001b[1;32m      3\u001b[0m df2\u001b[38;5;241m.\u001b[39mcache()\n\u001b[0;32m----> 4\u001b[0m \u001b[43mdf2\u001b[49m\u001b[38;5;241;43m.\u001b[39;49m\u001b[43mcount\u001b[49m\u001b[43m(\u001b[49m\u001b[43m)\u001b[49m               \u001b[38;5;66;03m# materializes the entire DF in cache\u001b[39;00m\n\u001b[1;32m      6\u001b[0m \u001b[38;5;66;03m# 2) Now overwrite the same location\u001b[39;00m\n\u001b[1;32m      7\u001b[0m df2\u001b[38;5;241m.\u001b[39mwrite\u001b[38;5;241m.\u001b[39mmode(\u001b[38;5;124m\"\u001b[39m\u001b[38;5;124moverwrite\u001b[39m\u001b[38;5;124m\"\u001b[39m) \\\n\u001b[1;32m      8\u001b[0m    \u001b[38;5;241m.\u001b[39mparquet(\u001b[38;5;124m\"\u001b[39m\u001b[38;5;124mparquet/20250323\u001b[39m\u001b[38;5;124m\"\u001b[39m)\n",
      "File \u001b[0;32m/usr/local/spark/python/pyspark/sql/dataframe.py:1238\u001b[0m, in \u001b[0;36mDataFrame.count\u001b[0;34m(self)\u001b[0m\n\u001b[1;32m   1215\u001b[0m \u001b[38;5;28;01mdef\u001b[39;00m \u001b[38;5;21mcount\u001b[39m(\u001b[38;5;28mself\u001b[39m) \u001b[38;5;241m-\u001b[39m\u001b[38;5;241m>\u001b[39m \u001b[38;5;28mint\u001b[39m:\n\u001b[1;32m   1216\u001b[0m \u001b[38;5;250m    \u001b[39m\u001b[38;5;124;03m\"\"\"Returns the number of rows in this :class:`DataFrame`.\u001b[39;00m\n\u001b[1;32m   1217\u001b[0m \n\u001b[1;32m   1218\u001b[0m \u001b[38;5;124;03m    .. versionadded:: 1.3.0\u001b[39;00m\n\u001b[0;32m   (...)\u001b[0m\n\u001b[1;32m   1236\u001b[0m \u001b[38;5;124;03m    3\u001b[39;00m\n\u001b[1;32m   1237\u001b[0m \u001b[38;5;124;03m    \"\"\"\u001b[39;00m\n\u001b[0;32m-> 1238\u001b[0m     \u001b[38;5;28;01mreturn\u001b[39;00m \u001b[38;5;28mint\u001b[39m(\u001b[38;5;28;43mself\u001b[39;49m\u001b[38;5;241;43m.\u001b[39;49m\u001b[43m_jdf\u001b[49m\u001b[38;5;241;43m.\u001b[39;49m\u001b[43mcount\u001b[49m\u001b[43m(\u001b[49m\u001b[43m)\u001b[49m)\n",
      "File \u001b[0;32m/usr/local/spark/python/lib/py4j-0.10.9.7-src.zip/py4j/java_gateway.py:1322\u001b[0m, in \u001b[0;36mJavaMember.__call__\u001b[0;34m(self, *args)\u001b[0m\n\u001b[1;32m   1316\u001b[0m command \u001b[38;5;241m=\u001b[39m proto\u001b[38;5;241m.\u001b[39mCALL_COMMAND_NAME \u001b[38;5;241m+\u001b[39m\\\n\u001b[1;32m   1317\u001b[0m     \u001b[38;5;28mself\u001b[39m\u001b[38;5;241m.\u001b[39mcommand_header \u001b[38;5;241m+\u001b[39m\\\n\u001b[1;32m   1318\u001b[0m     args_command \u001b[38;5;241m+\u001b[39m\\\n\u001b[1;32m   1319\u001b[0m     proto\u001b[38;5;241m.\u001b[39mEND_COMMAND_PART\n\u001b[1;32m   1321\u001b[0m answer \u001b[38;5;241m=\u001b[39m \u001b[38;5;28mself\u001b[39m\u001b[38;5;241m.\u001b[39mgateway_client\u001b[38;5;241m.\u001b[39msend_command(command)\n\u001b[0;32m-> 1322\u001b[0m return_value \u001b[38;5;241m=\u001b[39m \u001b[43mget_return_value\u001b[49m\u001b[43m(\u001b[49m\n\u001b[1;32m   1323\u001b[0m \u001b[43m    \u001b[49m\u001b[43manswer\u001b[49m\u001b[43m,\u001b[49m\u001b[43m \u001b[49m\u001b[38;5;28;43mself\u001b[39;49m\u001b[38;5;241;43m.\u001b[39;49m\u001b[43mgateway_client\u001b[49m\u001b[43m,\u001b[49m\u001b[43m \u001b[49m\u001b[38;5;28;43mself\u001b[39;49m\u001b[38;5;241;43m.\u001b[39;49m\u001b[43mtarget_id\u001b[49m\u001b[43m,\u001b[49m\u001b[43m \u001b[49m\u001b[38;5;28;43mself\u001b[39;49m\u001b[38;5;241;43m.\u001b[39;49m\u001b[43mname\u001b[49m\u001b[43m)\u001b[49m\n\u001b[1;32m   1325\u001b[0m \u001b[38;5;28;01mfor\u001b[39;00m temp_arg \u001b[38;5;129;01min\u001b[39;00m temp_args:\n\u001b[1;32m   1326\u001b[0m     \u001b[38;5;28;01mif\u001b[39;00m \u001b[38;5;28mhasattr\u001b[39m(temp_arg, \u001b[38;5;124m\"\u001b[39m\u001b[38;5;124m_detach\u001b[39m\u001b[38;5;124m\"\u001b[39m):\n",
      "File \u001b[0;32m/usr/local/spark/python/pyspark/errors/exceptions/captured.py:179\u001b[0m, in \u001b[0;36mcapture_sql_exception.<locals>.deco\u001b[0;34m(*a, **kw)\u001b[0m\n\u001b[1;32m    177\u001b[0m \u001b[38;5;28;01mdef\u001b[39;00m \u001b[38;5;21mdeco\u001b[39m(\u001b[38;5;241m*\u001b[39ma: Any, \u001b[38;5;241m*\u001b[39m\u001b[38;5;241m*\u001b[39mkw: Any) \u001b[38;5;241m-\u001b[39m\u001b[38;5;241m>\u001b[39m Any:\n\u001b[1;32m    178\u001b[0m     \u001b[38;5;28;01mtry\u001b[39;00m:\n\u001b[0;32m--> 179\u001b[0m         \u001b[38;5;28;01mreturn\u001b[39;00m \u001b[43mf\u001b[49m\u001b[43m(\u001b[49m\u001b[38;5;241;43m*\u001b[39;49m\u001b[43ma\u001b[49m\u001b[43m,\u001b[49m\u001b[43m \u001b[49m\u001b[38;5;241;43m*\u001b[39;49m\u001b[38;5;241;43m*\u001b[39;49m\u001b[43mkw\u001b[49m\u001b[43m)\u001b[49m\n\u001b[1;32m    180\u001b[0m     \u001b[38;5;28;01mexcept\u001b[39;00m Py4JJavaError \u001b[38;5;28;01mas\u001b[39;00m e:\n\u001b[1;32m    181\u001b[0m         converted \u001b[38;5;241m=\u001b[39m convert_exception(e\u001b[38;5;241m.\u001b[39mjava_exception)\n",
      "File \u001b[0;32m/usr/local/spark/python/lib/py4j-0.10.9.7-src.zip/py4j/protocol.py:326\u001b[0m, in \u001b[0;36mget_return_value\u001b[0;34m(answer, gateway_client, target_id, name)\u001b[0m\n\u001b[1;32m    324\u001b[0m value \u001b[38;5;241m=\u001b[39m OUTPUT_CONVERTER[\u001b[38;5;28mtype\u001b[39m](answer[\u001b[38;5;241m2\u001b[39m:], gateway_client)\n\u001b[1;32m    325\u001b[0m \u001b[38;5;28;01mif\u001b[39;00m answer[\u001b[38;5;241m1\u001b[39m] \u001b[38;5;241m==\u001b[39m REFERENCE_TYPE:\n\u001b[0;32m--> 326\u001b[0m     \u001b[38;5;28;01mraise\u001b[39;00m Py4JJavaError(\n\u001b[1;32m    327\u001b[0m         \u001b[38;5;124m\"\u001b[39m\u001b[38;5;124mAn error occurred while calling \u001b[39m\u001b[38;5;132;01m{0}\u001b[39;00m\u001b[38;5;132;01m{1}\u001b[39;00m\u001b[38;5;132;01m{2}\u001b[39;00m\u001b[38;5;124m.\u001b[39m\u001b[38;5;130;01m\\n\u001b[39;00m\u001b[38;5;124m\"\u001b[39m\u001b[38;5;241m.\u001b[39m\n\u001b[1;32m    328\u001b[0m         \u001b[38;5;28mformat\u001b[39m(target_id, \u001b[38;5;124m\"\u001b[39m\u001b[38;5;124m.\u001b[39m\u001b[38;5;124m\"\u001b[39m, name), value)\n\u001b[1;32m    329\u001b[0m \u001b[38;5;28;01melse\u001b[39;00m:\n\u001b[1;32m    330\u001b[0m     \u001b[38;5;28;01mraise\u001b[39;00m Py4JError(\n\u001b[1;32m    331\u001b[0m         \u001b[38;5;124m\"\u001b[39m\u001b[38;5;124mAn error occurred while calling \u001b[39m\u001b[38;5;132;01m{0}\u001b[39;00m\u001b[38;5;132;01m{1}\u001b[39;00m\u001b[38;5;132;01m{2}\u001b[39;00m\u001b[38;5;124m. Trace:\u001b[39m\u001b[38;5;130;01m\\n\u001b[39;00m\u001b[38;5;132;01m{3}\u001b[39;00m\u001b[38;5;130;01m\\n\u001b[39;00m\u001b[38;5;124m\"\u001b[39m\u001b[38;5;241m.\u001b[39m\n\u001b[1;32m    332\u001b[0m         \u001b[38;5;28mformat\u001b[39m(target_id, \u001b[38;5;124m\"\u001b[39m\u001b[38;5;124m.\u001b[39m\u001b[38;5;124m\"\u001b[39m, name, value))\n",
      "\u001b[0;31mPy4JJavaError\u001b[0m: An error occurred while calling o851.count.\n: org.apache.spark.SparkException: Job aborted due to stage failure: Task 0 in stage 368.0 failed 1 times, most recent failure: Lost task 0.0 in stage 368.0 (TID 233) (np-light-indigo-populus-db8d798cf-sbsv5 executor driver): org.apache.spark.SparkFileNotFoundException: File file:/home/jovyan/shared/Taher/parquet/20250323/part-00000-70719350-f19b-4f49-9c97-36dcad7803bd-c000.snappy.parquet does not exist\nIt is possible the underlying files have been updated. You can explicitly invalidate the cache in Spark by running 'REFRESH TABLE tableName' command in SQL or by recreating the Dataset/DataFrame involved.\n\tat org.apache.spark.sql.errors.QueryExecutionErrors$.readCurrentFileNotFoundError(QueryExecutionErrors.scala:780)\n\tat org.apache.spark.sql.execution.datasources.FileScanRDD$$anon$1.org$apache$spark$sql$execution$datasources$FileScanRDD$$anon$$readCurrentFile(FileScanRDD.scala:220)\n\tat org.apache.spark.sql.execution.datasources.FileScanRDD$$anon$1.nextIterator(FileScanRDD.scala:279)\n\tat org.apache.spark.sql.execution.datasources.FileScanRDD$$anon$1.hasNext(FileScanRDD.scala:129)\n\tat org.apache.spark.sql.execution.FileSourceScanExec$$anon$1.hasNext(DataSourceScanExec.scala:593)\n\tat org.apache.spark.sql.catalyst.expressions.GeneratedClass$GeneratedIteratorForCodegenStage1.columnartorow_nextBatch_0$(Unknown Source)\n\tat org.apache.spark.sql.catalyst.expressions.GeneratedClass$GeneratedIteratorForCodegenStage1.processNext(Unknown Source)\n\tat org.apache.spark.sql.execution.BufferedRowIterator.hasNext(BufferedRowIterator.java:43)\n\tat org.apache.spark.sql.execution.WholeStageCodegenEvaluatorFactory$WholeStageCodegenPartitionEvaluator$$anon$1.hasNext(WholeStageCodegenEvaluatorFactory.scala:43)\n\tat org.apache.spark.sql.execution.columnar.DefaultCachedBatchSerializer$$anon$1.hasNext(InMemoryRelation.scala:119)\n\tat org.apache.spark.sql.execution.columnar.CachedRDDBuilder$$anon$2.hasNext(InMemoryRelation.scala:288)\n\tat org.apache.spark.storage.memory.MemoryStore.putIterator(MemoryStore.scala:223)\n\tat org.apache.spark.storage.memory.MemoryStore.putIteratorAsValues(MemoryStore.scala:302)\n\tat org.apache.spark.storage.BlockManager.$anonfun$doPutIterator$1(BlockManager.scala:1597)\n\tat org.apache.spark.storage.BlockManager.org$apache$spark$storage$BlockManager$$doPut(BlockManager.scala:1524)\n\tat org.apache.spark.storage.BlockManager.doPutIterator(BlockManager.scala:1588)\n\tat org.apache.spark.storage.BlockManager.getOrElseUpdate(BlockManager.scala:1389)\n\tat org.apache.spark.storage.BlockManager.getOrElseUpdateRDDBlock(BlockManager.scala:1343)\n\tat org.apache.spark.rdd.RDD.getOrCompute(RDD.scala:379)\n\tat org.apache.spark.rdd.RDD.iterator(RDD.scala:329)\n\tat org.apache.spark.scheduler.ResultTask.runTask(ResultTask.scala:93)\n\tat org.apache.spark.TaskContext.runTaskWithListeners(TaskContext.scala:166)\n\tat org.apache.spark.scheduler.Task.run(Task.scala:141)\n\tat org.apache.spark.executor.Executor$TaskRunner.$anonfun$run$4(Executor.scala:620)\n\tat org.apache.spark.util.SparkErrorUtils.tryWithSafeFinally(SparkErrorUtils.scala:64)\n\tat org.apache.spark.util.SparkErrorUtils.tryWithSafeFinally$(SparkErrorUtils.scala:61)\n\tat org.apache.spark.util.Utils$.tryWithSafeFinally(Utils.scala:94)\n\tat org.apache.spark.executor.Executor$TaskRunner.run(Executor.scala:623)\n\tat java.base/java.util.concurrent.ThreadPoolExecutor.runWorker(ThreadPoolExecutor.java:1136)\n\tat java.base/java.util.concurrent.ThreadPoolExecutor$Worker.run(ThreadPoolExecutor.java:635)\n\tat java.base/java.lang.Thread.run(Thread.java:840)\n\nDriver stacktrace:\n\tat org.apache.spark.scheduler.DAGScheduler.failJobAndIndependentStages(DAGScheduler.scala:2856)\n\tat org.apache.spark.scheduler.DAGScheduler.$anonfun$abortStage$2(DAGScheduler.scala:2792)\n\tat org.apache.spark.scheduler.DAGScheduler.$anonfun$abortStage$2$adapted(DAGScheduler.scala:2791)\n\tat scala.collection.mutable.ResizableArray.foreach(ResizableArray.scala:62)\n\tat scala.collection.mutable.ResizableArray.foreach$(ResizableArray.scala:55)\n\tat scala.collection.mutable.ArrayBuffer.foreach(ArrayBuffer.scala:49)\n\tat org.apache.spark.scheduler.DAGScheduler.abortStage(DAGScheduler.scala:2791)\n\tat org.apache.spark.scheduler.DAGScheduler.$anonfun$handleTaskSetFailed$1(DAGScheduler.scala:1247)\n\tat org.apache.spark.scheduler.DAGScheduler.$anonfun$handleTaskSetFailed$1$adapted(DAGScheduler.scala:1247)\n\tat scala.Option.foreach(Option.scala:407)\n\tat org.apache.spark.scheduler.DAGScheduler.handleTaskSetFailed(DAGScheduler.scala:1247)\n\tat org.apache.spark.scheduler.DAGSchedulerEventProcessLoop.doOnReceive(DAGScheduler.scala:3060)\n\tat org.apache.spark.scheduler.DAGSchedulerEventProcessLoop.onReceive(DAGScheduler.scala:2994)\n\tat org.apache.spark.scheduler.DAGSchedulerEventProcessLoop.onReceive(DAGScheduler.scala:2983)\n\tat org.apache.spark.util.EventLoop$$anon$1.run(EventLoop.scala:49)\nCaused by: org.apache.spark.SparkFileNotFoundException: File file:/home/jovyan/shared/Taher/parquet/20250323/part-00000-70719350-f19b-4f49-9c97-36dcad7803bd-c000.snappy.parquet does not exist\nIt is possible the underlying files have been updated. You can explicitly invalidate the cache in Spark by running 'REFRESH TABLE tableName' command in SQL or by recreating the Dataset/DataFrame involved.\n\tat org.apache.spark.sql.errors.QueryExecutionErrors$.readCurrentFileNotFoundError(QueryExecutionErrors.scala:780)\n\tat org.apache.spark.sql.execution.datasources.FileScanRDD$$anon$1.org$apache$spark$sql$execution$datasources$FileScanRDD$$anon$$readCurrentFile(FileScanRDD.scala:220)\n\tat org.apache.spark.sql.execution.datasources.FileScanRDD$$anon$1.nextIterator(FileScanRDD.scala:279)\n\tat org.apache.spark.sql.execution.datasources.FileScanRDD$$anon$1.hasNext(FileScanRDD.scala:129)\n\tat org.apache.spark.sql.execution.FileSourceScanExec$$anon$1.hasNext(DataSourceScanExec.scala:593)\n\tat org.apache.spark.sql.catalyst.expressions.GeneratedClass$GeneratedIteratorForCodegenStage1.columnartorow_nextBatch_0$(Unknown Source)\n\tat org.apache.spark.sql.catalyst.expressions.GeneratedClass$GeneratedIteratorForCodegenStage1.processNext(Unknown Source)\n\tat org.apache.spark.sql.execution.BufferedRowIterator.hasNext(BufferedRowIterator.java:43)\n\tat org.apache.spark.sql.execution.WholeStageCodegenEvaluatorFactory$WholeStageCodegenPartitionEvaluator$$anon$1.hasNext(WholeStageCodegenEvaluatorFactory.scala:43)\n\tat org.apache.spark.sql.execution.columnar.DefaultCachedBatchSerializer$$anon$1.hasNext(InMemoryRelation.scala:119)\n\tat org.apache.spark.sql.execution.columnar.CachedRDDBuilder$$anon$2.hasNext(InMemoryRelation.scala:288)\n\tat org.apache.spark.storage.memory.MemoryStore.putIterator(MemoryStore.scala:223)\n\tat org.apache.spark.storage.memory.MemoryStore.putIteratorAsValues(MemoryStore.scala:302)\n\tat org.apache.spark.storage.BlockManager.$anonfun$doPutIterator$1(BlockManager.scala:1597)\n\tat org.apache.spark.storage.BlockManager.org$apache$spark$storage$BlockManager$$doPut(BlockManager.scala:1524)\n\tat org.apache.spark.storage.BlockManager.doPutIterator(BlockManager.scala:1588)\n\tat org.apache.spark.storage.BlockManager.getOrElseUpdate(BlockManager.scala:1389)\n\tat org.apache.spark.storage.BlockManager.getOrElseUpdateRDDBlock(BlockManager.scala:1343)\n\tat org.apache.spark.rdd.RDD.getOrCompute(RDD.scala:379)\n\tat org.apache.spark.rdd.RDD.iterator(RDD.scala:329)\n\tat org.apache.spark.scheduler.ResultTask.runTask(ResultTask.scala:93)\n\tat org.apache.spark.TaskContext.runTaskWithListeners(TaskContext.scala:166)\n\tat org.apache.spark.scheduler.Task.run(Task.scala:141)\n\tat org.apache.spark.executor.Executor$TaskRunner.$anonfun$run$4(Executor.scala:620)\n\tat org.apache.spark.util.SparkErrorUtils.tryWithSafeFinally(SparkErrorUtils.scala:64)\n\tat org.apache.spark.util.SparkErrorUtils.tryWithSafeFinally$(SparkErrorUtils.scala:61)\n\tat org.apache.spark.util.Utils$.tryWithSafeFinally(Utils.scala:94)\n\tat org.apache.spark.executor.Executor$TaskRunner.run(Executor.scala:623)\n\tat java.base/java.util.concurrent.ThreadPoolExecutor.runWorker(ThreadPoolExecutor.java:1136)\n\tat java.base/java.util.concurrent.ThreadPoolExecutor$Worker.run(ThreadPoolExecutor.java:635)\n\tat java.base/java.lang.Thread.run(Thread.java:840)\n"
     ]
    }
   ],
   "source": [
    "from pyspark.sql.functions import count\n",
    "\n",
    "# 1) Cache and trigger an action\n",
    "df2.cache()\n",
    "df2.count()               # materializes the entire DF in cache\n",
    "\n",
    "# 2) Now overwrite the same location\n",
    "df2.write.mode(\"overwrite\") \\\n",
    "   .parquet(\"parquet/20250323\")\n"
   ]
  },
  {
   "cell_type": "code",
   "execution_count": null,
   "id": "5e0d1aec-2454-411f-882f-875deece68d4",
   "metadata": {},
   "outputs": [],
   "source": []
  },
  {
   "cell_type": "code",
   "execution_count": null,
   "id": "5cf7317c-feb7-4475-93ae-fc53f48031ce",
   "metadata": {},
   "outputs": [],
   "source": []
  },
  {
   "cell_type": "code",
   "execution_count": null,
   "id": "485ce6ee-633a-461e-b467-73530f78e215",
   "metadata": {},
   "outputs": [],
   "source": []
  },
  {
   "cell_type": "code",
   "execution_count": null,
   "id": "30c35755-a078-44c1-a58f-89bb77688e47",
   "metadata": {},
   "outputs": [],
   "source": []
  },
  {
   "cell_type": "code",
   "execution_count": null,
   "id": "b6227994-df2e-4499-8ed8-d7844d614d4a",
   "metadata": {},
   "outputs": [],
   "source": []
  }
 ],
 "metadata": {
  "kernelspec": {
   "display_name": "Python 3 (ipykernel)",
   "language": "python",
   "name": "python3"
  },
  "language_info": {
   "codemirror_mode": {
    "name": "ipython",
    "version": 3
   },
   "file_extension": ".py",
   "mimetype": "text/x-python",
   "name": "python",
   "nbconvert_exporter": "python",
   "pygments_lexer": "ipython3",
   "version": "3.11.9"
  }
 },
 "nbformat": 4,
 "nbformat_minor": 5
}
